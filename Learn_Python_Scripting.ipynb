{
  "nbformat": 4,
  "nbformat_minor": 0,
  "metadata": {
    "colab": {
      "name": "Learn Python Scripting.ipynb",
      "provenance": [],
      "include_colab_link": true
    },
    "kernelspec": {
      "name": "python3",
      "display_name": "Python 3"
    },
    "language_info": {
      "name": "python"
    }
  },
  "cells": [
    {
      "cell_type": "markdown",
      "metadata": {
        "id": "view-in-github",
        "colab_type": "text"
      },
      "source": [
        "<a href=\"https://colab.research.google.com/github/EvanWAppel/work-examples/blob/main/Learn_Python_Scripting.ipynb\" target=\"_parent\"><img src=\"https://colab.research.google.com/assets/colab-badge.svg\" alt=\"Open In Colab\"/></a>"
      ]
    },
    {
      "cell_type": "markdown",
      "source": [
        "# How to start scripting Python in an hour!"
      ],
      "metadata": {
        "id": "MJ8umcrmqvRD"
      }
    },
    {
      "cell_type": "markdown",
      "source": [
        "Hey, welcome to my seminar. \n",
        "\n",
        "This is a Colaboratory notebook. Code notebooks have been around for a long time\n",
        "but Colaboratory is the free version that Google offers as part of the G-Suite.\n",
        "\n",
        "Python notebooks are designed to give you amazing storytelling powers. \n",
        "\n",
        "You can write rudimentary applications.\n",
        "\n",
        "And if your really want to ruin your life, you can learn how to use a notebook to design artificial intelligence and run machine learning algorithms.\n",
        "\n",
        "But, it's also a very effective way to get your own thoughts straight."
      ],
      "metadata": {
        "id": "RZOuxfFFq3Jr"
      }
    },
    {
      "cell_type": "markdown",
      "source": [
        "First, while I'm desperately trying to wrangle the class into order, please go up to File and select \"Save a Copy in Drive\". This will separate out your notebook from everyone else'. \n",
        "\n",
        "Also, feel free to use the [Code-Only notebook](https://colab.research.google.com/drive/1UnQJrFfhZJ6KkqcRigkJ6aPpUEPTqJeZ#scrollTo=htwInhEkK6G6), just be sure to branch off from the original!\n",
        "\n",
        "Now, you have your own functional notebook. Rename it something to commemorate your entry into the wide world of computer programming!"
      ],
      "metadata": {
        "id": "35b2TD9tsB8F"
      }
    },
    {
      "cell_type": "markdown",
      "source": [
        "You're going to learn five things today:\n",
        "\n",
        "\n",
        "*   What is a coding environment?\n",
        "*   How do I get data into this environment?\n",
        "*   When I have my data in the environment, what can I do with it?\n",
        "*   Can I make the data look pretty?\n",
        "*   How do I get data out of the environment?\n",
        "\n"
      ],
      "metadata": {
        "id": "-ewV2HVCsyQl"
      }
    },
    {
      "cell_type": "markdown",
      "source": [
        "![image.png](https://imgs.xkcd.com/comics/python.png)"
      ],
      "metadata": {
        "id": "M_gKWqmotaWc"
      }
    },
    {
      "cell_type": "code",
      "source": [
        "from google.colab import drive\n",
        "drive.mount('/content/drive')"
      ],
      "metadata": {
        "colab": {
          "base_uri": "https://localhost:8080/"
        },
        "id": "ICtozfYO_7ch",
        "outputId": "4a12e40b-b742-419c-e8b5-74b8f27d002b"
      },
      "execution_count": null,
      "outputs": [
        {
          "output_type": "stream",
          "name": "stdout",
          "text": [
            "Mounted at /content/drive\n"
          ]
        }
      ]
    },
    {
      "cell_type": "markdown",
      "source": [
        "If you choose to go out into the world and contribute the the GREATER CODEBASE, then these three qualities will do you a good turn:\n",
        "\n",
        "\n",
        "*   A nearly pedantic sense of semantics\n",
        "*   Stubborn, intractable curiosity\n",
        "*   And the moral elasticity to plagiarize pretty much anything that you set your twinkling eyes upon.\n"
      ],
      "metadata": {
        "id": "8TRsFYLHxJPc"
      }
    },
    {
      "cell_type": "markdown",
      "source": [
        "# Importation Step"
      ],
      "metadata": {
        "id": "bVVSafoR2gtl"
      }
    },
    {
      "cell_type": "markdown",
      "source": [
        "## Libraries"
      ],
      "metadata": {
        "id": "ecYb0KodIAxn"
      }
    },
    {
      "cell_type": "markdown",
      "source": [
        "Pandas is a library that helps you make table-like data structures, which are conceptually similar to spreadsheets and make for easy translation.\n",
        "[Documentation for Pandas](https://pandas.pydata.org/docs/getting_started/comparison/index.html)\n",
        "\n",
        "\"from google.colab import files\" is a special library reference that helps colaboratory read files.\n",
        "\n",
        "Plotly is a library for making visualizations and charts right in the notebook. [Plotly Documentation](https://plotly.com/python/)\n",
        "\n",
        "Dates are so byzantine that you basically need a whole library to deal with their endless petty details. Hence, we need \"datetime.\"\n",
        "\n",
        "NUMPY is helpful for dealing with numbers in python notebooks. Get in the habit of adding it to your list of imports just in case. Trust me, you will eventually need it."
      ],
      "metadata": {
        "id": "d0dNY4u7UUe4"
      }
    },
    {
      "cell_type": "markdown",
      "source": [
        "## Options"
      ],
      "metadata": {
        "id": "N-zNPVMsIPXv"
      }
    },
    {
      "cell_type": "markdown",
      "source": [
        "Right out of the box the notebook and libraries will have their own way of doing things, but if you find something inconvenient, look up the options and see if you might change something.\n",
        "\n",
        "[Pandas options](https://pandas.pydata.org/docs/user_guide/options.html)\n",
        "\n",
        "For example: vanilla pandas produces tables that are truncated after eight columns. We deal with column counts that often exceed a couple dozen, so I set the max column display to \"None\" meaning that there is no limit.\n",
        "\n",
        "Similarly, I set the display width to be longer because I often use the whole page, not just a half-window.\n",
        "\n",
        "Take it or leave it, it's optional!"
      ],
      "metadata": {
        "id": "sclYL61jIZaR"
      }
    },
    {
      "cell_type": "code",
      "execution_count": null,
      "metadata": {
        "id": "aisE1r6V2cei"
      },
      "outputs": [],
      "source": [
        "# CELL 1\n",
        "import pandas as pd\n",
        "from google.colab import files \n",
        "import plotly.express as px\n",
        "import datetime as datetime\n",
        "import numpy as np\n",
        "pd.set_option('display.max_columns', None)\n",
        "pd.set_option('display.width', 800)"
      ]
    },
    {
      "cell_type": "markdown",
      "source": [
        "# Ingestion Step"
      ],
      "metadata": {
        "id": "dnAvRzHf3X9V"
      }
    },
    {
      "cell_type": "markdown",
      "source": [
        "Okay, so we want to take a CSV and turn it into something we can manipulate. That CSV needs to become an OBJECT called a DATAFRAME. We're going to want to give that dataframe a name by assigning it to a VARIABLE. \n",
        "\n",
        "Remember how we were all taught the \"=\" means equals? Well, not anymore. In Python \"=\" means you're assigning a variable. \"==\" means equals. If this is upsetting to you, then you understand why coders have that twitchy quality."
      ],
      "metadata": {
        "id": "8Vh2xbcCYAdg"
      }
    },
    {
      "cell_type": "code",
      "source": [
        "# CELL 2\n",
        "customers = pd.read_csv(\"customers-learningset.csv\")"
      ],
      "metadata": {
        "id": "bvVspzmc30CN"
      },
      "execution_count": null,
      "outputs": []
    },
    {
      "cell_type": "markdown",
      "source": [
        "We create a variable called customers then assign something to it, in this case a function that READs the data into a DATAFRAME!\n",
        "\n",
        "Now, let's see what we've done!"
      ],
      "metadata": {
        "id": "-2GFiEp9Y7h7"
      }
    },
    {
      "cell_type": "code",
      "source": [
        "# CELL 3\n",
        "print(customers.head())"
      ],
      "metadata": {
        "id": "lR8hZsSFZX6Q",
        "colab": {
          "base_uri": "https://localhost:8080/"
        },
        "outputId": "86553a4f-6a8a-498a-f469-9ba1592d1920"
      },
      "execution_count": null,
      "outputs": [
        {
          "output_type": "stream",
          "name": "stdout",
          "text": [
            "   Unnamed: 0       Customer ID Phone Type Phone First Name               Date Created ID Type\n",
            "0           0  7103422184752028     MOBILE           ELAYNA  2 Jan 2022 00:03:57 +0000     NaN\n",
            "1           1  7103422184752480     MOBILE        Tzanninis  2 Jan 2022 00:04:33 +0000     NaN\n",
            "2           2  7103422184753244     MOBILE          STAPLES  2 Jan 2022 00:06:10 +0000     NaN\n",
            "3           3  7103422184754068     MOBILE                A  2 Jan 2022 00:07:08 +0000     NaN\n",
            "4           4  7103422184755565     MOBILE              NaN  2 Jan 2022 00:10:17 +0000     NaN\n"
          ]
        }
      ]
    },
    {
      "cell_type": "markdown",
      "source": [
        "Wow! that was easy! Only two lines and we've got a data table ready to fuss with for hours!\n",
        "\n",
        "Also, just for funsies, put a number inbetween the parentheses after the head() method! Then see what happens when you run it again."
      ],
      "metadata": {
        "id": "d_yeL2FZZdT5"
      }
    },
    {
      "cell_type": "markdown",
      "source": [
        "# Transformation Step"
      ],
      "metadata": {
        "id": "gMRyco9C3aXH"
      }
    },
    {
      "cell_type": "markdown",
      "source": [
        "Now, let's start manipulating our table. This is the core of data science. \n",
        "\n",
        "Let's say that we want to make another table that's just the daily count of new customers per day."
      ],
      "metadata": {
        "id": "P4DKFWfoIqIm"
      }
    },
    {
      "cell_type": "markdown",
      "source": [
        "\n",
        "\n",
        "## Data Types\n",
        "\n",
        "First step is to find the column that indicates a new customer. This happens to be the \"Date Created\" column. The problem with this column is that its DATATYPE is TIMESTAMP, which is not very helpful for AGGREGATION. We want just a straight date.\n",
        "\n",
        "NB: The difference between METHODS and FUNCTIONS are that methods are applied to OBJECTS, but OBJECTS are ARGUMENTS for FUNCTIONS. (This will become more clear later!)"
      ],
      "metadata": {
        "id": "lsLIZ42sahlt"
      }
    },
    {
      "cell_type": "code",
      "source": [
        "# CELL 4\n",
        "customers = customers.assign(date = pd.to_datetime(customers['Date Created']).dt.date)"
      ],
      "metadata": {
        "id": "URbVZdwUb3hM"
      },
      "execution_count": null,
      "outputs": []
    },
    {
      "cell_type": "markdown",
      "source": [
        "Start out with the dataframe variable and assign a new column using the assign method.\n",
        "\n",
        "The assign method takes one ARGUMENT that's basically the name of the new column, an equals sign and what should go into the column. Here, we're going to use a function to turn the Date Created column into a DATETIME DATATYPE and then applying a method to turn it into just a DATE.\n",
        "\n",
        "Did I warn you about dates or did I warn you?\n",
        "\n",
        "## Aggregation\n",
        "\n",
        "Aggregation, at its core, is when we take a column in a table and perform a mathematical operation on the whole thing. Like, adding up all the items in the \"sales\" column.\" \n",
        "\n",
        "Here, we want to COUNT all of the items in the table. But, we want to know what that count is by date! This requires GROUPING.\n",
        "\n",
        "We start with a new variable to preserve the data in customers, which we don't want to overwrite then we apply the groupby method and pass it one argument: a LIST (marked by square brackets) of the columns we want to use as DIMENSIONS and a keyword argument called as_index and mark it False. This keyword argument establishes the INDEX of the table\n",
        "\n",
        "(Note the little counter beside the table when we print it.)\n",
        "\n",
        "Now we apply the .agg() method to this object we're chaining together. It takes one argument: a DICTIONARY (marked by curly braces) Dictionaries are sets of key-value pairs separated by a colon, themselves separated by commas the key is the name of the METRIC to be aggregated the value is the mathematical operation to be performed."
      ],
      "metadata": {
        "id": "SIz1abObcFll"
      }
    },
    {
      "cell_type": "code",
      "source": [
        "# CELL 5\n",
        "cust = customers.groupby(['date'],as_index = False).agg({'Customer ID':np.size})\n",
        "print(cust.head())"
      ],
      "metadata": {
        "id": "v0m3Yt_Y30tn",
        "colab": {
          "base_uri": "https://localhost:8080/"
        },
        "outputId": "e3f8902b-e1d1-4c72-f0f5-3cba63e5d152"
      },
      "execution_count": null,
      "outputs": [
        {
          "output_type": "stream",
          "name": "stdout",
          "text": [
            "         date  Customer ID\n",
            "0  2022-01-02          344\n",
            "1  2022-01-03          456\n",
            "2  2022-01-04          505\n",
            "3  2022-01-05          506\n",
            "4  2022-01-06          471\n"
          ]
        }
      ]
    },
    {
      "cell_type": "markdown",
      "source": [
        "So now we have a dataframe. Notice one of our columns is called \"Count.\" We're going to want to change that with the rename method.\n",
        "\n",
        "Notice that the .rename() method takes one keyword-argument, which takes a dictionary as its parameter. The key is the old column name, the value is what you want to call it.\n"
      ],
      "metadata": {
        "id": "eA-6x-_eErhF"
      }
    },
    {
      "cell_type": "code",
      "source": [
        "# CELL 6\n",
        "cust = cust.rename(columns={'Customer ID':'count'})"
      ],
      "metadata": {
        "id": "lTW2VSfzFCCR"
      },
      "execution_count": null,
      "outputs": []
    },
    {
      "cell_type": "markdown",
      "source": [
        "# Visualization Step"
      ],
      "metadata": {
        "id": "faRY5Yu1v3wt"
      }
    },
    {
      "cell_type": "markdown",
      "source": [
        "Now let's make it pretty.\n",
        "\n",
        "We'll start with a new variable that we can call.\n",
        "\n",
        "Then, we're going to use the bar() function to construct our bar graph.\n",
        "\n",
        "It takes three arguments:\n",
        "\n",
        "* a dataframe, \n",
        "* an x-axis value and a y-axis value\n",
        "\n",
        "Then, we use the show() method to display it.\n",
        "\n",
        "Easier than a rum-punched gringo in the sun, as ol' Ma Webster is wont to say..."
      ],
      "metadata": {
        "id": "myUKoUa9GSUf"
      }
    },
    {
      "cell_type": "code",
      "source": [
        "# CELL 7\n",
        "fig = px.bar(cust, x='date', y='count')\n",
        "fig.show()"
      ],
      "metadata": {
        "colab": {
          "base_uri": "https://localhost:8080/",
          "height": 542
        },
        "id": "V6jzQqbD2scY",
        "outputId": "b57a1a20-9e8c-4456-c493-cf5886478657"
      },
      "execution_count": null,
      "outputs": [
        {
          "output_type": "display_data",
          "data": {
            "text/html": [
              "<html>\n",
              "<head><meta charset=\"utf-8\" /></head>\n",
              "<body>\n",
              "    <div>            <script src=\"https://cdnjs.cloudflare.com/ajax/libs/mathjax/2.7.5/MathJax.js?config=TeX-AMS-MML_SVG\"></script><script type=\"text/javascript\">if (window.MathJax) {MathJax.Hub.Config({SVG: {font: \"STIX-Web\"}});}</script>                <script type=\"text/javascript\">window.PlotlyConfig = {MathJaxConfig: 'local'};</script>\n",
              "        <script src=\"https://cdn.plot.ly/plotly-2.8.3.min.js\"></script>                <div id=\"e4508bfc-1372-4694-9591-3be4ed02520c\" class=\"plotly-graph-div\" style=\"height:525px; width:100%;\"></div>            <script type=\"text/javascript\">                                    window.PLOTLYENV=window.PLOTLYENV || {};                                    if (document.getElementById(\"e4508bfc-1372-4694-9591-3be4ed02520c\")) {                    Plotly.newPlot(                        \"e4508bfc-1372-4694-9591-3be4ed02520c\",                        [{\"alignmentgroup\":\"True\",\"hovertemplate\":\"date=%{x}<br>count=%{y}<extra></extra>\",\"legendgroup\":\"\",\"marker\":{\"color\":\"#636efa\",\"pattern\":{\"shape\":\"\"}},\"name\":\"\",\"offsetgroup\":\"\",\"orientation\":\"v\",\"showlegend\":false,\"textposition\":\"auto\",\"x\":[\"2022-01-02\",\"2022-01-03\",\"2022-01-04\",\"2022-01-05\",\"2022-01-06\",\"2022-01-07\",\"2022-01-08\",\"2022-01-09\",\"2022-01-10\",\"2022-01-11\",\"2022-01-12\",\"2022-01-13\",\"2022-01-14\",\"2022-01-15\",\"2022-01-16\",\"2022-01-17\",\"2022-01-18\",\"2022-01-19\",\"2022-01-20\",\"2022-01-21\",\"2022-01-22\",\"2022-01-23\",\"2022-01-24\",\"2022-01-25\",\"2022-01-26\",\"2022-01-27\",\"2022-01-28\",\"2022-01-29\",\"2022-01-30\",\"2022-01-31\",\"2022-02-01\",\"2022-02-02\",\"2022-02-03\",\"2022-02-04\",\"2022-02-05\",\"2022-02-06\",\"2022-02-07\",\"2022-02-08\",\"2022-02-09\",\"2022-02-10\",\"2022-02-11\",\"2022-02-12\",\"2022-02-13\",\"2022-02-14\",\"2022-02-15\",\"2022-02-16\",\"2022-02-17\",\"2022-02-18\",\"2022-02-19\",\"2022-02-20\",\"2022-02-21\",\"2022-02-22\",\"2022-02-23\",\"2022-02-24\",\"2022-02-25\",\"2022-02-26\",\"2022-02-27\",\"2022-02-28\",\"2022-03-01\"],\"xaxis\":\"x\",\"y\":[344,456,505,506,471,514,474,384,425,457,479,499,506,502,423,359,440,429,461,491,503,365,453,516,442,433,508,476,383,382,414,446,460,474,449,358,502,414,473,478,510,508,344,390,430,462,422,480,522,413,417,429,447,440,496,523,369,451,415],\"yaxis\":\"y\",\"type\":\"bar\"}],                        {\"template\":{\"data\":{\"bar\":[{\"error_x\":{\"color\":\"#2a3f5f\"},\"error_y\":{\"color\":\"#2a3f5f\"},\"marker\":{\"line\":{\"color\":\"#E5ECF6\",\"width\":0.5},\"pattern\":{\"fillmode\":\"overlay\",\"size\":10,\"solidity\":0.2}},\"type\":\"bar\"}],\"barpolar\":[{\"marker\":{\"line\":{\"color\":\"#E5ECF6\",\"width\":0.5},\"pattern\":{\"fillmode\":\"overlay\",\"size\":10,\"solidity\":0.2}},\"type\":\"barpolar\"}],\"carpet\":[{\"aaxis\":{\"endlinecolor\":\"#2a3f5f\",\"gridcolor\":\"white\",\"linecolor\":\"white\",\"minorgridcolor\":\"white\",\"startlinecolor\":\"#2a3f5f\"},\"baxis\":{\"endlinecolor\":\"#2a3f5f\",\"gridcolor\":\"white\",\"linecolor\":\"white\",\"minorgridcolor\":\"white\",\"startlinecolor\":\"#2a3f5f\"},\"type\":\"carpet\"}],\"choropleth\":[{\"colorbar\":{\"outlinewidth\":0,\"ticks\":\"\"},\"type\":\"choropleth\"}],\"contour\":[{\"colorbar\":{\"outlinewidth\":0,\"ticks\":\"\"},\"colorscale\":[[0.0,\"#0d0887\"],[0.1111111111111111,\"#46039f\"],[0.2222222222222222,\"#7201a8\"],[0.3333333333333333,\"#9c179e\"],[0.4444444444444444,\"#bd3786\"],[0.5555555555555556,\"#d8576b\"],[0.6666666666666666,\"#ed7953\"],[0.7777777777777778,\"#fb9f3a\"],[0.8888888888888888,\"#fdca26\"],[1.0,\"#f0f921\"]],\"type\":\"contour\"}],\"contourcarpet\":[{\"colorbar\":{\"outlinewidth\":0,\"ticks\":\"\"},\"type\":\"contourcarpet\"}],\"heatmap\":[{\"colorbar\":{\"outlinewidth\":0,\"ticks\":\"\"},\"colorscale\":[[0.0,\"#0d0887\"],[0.1111111111111111,\"#46039f\"],[0.2222222222222222,\"#7201a8\"],[0.3333333333333333,\"#9c179e\"],[0.4444444444444444,\"#bd3786\"],[0.5555555555555556,\"#d8576b\"],[0.6666666666666666,\"#ed7953\"],[0.7777777777777778,\"#fb9f3a\"],[0.8888888888888888,\"#fdca26\"],[1.0,\"#f0f921\"]],\"type\":\"heatmap\"}],\"heatmapgl\":[{\"colorbar\":{\"outlinewidth\":0,\"ticks\":\"\"},\"colorscale\":[[0.0,\"#0d0887\"],[0.1111111111111111,\"#46039f\"],[0.2222222222222222,\"#7201a8\"],[0.3333333333333333,\"#9c179e\"],[0.4444444444444444,\"#bd3786\"],[0.5555555555555556,\"#d8576b\"],[0.6666666666666666,\"#ed7953\"],[0.7777777777777778,\"#fb9f3a\"],[0.8888888888888888,\"#fdca26\"],[1.0,\"#f0f921\"]],\"type\":\"heatmapgl\"}],\"histogram\":[{\"marker\":{\"pattern\":{\"fillmode\":\"overlay\",\"size\":10,\"solidity\":0.2}},\"type\":\"histogram\"}],\"histogram2d\":[{\"colorbar\":{\"outlinewidth\":0,\"ticks\":\"\"},\"colorscale\":[[0.0,\"#0d0887\"],[0.1111111111111111,\"#46039f\"],[0.2222222222222222,\"#7201a8\"],[0.3333333333333333,\"#9c179e\"],[0.4444444444444444,\"#bd3786\"],[0.5555555555555556,\"#d8576b\"],[0.6666666666666666,\"#ed7953\"],[0.7777777777777778,\"#fb9f3a\"],[0.8888888888888888,\"#fdca26\"],[1.0,\"#f0f921\"]],\"type\":\"histogram2d\"}],\"histogram2dcontour\":[{\"colorbar\":{\"outlinewidth\":0,\"ticks\":\"\"},\"colorscale\":[[0.0,\"#0d0887\"],[0.1111111111111111,\"#46039f\"],[0.2222222222222222,\"#7201a8\"],[0.3333333333333333,\"#9c179e\"],[0.4444444444444444,\"#bd3786\"],[0.5555555555555556,\"#d8576b\"],[0.6666666666666666,\"#ed7953\"],[0.7777777777777778,\"#fb9f3a\"],[0.8888888888888888,\"#fdca26\"],[1.0,\"#f0f921\"]],\"type\":\"histogram2dcontour\"}],\"mesh3d\":[{\"colorbar\":{\"outlinewidth\":0,\"ticks\":\"\"},\"type\":\"mesh3d\"}],\"parcoords\":[{\"line\":{\"colorbar\":{\"outlinewidth\":0,\"ticks\":\"\"}},\"type\":\"parcoords\"}],\"pie\":[{\"automargin\":true,\"type\":\"pie\"}],\"scatter\":[{\"marker\":{\"colorbar\":{\"outlinewidth\":0,\"ticks\":\"\"}},\"type\":\"scatter\"}],\"scatter3d\":[{\"line\":{\"colorbar\":{\"outlinewidth\":0,\"ticks\":\"\"}},\"marker\":{\"colorbar\":{\"outlinewidth\":0,\"ticks\":\"\"}},\"type\":\"scatter3d\"}],\"scattercarpet\":[{\"marker\":{\"colorbar\":{\"outlinewidth\":0,\"ticks\":\"\"}},\"type\":\"scattercarpet\"}],\"scattergeo\":[{\"marker\":{\"colorbar\":{\"outlinewidth\":0,\"ticks\":\"\"}},\"type\":\"scattergeo\"}],\"scattergl\":[{\"marker\":{\"colorbar\":{\"outlinewidth\":0,\"ticks\":\"\"}},\"type\":\"scattergl\"}],\"scattermapbox\":[{\"marker\":{\"colorbar\":{\"outlinewidth\":0,\"ticks\":\"\"}},\"type\":\"scattermapbox\"}],\"scatterpolar\":[{\"marker\":{\"colorbar\":{\"outlinewidth\":0,\"ticks\":\"\"}},\"type\":\"scatterpolar\"}],\"scatterpolargl\":[{\"marker\":{\"colorbar\":{\"outlinewidth\":0,\"ticks\":\"\"}},\"type\":\"scatterpolargl\"}],\"scatterternary\":[{\"marker\":{\"colorbar\":{\"outlinewidth\":0,\"ticks\":\"\"}},\"type\":\"scatterternary\"}],\"surface\":[{\"colorbar\":{\"outlinewidth\":0,\"ticks\":\"\"},\"colorscale\":[[0.0,\"#0d0887\"],[0.1111111111111111,\"#46039f\"],[0.2222222222222222,\"#7201a8\"],[0.3333333333333333,\"#9c179e\"],[0.4444444444444444,\"#bd3786\"],[0.5555555555555556,\"#d8576b\"],[0.6666666666666666,\"#ed7953\"],[0.7777777777777778,\"#fb9f3a\"],[0.8888888888888888,\"#fdca26\"],[1.0,\"#f0f921\"]],\"type\":\"surface\"}],\"table\":[{\"cells\":{\"fill\":{\"color\":\"#EBF0F8\"},\"line\":{\"color\":\"white\"}},\"header\":{\"fill\":{\"color\":\"#C8D4E3\"},\"line\":{\"color\":\"white\"}},\"type\":\"table\"}]},\"layout\":{\"annotationdefaults\":{\"arrowcolor\":\"#2a3f5f\",\"arrowhead\":0,\"arrowwidth\":1},\"autotypenumbers\":\"strict\",\"coloraxis\":{\"colorbar\":{\"outlinewidth\":0,\"ticks\":\"\"}},\"colorscale\":{\"diverging\":[[0,\"#8e0152\"],[0.1,\"#c51b7d\"],[0.2,\"#de77ae\"],[0.3,\"#f1b6da\"],[0.4,\"#fde0ef\"],[0.5,\"#f7f7f7\"],[0.6,\"#e6f5d0\"],[0.7,\"#b8e186\"],[0.8,\"#7fbc41\"],[0.9,\"#4d9221\"],[1,\"#276419\"]],\"sequential\":[[0.0,\"#0d0887\"],[0.1111111111111111,\"#46039f\"],[0.2222222222222222,\"#7201a8\"],[0.3333333333333333,\"#9c179e\"],[0.4444444444444444,\"#bd3786\"],[0.5555555555555556,\"#d8576b\"],[0.6666666666666666,\"#ed7953\"],[0.7777777777777778,\"#fb9f3a\"],[0.8888888888888888,\"#fdca26\"],[1.0,\"#f0f921\"]],\"sequentialminus\":[[0.0,\"#0d0887\"],[0.1111111111111111,\"#46039f\"],[0.2222222222222222,\"#7201a8\"],[0.3333333333333333,\"#9c179e\"],[0.4444444444444444,\"#bd3786\"],[0.5555555555555556,\"#d8576b\"],[0.6666666666666666,\"#ed7953\"],[0.7777777777777778,\"#fb9f3a\"],[0.8888888888888888,\"#fdca26\"],[1.0,\"#f0f921\"]]},\"colorway\":[\"#636efa\",\"#EF553B\",\"#00cc96\",\"#ab63fa\",\"#FFA15A\",\"#19d3f3\",\"#FF6692\",\"#B6E880\",\"#FF97FF\",\"#FECB52\"],\"font\":{\"color\":\"#2a3f5f\"},\"geo\":{\"bgcolor\":\"white\",\"lakecolor\":\"white\",\"landcolor\":\"#E5ECF6\",\"showlakes\":true,\"showland\":true,\"subunitcolor\":\"white\"},\"hoverlabel\":{\"align\":\"left\"},\"hovermode\":\"closest\",\"mapbox\":{\"style\":\"light\"},\"paper_bgcolor\":\"white\",\"plot_bgcolor\":\"#E5ECF6\",\"polar\":{\"angularaxis\":{\"gridcolor\":\"white\",\"linecolor\":\"white\",\"ticks\":\"\"},\"bgcolor\":\"#E5ECF6\",\"radialaxis\":{\"gridcolor\":\"white\",\"linecolor\":\"white\",\"ticks\":\"\"}},\"scene\":{\"xaxis\":{\"backgroundcolor\":\"#E5ECF6\",\"gridcolor\":\"white\",\"gridwidth\":2,\"linecolor\":\"white\",\"showbackground\":true,\"ticks\":\"\",\"zerolinecolor\":\"white\"},\"yaxis\":{\"backgroundcolor\":\"#E5ECF6\",\"gridcolor\":\"white\",\"gridwidth\":2,\"linecolor\":\"white\",\"showbackground\":true,\"ticks\":\"\",\"zerolinecolor\":\"white\"},\"zaxis\":{\"backgroundcolor\":\"#E5ECF6\",\"gridcolor\":\"white\",\"gridwidth\":2,\"linecolor\":\"white\",\"showbackground\":true,\"ticks\":\"\",\"zerolinecolor\":\"white\"}},\"shapedefaults\":{\"line\":{\"color\":\"#2a3f5f\"}},\"ternary\":{\"aaxis\":{\"gridcolor\":\"white\",\"linecolor\":\"white\",\"ticks\":\"\"},\"baxis\":{\"gridcolor\":\"white\",\"linecolor\":\"white\",\"ticks\":\"\"},\"bgcolor\":\"#E5ECF6\",\"caxis\":{\"gridcolor\":\"white\",\"linecolor\":\"white\",\"ticks\":\"\"}},\"title\":{\"x\":0.05},\"xaxis\":{\"automargin\":true,\"gridcolor\":\"white\",\"linecolor\":\"white\",\"ticks\":\"\",\"title\":{\"standoff\":15},\"zerolinecolor\":\"white\",\"zerolinewidth\":2},\"yaxis\":{\"automargin\":true,\"gridcolor\":\"white\",\"linecolor\":\"white\",\"ticks\":\"\",\"title\":{\"standoff\":15},\"zerolinecolor\":\"white\",\"zerolinewidth\":2}}},\"xaxis\":{\"anchor\":\"y\",\"domain\":[0.0,1.0],\"title\":{\"text\":\"date\"}},\"yaxis\":{\"anchor\":\"x\",\"domain\":[0.0,1.0],\"title\":{\"text\":\"count\"}},\"legend\":{\"tracegroupgap\":0},\"margin\":{\"t\":60},\"barmode\":\"relative\"},                        {\"responsive\": true}                    ).then(function(){\n",
              "                            \n",
              "var gd = document.getElementById('e4508bfc-1372-4694-9591-3be4ed02520c');\n",
              "var x = new MutationObserver(function (mutations, observer) {{\n",
              "        var display = window.getComputedStyle(gd).display;\n",
              "        if (!display || display === 'none') {{\n",
              "            console.log([gd, 'removed!']);\n",
              "            Plotly.purge(gd);\n",
              "            observer.disconnect();\n",
              "        }}\n",
              "}});\n",
              "\n",
              "// Listen for the removal of the full notebook cells\n",
              "var notebookContainer = gd.closest('#notebook-container');\n",
              "if (notebookContainer) {{\n",
              "    x.observe(notebookContainer, {childList: true});\n",
              "}}\n",
              "\n",
              "// Listen for the clearing of the current output cell\n",
              "var outputEl = gd.closest('.output');\n",
              "if (outputEl) {{\n",
              "    x.observe(outputEl, {childList: true});\n",
              "}}\n",
              "\n",
              "                        })                };                            </script>        </div>\n",
              "</body>\n",
              "</html>"
            ]
          },
          "metadata": {}
        }
      ]
    },
    {
      "cell_type": "markdown",
      "source": [
        "# Write and Download Step"
      ],
      "metadata": {
        "id": "z1GLqQJl3wRU"
      }
    },
    {
      "cell_type": "markdown",
      "source": [
        "So, now that we have a dataframe in our notebook, we want to give it to somebody.\n",
        "\n",
        "First we turn the dataframe into a CSV. THis process is called writing."
      ],
      "metadata": {
        "id": "ks7pv3hIGsDb"
      }
    },
    {
      "cell_type": "code",
      "source": [
        "# CELL 8\n",
        "cust.to_csv('customer daily count.csv')"
      ],
      "metadata": {
        "id": "tvFAeXvc31Nb"
      },
      "execution_count": null,
      "outputs": []
    },
    {
      "cell_type": "markdown",
      "source": [
        "Then, we can download it using the \"files\" library."
      ],
      "metadata": {
        "id": "KJ-GQggQHvYw"
      }
    },
    {
      "cell_type": "code",
      "source": [
        "# CELL 9\n",
        "files.download('customer daily count.csv')"
      ],
      "metadata": {
        "id": "s4-KQhHhHwmD",
        "colab": {
          "base_uri": "https://localhost:8080/",
          "height": 17
        },
        "outputId": "b21a9719-6245-4396-a5df-1c6120970b6b"
      },
      "execution_count": null,
      "outputs": [
        {
          "output_type": "display_data",
          "data": {
            "text/plain": [
              "<IPython.core.display.Javascript object>"
            ],
            "application/javascript": [
              "\n",
              "    async function download(id, filename, size) {\n",
              "      if (!google.colab.kernel.accessAllowed) {\n",
              "        return;\n",
              "      }\n",
              "      const div = document.createElement('div');\n",
              "      const label = document.createElement('label');\n",
              "      label.textContent = `Downloading \"${filename}\": `;\n",
              "      div.appendChild(label);\n",
              "      const progress = document.createElement('progress');\n",
              "      progress.max = size;\n",
              "      div.appendChild(progress);\n",
              "      document.body.appendChild(div);\n",
              "\n",
              "      const buffers = [];\n",
              "      let downloaded = 0;\n",
              "\n",
              "      const channel = await google.colab.kernel.comms.open(id);\n",
              "      // Send a message to notify the kernel that we're ready.\n",
              "      channel.send({})\n",
              "\n",
              "      for await (const message of channel.messages) {\n",
              "        // Send a message to notify the kernel that we're ready.\n",
              "        channel.send({})\n",
              "        if (message.buffers) {\n",
              "          for (const buffer of message.buffers) {\n",
              "            buffers.push(buffer);\n",
              "            downloaded += buffer.byteLength;\n",
              "            progress.value = downloaded;\n",
              "          }\n",
              "        }\n",
              "      }\n",
              "      const blob = new Blob(buffers, {type: 'application/binary'});\n",
              "      const a = document.createElement('a');\n",
              "      a.href = window.URL.createObjectURL(blob);\n",
              "      a.download = filename;\n",
              "      div.appendChild(a);\n",
              "      a.click();\n",
              "      div.remove();\n",
              "    }\n",
              "  "
            ]
          },
          "metadata": {}
        },
        {
          "output_type": "display_data",
          "data": {
            "text/plain": [
              "<IPython.core.display.Javascript object>"
            ],
            "application/javascript": [
              "download(\"download_a5789256-f3c9-4425-8644-5bc0851e5ad8\", \"customer daily count.csv\", 1064)"
            ]
          },
          "metadata": {}
        }
      ]
    }
  ]
}