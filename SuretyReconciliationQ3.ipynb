{
  "cells": [
    {
      "cell_type": "markdown",
      "metadata": {
        "id": "view-in-github",
        "colab_type": "text"
      },
      "source": [
        "<a href=\"https://colab.research.google.com/github/EvanWAppel/work-examples/blob/main/SuretyReconciliationQ3.ipynb\" target=\"_parent\"><img src=\"https://colab.research.google.com/assets/colab-badge.svg\" alt=\"Open In Colab\"/></a>"
      ]
    },
    {
      "cell_type": "code",
      "execution_count": null,
      "metadata": {
        "colab": {
          "base_uri": "https://localhost:8080/"
        },
        "id": "Dw68tEc7MA4f",
        "outputId": "0fd7bc1a-551a-4125-968f-f7ca803dfd51"
      },
      "outputs": [
        {
          "output_type": "stream",
          "name": "stdout",
          "text": [
            "Looking in indexes: https://pypi.org/simple, https://us-python.pkg.dev/colab-wheels/public/simple/\n",
            "Collecting redshift_connector\n",
            "  Downloading redshift_connector-2.0.909-py3-none-any.whl (112 kB)\n",
            "\u001b[K     |████████████████████████████████| 112 kB 26.0 MB/s \n",
            "\u001b[?25hRequirement already satisfied: setuptools in /usr/local/lib/python3.8/dist-packages (from redshift_connector) (57.4.0)\n",
            "Collecting beautifulsoup4<5.0.0,>=4.7.0\n",
            "  Downloading beautifulsoup4-4.11.1-py3-none-any.whl (128 kB)\n",
            "\u001b[K     |████████████████████████████████| 128 kB 62.3 MB/s \n",
            "\u001b[?25hCollecting scramp<1.5.0,>=1.2.0\n",
            "  Downloading scramp-1.4.4-py3-none-any.whl (13 kB)\n",
            "Requirement already satisfied: pytz>=2020.1 in /usr/local/lib/python3.8/dist-packages (from redshift_connector) (2022.6)\n",
            "Collecting boto3<2.0.0,>=1.9.201\n",
            "  Downloading boto3-1.26.29-py3-none-any.whl (132 kB)\n",
            "\u001b[K     |████████████████████████████████| 132 kB 56.5 MB/s \n",
            "\u001b[?25hRequirement already satisfied: requests<3.0.0,>=2.23.0 in /usr/local/lib/python3.8/dist-packages (from redshift_connector) (2.23.0)\n",
            "Requirement already satisfied: lxml>=4.6.5 in /usr/local/lib/python3.8/dist-packages (from redshift_connector) (4.9.1)\n",
            "Collecting botocore<2.0.0,>=1.12.201\n",
            "  Downloading botocore-1.29.29-py3-none-any.whl (10.3 MB)\n",
            "\u001b[K     |████████████████████████████████| 10.3 MB 40.6 MB/s \n",
            "\u001b[?25hRequirement already satisfied: packaging in /usr/local/lib/python3.8/dist-packages (from redshift_connector) (21.3)\n",
            "Collecting soupsieve>1.2\n",
            "  Downloading soupsieve-2.3.2.post1-py3-none-any.whl (37 kB)\n",
            "Collecting s3transfer<0.7.0,>=0.6.0\n",
            "  Downloading s3transfer-0.6.0-py3-none-any.whl (79 kB)\n",
            "\u001b[K     |████████████████████████████████| 79 kB 8.7 MB/s \n",
            "\u001b[?25hCollecting jmespath<2.0.0,>=0.7.1\n",
            "  Downloading jmespath-1.0.1-py3-none-any.whl (20 kB)\n",
            "Requirement already satisfied: python-dateutil<3.0.0,>=2.1 in /usr/local/lib/python3.8/dist-packages (from botocore<2.0.0,>=1.12.201->redshift_connector) (2.8.2)\n",
            "Collecting urllib3<1.27,>=1.25.4\n",
            "  Downloading urllib3-1.26.13-py2.py3-none-any.whl (140 kB)\n",
            "\u001b[K     |████████████████████████████████| 140 kB 66.1 MB/s \n",
            "\u001b[?25hRequirement already satisfied: six>=1.5 in /usr/local/lib/python3.8/dist-packages (from python-dateutil<3.0.0,>=2.1->botocore<2.0.0,>=1.12.201->redshift_connector) (1.15.0)\n",
            "Requirement already satisfied: chardet<4,>=3.0.2 in /usr/local/lib/python3.8/dist-packages (from requests<3.0.0,>=2.23.0->redshift_connector) (3.0.4)\n",
            "Requirement already satisfied: certifi>=2017.4.17 in /usr/local/lib/python3.8/dist-packages (from requests<3.0.0,>=2.23.0->redshift_connector) (2022.9.24)\n",
            "Requirement already satisfied: idna<3,>=2.5 in /usr/local/lib/python3.8/dist-packages (from requests<3.0.0,>=2.23.0->redshift_connector) (2.10)\n",
            "  Downloading urllib3-1.25.11-py2.py3-none-any.whl (127 kB)\n",
            "\u001b[K     |████████████████████████████████| 127 kB 54.6 MB/s \n",
            "\u001b[?25hCollecting asn1crypto>=1.5.1\n",
            "  Downloading asn1crypto-1.5.1-py2.py3-none-any.whl (105 kB)\n",
            "\u001b[K     |████████████████████████████████| 105 kB 77.1 MB/s \n",
            "\u001b[?25hRequirement already satisfied: pyparsing!=3.0.5,>=2.0.2 in /usr/local/lib/python3.8/dist-packages (from packaging->redshift_connector) (3.0.9)\n",
            "Installing collected packages: urllib3, jmespath, botocore, soupsieve, s3transfer, asn1crypto, scramp, boto3, beautifulsoup4, redshift-connector\n",
            "  Attempting uninstall: urllib3\n",
            "    Found existing installation: urllib3 1.24.3\n",
            "    Uninstalling urllib3-1.24.3:\n",
            "      Successfully uninstalled urllib3-1.24.3\n",
            "  Attempting uninstall: beautifulsoup4\n",
            "    Found existing installation: beautifulsoup4 4.6.3\n",
            "    Uninstalling beautifulsoup4-4.6.3:\n",
            "      Successfully uninstalled beautifulsoup4-4.6.3\n",
            "Successfully installed asn1crypto-1.5.1 beautifulsoup4-4.11.1 boto3-1.26.29 botocore-1.29.29 jmespath-1.0.1 redshift-connector-2.0.909 s3transfer-0.6.0 scramp-1.4.4 soupsieve-2.3.2.post1 urllib3-1.25.11\n"
          ]
        }
      ],
      "source": [
        "import pandas as pd\n",
        "from google.colab import files \n",
        "import plotly.express as px\n",
        "import datetime as datetime\n",
        "import numpy as np\n",
        "pd.set_option('display.max_columns', None)\n",
        "pd.set_option('display.width', 800)\n",
        "!pip install redshift_connector\n",
        "import redshift_connector\n",
        "import getpass\n",
        "from dateutil import parser"
      ]
    },
    {
      "cell_type": "code",
      "execution_count": null,
      "metadata": {
        "colab": {
          "base_uri": "https://localhost:8080/"
        },
        "id": "qLOwlM1aVsqh",
        "outputId": "6e3b31fe-4a85-43ad-c97e-c86b3b5cc78d"
      },
      "outputs": [
        {
          "name": "stdout",
          "output_type": "stream",
          "text": [
            "enter your username:eappel\n",
            "Enter your password:··········\n"
          ]
        }
      ],
      "source": [
        "# Credential Assignment\n",
        "un = input(\"enter your username:\")\n",
        "pw = getpass.getpass(\"Enter your password:\")\n",
        "\n",
        "# Connect to the cluster\n",
        "#https://docs.aws.amazon.com/redshift/latest/mgmt/python-connect-examples.html\n",
        "\n",
        "# Tableau Connection\n",
        "conn = redshift_connector.connect(\n",
        "  host='ccos-redshift-cluster-01.clfuihuyk2so.us-east-1.redshift.amazonaws.com',\n",
        "  database='tableau',\n",
        "  user=un,\n",
        "  password=pw,\n",
        "  port=5439\n",
        ")\n",
        "\n",
        "# Create a Cursor object\n",
        "cursor = conn.cursor()\n",
        "\n",
        "# Query a table using the Cursor\n",
        "# Then...\n",
        "# Retrieve the query result set\n",
        "# for every table you want to convert into a dataframe\n",
        "# Put them in different cells so that you don't have to run the whole thing during debugging"
      ]
    },
    {
      "cell_type": "code",
      "execution_count": null,
      "metadata": {
        "id": "TlG0I0lRbi3N"
      },
      "outputs": [],
      "source": [
        "# CCOS transactions\n",
        "cursor.execute('''select * from \"ccos\".\"public\".\"transactions\"  ''')\n",
        "ccosTrans =  cursor.fetch_dataframe()\n",
        "#print(ccosTrans.head())"
      ]
    },
    {
      "cell_type": "code",
      "execution_count": null,
      "metadata": {
        "id": "8KgOKnkSbi_p"
      },
      "outputs": [],
      "source": [
        "# CCOS Customers\n",
        "cursor.execute('''select * from \"ccos\".\"public\".\"clients\" ''')\n",
        "ccosCusts =  cursor.fetch_dataframe()\n",
        "#print(ccosCusts.head())"
      ]
    },
    {
      "cell_type": "code",
      "execution_count": null,
      "metadata": {
        "id": "QsdR8vu4bjHn"
      },
      "outputs": [],
      "source": [
        "# CCOS Kiosks\n",
        "cursor.execute('''select * from \"ccos\".\"public\".\"kiosks\" ''')\n",
        "ccosKiosk =  cursor.fetch_dataframe()\n",
        "#print(ccosKiosk.head())"
      ]
    },
    {
      "cell_type": "code",
      "execution_count": null,
      "metadata": {
        "id": "JK4tRSiEbjQA"
      },
      "outputs": [],
      "source": [
        "# BA transactions\n",
        "cursor.execute('''select * from \"ba\".\"public\".\"accountingorders\"  ''')\n",
        "baTrans =  cursor.fetch_dataframe()\n",
        "#print(baTrans.head())"
      ]
    },
    {
      "cell_type": "code",
      "execution_count": null,
      "metadata": {
        "id": "Bqqx3SlSbjYB"
      },
      "outputs": [],
      "source": [
        "# BA Customers\n",
        "cursor.execute('''select * from \"ba\".\"public\".\"staging-api-customers\" ''')\n",
        "baCusts =  cursor.fetch_dataframe()\n",
        "#print(baCusts.head())"
      ]
    },
    {
      "cell_type": "code",
      "source": [
        "# Tableau transactions\n",
        "cursor.execute('''select * from \"tableau\".\"public\".\"combined_transactions_live\" ''')\n",
        "tableau = cursor.fetch_dataframe()\n",
        "tableau = tableau.sort_values(by='location_id',ascending=False)\n",
        "print(tableau.head())"
      ],
      "metadata": {
        "colab": {
          "base_uri": "https://localhost:8080/"
        },
        "id": "5gQiQyZ4qRP4",
        "outputId": "5847bd9c-bb87-4789-a08c-407e24d4e233"
      },
      "execution_count": null,
      "outputs": [
        {
          "output_type": "stream",
          "name": "stdout",
          "text": [
            "        platform   transaction_id                            customer_id kyc_tier     machine_id location_id kind transaction_amount transaction_currency amount_crypto crypto_currency spot_price transaction_price promo_code margin_percentage  mining_fee     completion_datetime completion_date_year completion_date_month completion_date_day completion_date_time\n",
            "1139627     CCOS  T1645464937c34f  Cce7f18b8-de10-4147-b7c6-7bffcf535280        3     148055.USA    Lunknown  BUY             200.00                  USD    0.07348132             ETH    2721.78           2721.78                       0.0000  0.00000572 2022-02-21 18:08:31.033                 2022                    02                  21             8:31.033\n",
            "1212586     CCOS  T1656523647fcdf  Ca20f746d-6a2f-4a10-a74b-57b5e90eb601        3  148562.USA_HQ    Lunknown  BUY              20.00                  USD    0.00100183             BTC   19963.55          19963.55   4JULYBTC            0.0000  0.00001200 2022-06-29 19:28:33.906                 2022                    06                  29             8:33.906\n",
            "891729      CCOS  T16456315732e53  C3681106e-71c3-4b16-a9a5-82387cb4bc51        1     148055.USA    Lunknown  BUY              20.00                  USD    0.75958982            ATOM      26.33             26.33                       0.0000  0.02102124 2022-02-23 16:06:40.618                 2022                    02                  23             6:40.618\n",
            "1140058     CCOS  T1645631240fe5a  C2e21f6ed-6216-43c4-b347-9e955e007514        1     148055.USA    Lunknown  BUY             100.00                  USD    0.00259219             BTC   38577.36          38577.36                       0.0000  0.00000351 2022-02-23 16:28:29.896                 2022                    02                  23             8:29.896\n",
            "1140128     CCOS  T1645630250db90  C131f7cd3-e4e0-46a8-82b0-92053f52aebc        1     148055.USA    Lunknown  BUY              80.00                  USD    0.00207376             BTC   38577.36          38577.36                       0.0000  0.00000287 2022-02-23 19:28:29.531                 2022                    02                  23             8:29.531\n"
          ]
        }
      ]
    },
    {
      "cell_type": "code",
      "execution_count": null,
      "metadata": {
        "colab": {
          "base_uri": "https://localhost:8080/"
        },
        "id": "IHyl9CJVqMdJ",
        "outputId": "bc4ecc50-72b7-41d7-a65e-7a9943a2b963"
      },
      "outputs": [
        {
          "output_type": "stream",
          "name": "stderr",
          "text": [
            "/usr/local/lib/python3.8/dist-packages/IPython/core/interactiveshell.py:3326: DtypeWarning: Columns (51,52) have mixed types.Specify dtype option on import or set low_memory=False.\n",
            "  exec(code_obj, self.user_global_ns, self.user_ns)\n"
          ]
        }
      ],
      "source": [
        "# use LOC to pull information about locations\n",
        "loc = pd.read_csv(\"locationsA.csv\")\n",
        "loc = loc.assign(lid = loc['internalId'])\n",
        "loc['lid'] = loc['lid'].astype('str')"
      ]
    },
    {
      "cell_type": "code",
      "execution_count": null,
      "metadata": {
        "colab": {
          "base_uri": "https://localhost:8080/"
        },
        "id": "9qlNAf1eVDVM",
        "outputId": "da4978cc-9a5d-44f2-cf34-cd0051346cc8"
      },
      "outputs": [
        {
          "output_type": "stream",
          "name": "stderr",
          "text": [
            "/usr/local/lib/python3.8/dist-packages/IPython/core/interactiveshell.py:3326: DtypeWarning: Columns (4) have mixed types.Specify dtype option on import or set low_memory=False.\n",
            "  exec(code_obj, self.user_global_ns, self.user_ns)\n"
          ]
        },
        {
          "output_type": "stream",
          "name": "stdout",
          "text": [
            "   yearmonth       amount\n",
            "0 2022-08-01  20676094.00\n",
            "1 2022-09-01  22301590.38\n",
            "2 2022-10-01  14399674.00\n",
            "       amount bagNumberReducer bankName     bankTransactionId         depositDate  locationIdInternal   machineId  yearmonth\n",
            "4055   2100.0       SPE3137409   Surety   10282022210090054.0 2022-10-28 07:00:00            108471.0  143136.USA 2022-10-01\n",
            "4056   1800.0       SPE3137410   Surety   10282022180090056.0 2022-10-28 07:00:00            108481.0  143134.USA 2022-10-01\n",
            "4057  14380.0        213008370   Surety  102820221438090048.0 2022-10-28 07:00:00            103567.0  143424.USA 2022-10-01\n",
            "4058    265.0        213008369   Surety    1028202226590057.0 2022-10-28 07:00:00            101524.0  143422.USA 2022-10-01\n",
            "4059    525.0       GK88708375   Surety    1028202252590058.0 2022-10-28 07:00:00            118533.0  146341.USA 2022-10-01\n"
          ]
        },
        {
          "output_type": "stream",
          "name": "stderr",
          "text": [
            "<ipython-input-10-430536ba2323>:5: SettingWithCopyWarning: \n",
            "A value is trying to be set on a copy of a slice from a DataFrame.\n",
            "Try using .loc[row_indexer,col_indexer] = value instead\n",
            "\n",
            "See the caveats in the documentation: https://pandas.pydata.org/pandas-docs/stable/user_guide/indexing.html#returning-a-view-versus-a-copy\n",
            "  bank_cleaned['depositDate'] = pd.to_datetime(bank_cleaned['depositDate'])\n"
          ]
        }
      ],
      "source": [
        "bank = pd.read_csv(\"bank transactions.csv\")\n",
        "# Bank Data cleaning\n",
        "bank_cleaned = bank[['amount','bagNumberReducer','bankName','bankTransactionId','depositDate','locationIdInternal','machineId']]\n",
        "# coerce to date\n",
        "bank_cleaned['depositDate'] = pd.to_datetime(bank_cleaned['depositDate'])\n",
        "# Only care about target date range\n",
        "bank_cleaned = bank_cleaned[(bank_cleaned['depositDate']>='2022-08-01')&(bank_cleaned['depositDate']<='2022-10-31')]\n",
        "# Only care about Surety\n",
        "bank_cleaned = bank_cleaned[bank_cleaned['bankName']=='Surety']\n",
        "# Group dates into yearmonth to easier aggregate\n",
        "bank_cleaned['yearmonth'] = bank_cleaned['depositDate'].dt.to_period('M').dt.to_timestamp()\n",
        "# Create aggregation to observe TARGET AMOUNTS\n",
        "sums = bank_cleaned.groupby(['yearmonth'],as_index=False).agg({'amount':sum})\n",
        "print(sums)\n",
        "print(bank_cleaned.head())"
      ]
    },
    {
      "cell_type": "code",
      "execution_count": null,
      "metadata": {
        "id": "N9vOIOh0Xzkl"
      },
      "outputs": [],
      "source": [
        "pickups = pd.read_csv(\"pickups.csv\")\n",
        "# Pickup Data Cleaning.\n",
        "pickups_cleaned = pickups[['actualDepositAmounts','amount','bagNumbers','bankDepositAmountReducer','bankReducer','bankTransactionIdsReducer','confirmAmount','dateConfirmBankDepositReducer','dateConfirmETAReducer','dateOutReducer','externalIdReducer','internalIdReducer']]\n",
        "# Only Surety\n",
        "pickups_cleaned = pickups_cleaned[pickups_cleaned['bankReducer']=='Surety']\n",
        "# If there's a comma in the dateConfirmBankDepositReducer column then SPLIT on the comma, sort descending, then POP out the first (most recent) and call it reliable_date\n",
        "pickups_cleaned['reliable_date'] = pickups_cleaned['dateConfirmBankDepositReducer'].apply(lambda x: sorted(str(x).split(','),reverse=True).pop(0) if ',' in str(x) else str(x) )\n",
        "# Coerce reliable date to datetime\n",
        "pickups_cleaned['reliable_date'] = pd.to_datetime(pickups_cleaned['reliable_date'])\n",
        "# convert reliable date to yearmonth to aggregate easier\n",
        "pickups_cleaned['yearmonth'] = pickups_cleaned['reliable_date'].dt.to_period('M').dt.to_timestamp()\n",
        "# aggregate for TARGET\n",
        "pickupsums = pickups_cleaned.groupby(['yearmonth'],as_index=False).agg({'amount':sum})\n",
        "pickups_cleaned['bankTransactionIdsReducer'] = pickups_cleaned['bankTransactionIdsReducer'].astype('str')\n",
        "#print(pickups_cleaned.head(50))\n",
        "#print(pickups_cleaned.dtypes)\n",
        "#print(pickupsums)\n"
      ]
    },
    {
      "cell_type": "markdown",
      "source": [
        "Note the difference between the totals of the bank and the totals of the pickups table. This was even more dramatic when the above LAMBDA operation didn't exist.\n",
        "\n",
        "Are pickups getting mislabeled in CCWeb? And how?\n",
        "\n",
        "Regardless, If I can get enough transaction records to match the above pickup amounts, that's a good start for the bank regulators and may buy us time."
      ],
      "metadata": {
        "id": "x_0YFaiheeTg"
      }
    },
    {
      "cell_type": "code",
      "source": [
        "# Parameter Table Assembly\n",
        "# Use the deposit dates from the Bank table\n",
        "# Clean up the LID column\n",
        "bank_cleaned['lid'] = bank_cleaned['locationIdInternal'].astype('str')\n",
        "bank_cleaned['lid'] = bank_cleaned['lid'].str.replace('\\.0','')\n",
        "# We will start with a set of date/LID pairs\n",
        "pu = bank_cleaned[['machineId','depositDate']]\n",
        "#create blank parameter table\n",
        "# this table will include the lid, pickup date and the most recent pickup date\n",
        "# These three parameters can then be fed into a query against the transaction table (assembled below)\n",
        "param = pd.DataFrame()\n",
        "# for every pickup date, there is a date preceding it\n",
        "# look at the list of pickup dates\n",
        "# select the first item in the list\n",
        "for i in pu.index:\n",
        "  temp = bank_cleaned[\n",
        "      # find the list of rows that have the same LID and a date less than (but not equal) to the first item, store it in temp\n",
        "      (bank_cleaned['machineId']==pu['machineId'][i])\n",
        "      &(bank_cleaned['depositDate']<pu['depositDate'][i])\n",
        "      ]\n",
        "# find the most recent date in that subset, overwrite temp\n",
        "  temp = temp.groupby(['machineId'],as_index=False).agg({'depositDate':max})\n",
        "# rename the most recent date from the first date as lastPickup\n",
        "  temp = temp.rename(columns={'depositDate':'lastPickup'})\n",
        "# join the first date, the pickup date, to the temp table in preparation for...\n",
        "  temp = temp.assign(pickupdate=pu['depositDate'][i])\n",
        "# appending to the parameter table\n",
        "  param = param.append(temp)\n",
        "# Now we should have a list of lid/pickupdate pairs matched with their most recent pickups\n",
        "# Not exactly in order, but that's how it should work.\n",
        "param = param.reset_index()\n",
        "\n",
        "print(param)\n",
        "print(param.dtypes)\n",
        "#print(pu.head())\n",
        "#print(pu.dtypes)"
      ],
      "metadata": {
        "colab": {
          "base_uri": "https://localhost:8080/"
        },
        "id": "YD66606aRkQM",
        "outputId": "931bcfec-5c78-4d6a-9e0f-759478f3ce4b"
      },
      "execution_count": null,
      "outputs": [
        {
          "output_type": "stream",
          "name": "stderr",
          "text": [
            "<ipython-input-12-dc097e872b55>:5: FutureWarning: The default value of regex will change from True to False in a future version.\n",
            "  bank_cleaned['lid'] = bank_cleaned['lid'].str.replace('\\.0','')\n"
          ]
        },
        {
          "output_type": "stream",
          "name": "stdout",
          "text": [
            "      index      machineId          lastPickup          pickupdate\n",
            "0         0     143136.USA 2022-10-07 07:00:00 2022-10-28 07:00:00\n",
            "1         0     143134.USA 2022-10-20 07:00:00 2022-10-28 07:00:00\n",
            "2         0     143424.USA 2022-10-14 07:00:00 2022-10-28 07:00:00\n",
            "3         0     143422.USA 2022-10-26 07:00:00 2022-10-28 07:00:00\n",
            "4         0     146341.USA 2022-10-14 07:00:00 2022-10-28 07:00:00\n",
            "...     ...            ...                 ...                 ...\n",
            "5516      0  coincloud5086 2022-08-01 07:00:00 2022-08-03 07:00:00\n",
            "5517      0     142012.USA 2022-08-01 07:00:00 2022-08-03 07:00:00\n",
            "5518      0     143382.USA 2022-08-02 07:00:00 2022-08-03 07:00:00\n",
            "5519      0     149415.USA 2022-08-01 07:00:00 2022-08-03 07:00:00\n",
            "5520      0     146406.USA 2022-08-01 07:00:00 2022-08-02 07:00:00\n",
            "\n",
            "[5521 rows x 4 columns]\n",
            "index                  int64\n",
            "machineId             object\n",
            "lastPickup    datetime64[ns]\n",
            "pickupdate    datetime64[ns]\n",
            "dtype: object\n"
          ]
        }
      ]
    },
    {
      "cell_type": "code",
      "source": [
        "tableau = tableau.assign(lid = tableau['location_id'].str.replace('L',''))\n",
        "parama = param.head()\n",
        "print(parama)\n",
        "print(tableau.head())\n",
        "print(tableau.dtypes)"
      ],
      "metadata": {
        "colab": {
          "base_uri": "https://localhost:8080/"
        },
        "id": "Y9t9rrfEyQjV",
        "outputId": "d81cb106-96ec-4433-c1a8-0bbda323d793"
      },
      "execution_count": null,
      "outputs": [
        {
          "output_type": "stream",
          "name": "stdout",
          "text": [
            "   index   machineId          lastPickup          pickupdate\n",
            "0      0  143136.USA 2022-10-07 07:00:00 2022-10-28 07:00:00\n",
            "1      0  143134.USA 2022-10-20 07:00:00 2022-10-28 07:00:00\n",
            "2      0  143424.USA 2022-10-14 07:00:00 2022-10-28 07:00:00\n",
            "3      0  143422.USA 2022-10-26 07:00:00 2022-10-28 07:00:00\n",
            "4      0  146341.USA 2022-10-14 07:00:00 2022-10-28 07:00:00\n",
            "        platform   transaction_id                            customer_id kyc_tier     machine_id location_id kind transaction_amount transaction_currency amount_crypto crypto_currency spot_price transaction_price promo_code margin_percentage  mining_fee     completion_datetime completion_date_year completion_date_month completion_date_day completion_date_time      lid\n",
            "1139627     CCOS  T1645464937c34f  Cce7f18b8-de10-4147-b7c6-7bffcf535280        3     148055.USA    Lunknown  BUY             200.00                  USD    0.07348132             ETH    2721.78           2721.78                       0.0000  0.00000572 2022-02-21 18:08:31.033                 2022                    02                  21             8:31.033  unknown\n",
            "1212586     CCOS  T1656523647fcdf  Ca20f746d-6a2f-4a10-a74b-57b5e90eb601        3  148562.USA_HQ    Lunknown  BUY              20.00                  USD    0.00100183             BTC   19963.55          19963.55   4JULYBTC            0.0000  0.00001200 2022-06-29 19:28:33.906                 2022                    06                  29             8:33.906  unknown\n",
            "891729      CCOS  T16456315732e53  C3681106e-71c3-4b16-a9a5-82387cb4bc51        1     148055.USA    Lunknown  BUY              20.00                  USD    0.75958982            ATOM      26.33             26.33                       0.0000  0.02102124 2022-02-23 16:06:40.618                 2022                    02                  23             6:40.618  unknown\n",
            "1140058     CCOS  T1645631240fe5a  C2e21f6ed-6216-43c4-b347-9e955e007514        1     148055.USA    Lunknown  BUY             100.00                  USD    0.00259219             BTC   38577.36          38577.36                       0.0000  0.00000351 2022-02-23 16:28:29.896                 2022                    02                  23             8:29.896  unknown\n",
            "1140128     CCOS  T1645630250db90  C131f7cd3-e4e0-46a8-82b0-92053f52aebc        1     148055.USA    Lunknown  BUY              80.00                  USD    0.00207376             BTC   38577.36          38577.36                       0.0000  0.00000287 2022-02-23 19:28:29.531                 2022                    02                  23             8:29.531  unknown\n",
            "platform                         object\n",
            "transaction_id                   object\n",
            "customer_id                      object\n",
            "kyc_tier                         object\n",
            "machine_id                       object\n",
            "location_id                      object\n",
            "kind                             object\n",
            "transaction_amount               object\n",
            "transaction_currency             object\n",
            "amount_crypto                    object\n",
            "crypto_currency                  object\n",
            "spot_price                       object\n",
            "transaction_price                object\n",
            "promo_code                       object\n",
            "margin_percentage                object\n",
            "mining_fee                       object\n",
            "completion_datetime      datetime64[ns]\n",
            "completion_date_year             object\n",
            "completion_date_month            object\n",
            "completion_date_day              object\n",
            "completion_date_time             object\n",
            "lid                              object\n",
            "dtype: object\n"
          ]
        }
      ]
    },
    {
      "cell_type": "code",
      "source": [
        "\n",
        "\n",
        "# Run param table against  transaction table\n",
        "Surety = pd.DataFrame()\n",
        "for i in param.index:\n",
        "  t = pd.DataFrame()\n",
        "  t = tableau[(tableau['machine_id']==param['machineId'][i])\n",
        "    &(tableau['completion_datetime']>param['lastPickup'][i])\n",
        "    &(tableau['completion_datetime']<=param['pickupdate'][i])\n",
        "  ]\n",
        "  #t = t.assign(marker=param['machineId'][i]+','+str(param['lastPickup'][i])+','+str(param['pickupdate'][i])+','+'marker'+','+str(len(t)))\n",
        "  Surety = Surety.append(t)\n",
        "\n",
        "print(Surety)"
      ],
      "metadata": {
        "colab": {
          "base_uri": "https://localhost:8080/"
        },
        "id": "A_u3DWPq0jOs",
        "outputId": "9df2d493-ea91-4f1a-f530-06d1be62a1a0"
      },
      "execution_count": null,
      "outputs": [
        {
          "output_type": "stream",
          "name": "stdout",
          "text": [
            "        platform     transaction_id                            customer_id kyc_tier     machine_id location_id  kind transaction_amount transaction_currency amount_crypto crypto_currency spot_price transaction_price promo_code margin_percentage  mining_fee     completion_datetime completion_date_year completion_date_month completion_date_day completion_date_time     lid\n",
            "1089977     CCOS    T1666231239b042  C91427796-228e-4c6a-b78c-a51a1f60bb52        1     143136.USA     L108471   BUY            1200.00                  USD    0.05045371             BTC   19042.58          23784.17                       0.1993  0.00000772 2022-10-20 04:58:32.028                 2022                    10                  20             8:32.028  108471\n",
            "1266437     CCOS    T16666513039662  Cd5e2b1fc-aa39-49df-b0b4-0d78cf218abb        1     143136.USA     L108471   BUY              50.00                  USD    0.00206902             BTC   19348.33          24166.05                       0.1993        None 2022-10-25 15:29:14.874                 2022                    10                  25             9:14.874  108471\n",
            "1093699     CCOS    T166641468903fa  C8bcf3e3c-8fc6-4ed4-8f3b-cc2fcdf6c6e9        3     143136.USA     L108471   BUY             850.00                  USD    0.03553335             BTC   19152.28          23921.19                       0.1993  0.00000438 2022-10-22 13:38:39.986                 2022                    10                  22             8:39.986  108471\n",
            "1089997     CCOS    T166629105321a3  Cbb14b6fd-5c78-4e84-85fe-35b89c0cce79        3     143134.USA     L108481   BUY            1800.00                  USD    0.07578380             BTC   19016.64          23751.77                       0.1993  0.00001014 2022-10-20 18:58:36.497                 2022                    10                  20             8:36.497  108481\n",
            "1056813     CCOS    T16664599523b0c  Cf08f79cf-fed4-4208-b13a-415dd2c191e6        1     143134.USA     L108481  SELL             100.00                  USD    0.00553686             BTC   19193.38          18060.97       None              None        None 2022-10-22 21:33:14.876                 2022                    10                  22             3:14.876  108481\n",
            "...          ...                ...                                    ...      ...            ...         ...   ...                ...                  ...           ...             ...        ...               ...        ...               ...         ...                     ...                  ...                   ...                 ...                  ...     ...\n",
            "1004196       BA  T1659826560471642                      C7103422257381881        2  coincloud3550     L124524   BUY             520.00                  USD    0.01866588             BTC   23157.37          27858.32       None            0.2030        None 2022-08-06 23:25:06.000                 2022                    08                  06             23:25:06  124524\n",
            "1231094       BA  T1659394920550696                      C7103422305295897        1  coincloud3550     L124524   BUY             400.00                  USD    0.01428494             BTC   23276.41          28001.52       None            0.2030        None 2022-08-01 23:24:13.000                 2022                    08                  01             23:24:13  124524\n",
            "1233700       BA  T1659711237561185                      C7103422103057225        3  coincloud3550     L124524   BUY             200.00                  USD    0.00716085             BTC   23216.66          27929.64       None            0.2030        None 2022-08-05 17:01:05.000                 2022                    08                  05             17:01:05  124524\n",
            "998299        BA  T1659393829550960                      C7103422305282495        1  coincloud3550     L124524   BUY            1000.00                  USD    0.03590281             BTC   23152.93          27852.97       None            0.2030        None 2022-08-02 15:16:37.000                 2022                    08                  02             15:16:37  124524\n",
            "1228728       BA  T1659384447783137                      C7103422062097023        2  coincloud4099     L124537   BUY              80.00                  USD    0.00289385             BTC   22979.93          27644.86       None            0.2030        None 2022-08-01 20:24:38.000                 2022                    08                  01             20:24:38  124537\n",
            "\n",
            "[21510 rows x 22 columns]\n"
          ]
        }
      ]
    },
    {
      "cell_type": "code",
      "source": [
        "#Running the Parameter table against the Tableau table took about 21 minutes, but returned half of the transactions\n",
        "Surety =  Surety.assign(yearmonth = Surety['completion_datetime'].dt.strftime('%Y-%m-01'))\n",
        "print(Surety.head())\n",
        "summer = Surety.groupby(['yearmonth'],as_index=False).agg({'transaction_amount':sum})\n",
        "print(summer)"
      ],
      "metadata": {
        "colab": {
          "base_uri": "https://localhost:8080/"
        },
        "id": "fbKoWr6A1OmT",
        "outputId": "8eb45368-3193-46c3-b00d-294dfdf9dc9c"
      },
      "execution_count": null,
      "outputs": [
        {
          "output_type": "stream",
          "name": "stdout",
          "text": [
            "        platform   transaction_id                            customer_id kyc_tier  machine_id location_id  kind transaction_amount transaction_currency amount_crypto crypto_currency spot_price transaction_price promo_code margin_percentage  mining_fee     completion_datetime completion_date_year completion_date_month completion_date_day completion_date_time     lid   yearmonth\n",
            "1089977     CCOS  T1666231239b042  C91427796-228e-4c6a-b78c-a51a1f60bb52        1  143136.USA     L108471   BUY            1200.00                  USD    0.05045371             BTC   19042.58          23784.17                       0.1993  0.00000772 2022-10-20 04:58:32.028                 2022                    10                  20             8:32.028  108471  2022-10-01\n",
            "1266437     CCOS  T16666513039662  Cd5e2b1fc-aa39-49df-b0b4-0d78cf218abb        1  143136.USA     L108471   BUY              50.00                  USD    0.00206902             BTC   19348.33          24166.05                       0.1993        None 2022-10-25 15:29:14.874                 2022                    10                  25             9:14.874  108471  2022-10-01\n",
            "1093699     CCOS  T166641468903fa  C8bcf3e3c-8fc6-4ed4-8f3b-cc2fcdf6c6e9        3  143136.USA     L108471   BUY             850.00                  USD    0.03553335             BTC   19152.28          23921.19                       0.1993  0.00000438 2022-10-22 13:38:39.986                 2022                    10                  22             8:39.986  108471  2022-10-01\n",
            "1089997     CCOS  T166629105321a3  Cbb14b6fd-5c78-4e84-85fe-35b89c0cce79        3  143134.USA     L108481   BUY            1800.00                  USD    0.07578380             BTC   19016.64          23751.77                       0.1993  0.00001014 2022-10-20 18:58:36.497                 2022                    10                  20             8:36.497  108481  2022-10-01\n",
            "1056813     CCOS  T16664599523b0c  Cf08f79cf-fed4-4208-b13a-415dd2c191e6        1  143134.USA     L108481  SELL             100.00                  USD    0.00553686             BTC   19193.38          18060.97       None              None        None 2022-10-22 21:33:14.876                 2022                    10                  22             3:14.876  108481  2022-10-01\n",
            "    yearmonth transaction_amount\n",
            "0  2022-08-01         4686369.00\n",
            "1  2022-09-01        14034745.00\n",
            "2  2022-10-01        10034544.00\n"
          ]
        }
      ]
    },
    {
      "cell_type": "code",
      "source": [
        "print(ccosTrans.head())\n",
        "print(ccosKiosk.head())"
      ],
      "metadata": {
        "colab": {
          "base_uri": "https://localhost:8080/"
        },
        "id": "cKHkBmPZrxAv",
        "outputId": "43743a84-d869-444d-c3ef-d5dd0fc7ebcd"
      },
      "execution_count": null,
      "outputs": [
        {
          "output_type": "stream",
          "name": "stdout",
          "text": [
            "                        _id  hashblockchain                         idtransaction transactiontype           status                 idatminit     transactionstartdate                 updateat currency cryptocurrencydestination     cellphone                                iduser  network       reference  locationatm.lng.double  locationatm.lat.double  tierslimits.sell  tierslimits.buy   calculateeffectivedate                  destinationaddress            effectivedate                    address.address address.zipcode address.county address.city address.state address.country  exchangeservicesspotprice promocode exchangeservice exchangerateorigin.decimal  minerfee.double cryptocurrencyprice.decimal exchangeratedestination.decimal  cryptocurrencyspotprice.double  \\\n",
            "0  61b7a1e052a4490008b9ada4         11478.0  ffab4f2d-b66c-4c22-be1d-4214dd4ce3af            SELL  CASH_REDEMPTION  618c75446e95ab00088ea7e1  2021-12-13 19:41:18.546  2021-12-13 19:51:15.996      USD                       BTC  +15627166581  590e99e9-6baf-4446-9012-740e832ebf25  testnet  1639424477e3af                     NaN                     NaN      1.000000e+03     1.000000e+03  2021-12-13 21:41:18.546  mnptziEGNsavJpjPZatcths4ENUVipAr37  2021-12-13 21:41:18.546  10190 Covington Cross Dr (QA Lab)           89144          Clark    Las Vegas            NV             USA                    12101.0      None             BWS                          0              NaN                    26339.92                            None                       46024.985   \n",
            "1  626076f8c2ed680009892816         30268.0  0001ba98-c020-4319-b057-9485bf2cba31            SELL         COMPLETE  618c75446e95ab00088ea7e1   2022-04-20 21:11:18.89  2022-04-20 21:19:06.181      USD                       BTC  +15406862831  ba0d29df-5c3f-4f95-a4c2-ade6dea2edfb  livenet  1650489078ba31                     NaN                     NaN      4.500000e+04     4.500000e+04   2022-04-20 23:11:18.89  15whWLi3NoXasEGEpUfmmfQKrdvhDttbxQ   2022-04-20 23:11:18.89           10190 Covington Cross Dr           89144          Clark    Las Vegas            NV             USA                    31921.0      None             BWS                          0              NaN                    26339.92                            None                       41405.055   \n",
            "2  627c25c5935dc30009ded427         37798.0  67f5f5c0-7a21-49e2-8136-695e7342739a            SELL         COMPLETE  618c75446e95ab00088ea7e1  2022-05-11 21:08:14.697  2022-05-11 21:20:50.351      USD                       BTC  +15406862831  b0856888-4d87-4279-8dc1-3709ed479afa  testnet  1652303294739a                     NaN                     NaN      1.000000e+09     1.000000e+09  2022-05-11 23:08:14.697  myGMzDxmEgfceABovpocYUNJTHbYd6r7ZJ  2022-05-11 23:08:14.697           10190 Covington Cross Dr           89144          Clark    Las Vegas            NV             USA                    39813.0      None             BWS                          0              NaN                    26339.92                            None                       28673.675   \n",
            "3  6216bfee69b4f000096189ed             NaN  6ba1c792-4cb4-4ca6-8ff3-468e69af1f00            SELL          EXPIRED  618c75446e95ab00088ea7e1  2022-02-23 23:14:47.785  2022-02-24 01:08:17.355      USD                       BTC  +15406862831  9173b891-2316-4792-9880-97868f1cb1c8  testnet  16456580871f00                     NaN                     NaN      1.000000e+09     1.000000e+09  2022-02-24 01:14:47.785  my5Yd6TzXevvEsgk7Tn9zoX8tDnRNXv7p2  2022-02-24 01:14:47.785           10190 Covington Cross Dr           89144          Clark    Las Vegas            TX             USA                    29678.0      None             BWS                          0              NaN                    26339.92                            None                       37780.555   \n",
            "4  61a91c169af9ef000828298b          8591.0  7bcd2fb9-8386-4fe7-8e19-ec6cf61f0e14            SELL         COMPLETE  618c75446e95ab00088ea7e1   2021-12-02 19:18:44.88  2021-12-02 19:57:51.641      USD                       BTC  +15627166581  fd0af797-1d2a-4c38-a323-7232fd94cae2  testnet  16384727230e14                     NaN                     NaN      1.000000e+03     1.000000e+03   2021-12-02 21:18:44.88  mvXqWQN8v7kMMqDZ9szJ8S87e25iPuGhyy   2021-12-02 21:18:44.88  10190 Covington Cross Dr (QA Lab)           89144          Clark    Las Vegas            NV             USA                     9066.0      None             BWS                          0              NaN                    26339.92                            None                       56899.765   \n",
            "\n",
            "  cryptocurrencyamountorigin.decimal transactionamount.decimal cryptocurrencyamountdest.decimal  exchangerateorigin.double  cryptocurrencyamountorigin.double txidblockchain  exchangeratedestination.double                idatmfinal  locationatm.lng.int32  locationatm.lat.int32 fundssent  cryptocurrencyspotprice.int32  minerfee.int32 cryptocurrencyamountorigin.string exchangeratedestination.string minerfee.decimal  tierslimits.mix  cryptocurrencyprice.double  transactionamount.double  cryptocurrencyamountdest.double cryptocurrencyamountdest.string cryptocurrencyorigin cryptocurrencyspotprice.decimal isrefund  \n",
            "0                         0.00043455                        20                             None                        NaN                                NaN           None                             NaN                      None                  115.0                   36.0      None                            NaN             0.0                              None                           None             None              NaN                         NaN                       NaN                              NaN                            None                  BTC                            None     None  \n",
            "1                         0.00048303                        20                             None                        NaN                                NaN           None                             NaN  618c75446e95ab00088ea7e1                  115.0                   36.0      None                            NaN             0.0                              None                           None             None              NaN                         NaN                       NaN                              NaN                            None                  BTC                            None     None  \n",
            "2                         0.00069750                        20                             None                        NaN                                NaN           None                             NaN  618c75446e95ab00088ea7e1                  115.0                   36.0      None                            NaN             0.0                              None                           None             None              NaN                         NaN                       NaN                              NaN                            None                  BTC                            None     None  \n",
            "3                         0.00052937                        20                             None                        NaN                                NaN           None                             NaN                      None                  115.0                   36.0      None                            NaN             0.0                              None                           None             None              NaN                         NaN                       NaN                              NaN                            None                  BTC                            None     None  \n",
            "4                         0.00035150                        20                             None                        NaN                                NaN           None                             NaN  618c75446e95ab00088ea7e1                  115.0                   36.0      None                            NaN             0.0                              None                           None             None              NaN                         NaN                       NaN                              NaN                            None                  BTC                            None     None  \n",
            "                        _id             city  location.lng.double           ccnumber atmwebcurrentversion country        codeatm idlocation  active                     owner state atmrecyclercurrentversion atmlocalservicescurrentversion                       address  tags                                county    status        idtemplatesettings  location.lng.int32  location.lat.int32       idtemplateexchanges                 locationname zipcode     lastconnectiontime  parts  location.lat.double         macaddress atmprintercurrentversion idatminit\n",
            "0  62055b7e9a38fd00091e51f8      FORT PIERCE           -80.351230         150372.USA               3.2.52     USA     150372.USA     150585    True  5fdb08d372b57400086a640a    FL                     2.1.8                         2.5.13              2500 W MIDWAY RD   742             St. Lucie / 1222000487278    Active  61808a803aecd6000855c4ec                 NaN                 NaN  63054802479f5800096ca9e4             Cumberland Farms   34981  2022-12-13 19:55:01.0    742             27.37566  f4:4d:30:c7:53:87                    1.0.4       _id\n",
            "1  630192997649ee0009730fc9          Concord          -122.040450         147578.USA               3.2.52     USA     147578.USA     128473    True  5fdb08d372b57400086a640a    CA                     2.1.8                         2.5.13           1725 Willow Pass Rd   743  Contra Costa County /  opt sn S98137    Active  6233c63190ff4a00092a47e2                 NaN                 NaN  63054802479f5800096ca9e4  Las MontaÃƒÂ±as Supermarket   94520  2022-12-13 19:55:02.0    743             37.97440  54:b2:03:9e:f9:1c                    1.0.4       _id\n",
            "2  62f6ee71543b300009ef8a67  Federal Heights                  NaN             CC1306                 None     USA  coincloud1306     108384    True  5fdb08d372b57400086a640a    CO                      None                           None             9380 Federal Blvd   744                            n/a OPT SN  Inactive  6233c63190ff4a00092a47e2                 0.0                 0.0  6305488e479f5800096caa10                                80260                   None    744                  NaN  00:00:00:00:00:00                     None       _id\n",
            "3  6301a74e94762e000942bf2e        Vancouver          -122.615750      coincloud2208               3.2.52     USA     144243.USA     119921    True  5fdb08d372b57400086a640a    WA                     2.1.8                         2.5.13  5000 E 4th Plain Blvd ##A103   745     Clark County  / OPT 4920000109382    Active  6233c63190ff4a00092a47e2                 NaN                 NaN  630548e26eda0200094df8a5           Dot Com Vapor Shop   98661  2022-12-13 19:50:04.0    745             45.64155  54:b2:03:9b:b2:20                    1.0.4       _id\n",
            "4  620e6395c9f831000937deb5       Glennville           -81.929021  150442.USA/CC6911               3.2.50     USA     150442.USA     148466    True  5fdb08d372b57400086a640a    GA                     2.1.8                         2.5.13          110 N. Veterans Blvd   746      Tattnall / Opt SN: 1222000181086    Active  61808a803aecd6000855c4ec                 NaN                 NaN  63054802479f5800096ca9e4                      Parkers   30427  2022-12-13 20:00:01.0    746             31.93704  f4:4d:30:c7:5c:a5                    1.0.4       _id\n"
          ]
        }
      ]
    },
    {
      "cell_type": "code",
      "source": [
        "c = ccosTrans[['idtransaction','status','transactiontype','idatminit','updateat','transactionamount.decimal']]\n",
        "c = c[(c['transactiontype'].isin(['BUY','SELL']))&(c['status']=='COMPLETE')]\n",
        "k = ccosKiosk[['_id','ccnumber','codeatm','idlocation']]\n",
        "k = k.assign(idatminit = k['_id'])\n",
        "c = pd.merge(c,k,on='idatminit',how='left')\n",
        "c = c[['idtransaction','updateat','transactionamount.decimal','codeatm']]\n",
        "c = c.rename(columns = {'updateat':'date'\n",
        "                       ,'codeatm':'machineid'\n",
        "                       ,'transactionamount.decimal':'amount'})\n",
        "c = c.assign(platform = 'ccos')\n",
        "c = c.sort_values(by='date', ascending= False)\n",
        "c['amount'] = c['amount'].astype('float64')\n",
        "print(c.dtypes)\n",
        "print(c.head(50))"
      ],
      "metadata": {
        "id": "6rIduFhs5104",
        "colab": {
          "base_uri": "https://localhost:8080/"
        },
        "outputId": "6b35de7a-4980-48db-993b-3a1fdb7f2493"
      },
      "execution_count": null,
      "outputs": [
        {
          "output_type": "stream",
          "name": "stdout",
          "text": [
            "idtransaction     object\n",
            "date              object\n",
            "amount           float64\n",
            "machineid         object\n",
            "platform          object\n",
            "dtype: object\n",
            "                               idtransaction                     date  amount            machineid platform\n",
            "100050  6065a30b-ef4a-4d28-8b28-f1d42495f7bd  2022-12-13 19:28:42.602   200.0           150034.USA     ccos\n",
            "100045  9bb55fa6-b2a8-4702-a01b-a33f0cb6d88f  2022-12-13 19:28:40.743   180.0           145374.USA     ccos\n",
            "100047  a10b4fcc-a284-47f7-a2a7-7e7125542c26  2022-12-13 19:28:39.919   600.0           149795.USA     ccos\n",
            "100042  6ee0e092-2bde-46ad-96c6-825d0f920c63  2022-12-13 19:28:39.489    80.0           142184.USA     ccos\n",
            "100040  bdb99e63-1aa1-4508-b28a-f88e241acb6c  2022-12-13 19:28:37.799   140.0           148687.USA     ccos\n",
            "100046  deae4197-ae43-4cd0-b796-20f832d275d6  2022-12-13 19:28:37.504   300.0           144414.USA     ccos\n",
            "100049  faf12190-f6d6-4aac-ba78-882ee6f51056  2022-12-13 19:28:37.367    35.0           143684.USA     ccos\n",
            "100043  1d99a6bf-fe11-4ea8-abc8-3eeff0494780  2022-12-13 19:28:37.062     5.0           146080.USA     ccos\n",
            "100044  6eeb2cba-b817-4207-83ef-5ef225af3af6  2022-12-13 19:28:35.953   445.0           150946.USA     ccos\n",
            "100048  5ad68354-1844-4c5c-ae9f-6272b7884fd9  2022-12-13 19:28:34.804     5.0           151332.USA     ccos\n",
            "100041  629fe85b-2b07-4cb3-ac90-754c06bfcc8e  2022-12-13 19:28:32.103    40.0           149821.USA     ccos\n",
            "100039  2ff18eef-f671-44be-b252-9044b06ee32c  2022-12-13 19:28:31.471    25.0           149524.USA     ccos\n",
            "100038  282cb435-ca9f-4eee-abaf-f7fd97318f00  2022-12-13 19:28:29.475  3220.0  542016000000046.USA     ccos\n",
            "100034  b83fd449-229f-4e1e-9609-103c3b3ffdbb  2022-12-13 19:28:29.142  3000.0  541325000000032.USA     ccos\n",
            "100028  d0139c21-56ca-42b2-9103-cc18f8c4cb43  2022-12-13 19:28:28.885   400.0           143955.USA     ccos\n",
            "100037  eae9f79e-6092-4422-ba2e-f8d805b35b55  2022-12-13 19:18:38.211    50.0           143603.USA     ccos\n",
            "100035  8fe7712d-5e18-4dda-b062-6ebc0a9835f9  2022-12-13 19:18:37.105   730.0           148338.USA     ccos\n",
            "100033  d1fb2ed9-d901-4321-81f4-a89f584f3e2e  2022-12-13 19:18:36.513   200.0           150074.USA     ccos\n",
            "100036  a523e56f-b6d6-4152-94db-78d5922b3eb1  2022-12-13 19:18:33.598   440.0  541325000000027.USA     ccos\n",
            "100032  3f442706-fd63-4c4b-98c8-e74493ac14b3  2022-12-13 19:18:32.295    20.0  542018000000041.USA     ccos\n",
            "100031  37ed0d59-6803-4f60-a312-2e97e9e6c1ea  2022-12-13 19:08:41.103   550.0           146199.USA     ccos\n",
            "100030  5f1e8f22-a49f-4558-96d6-9a0296581526  2022-12-13 19:08:39.713  2250.0           150074.USA     ccos\n",
            "100027  57a5ea4c-fe6e-4aeb-ac6d-df9ca4b2599f  2022-12-13 19:08:39.042   250.0           146324.USA     ccos\n",
            "100029  c1ebcf6c-3a84-46ba-bc6a-4258a14a38ce  2022-12-13 19:08:38.743   100.0           150901.USA     ccos\n",
            "100023  a849012d-f246-47c6-b509-2362ac19c792  2022-12-13 19:08:38.305    94.0           148424.USA     ccos\n",
            "100019  f20877e5-2f16-4490-800f-455b9a78662a  2022-12-13 19:08:37.481   250.0           145501.USA     ccos\n",
            "100021  02071e7a-8c2b-476f-98ac-5c3535f92d97  2022-12-13 19:08:36.785  1200.0           146325.USA     ccos\n",
            "100022  6e17debd-15c2-4154-893a-adffe359702e  2022-12-13 19:08:34.106   150.0  541539000000073.USA     ccos\n",
            "100025  53b901a3-7337-4110-9942-e4f9e426e03c  2022-12-13 19:08:33.982  2100.0           143106.USA     ccos\n",
            "100018  d05dd167-fa9e-418b-991a-2469ab04e0f9  2022-12-13 19:08:33.311  1000.0           143170.USA     ccos\n",
            "100024  59c0e1cf-0034-4603-bea7-1c98fa5036a3  2022-12-13 19:08:33.309   840.0           151137.USA     ccos\n",
            "100020  c4132d09-52dd-48b9-b6d4-f0bc1e5f6f12  2022-12-13 19:08:33.195   300.0  542489000000006.USA     ccos\n",
            "100017  eea41171-4ca3-4322-a981-81a8a8c18cd8  2022-12-13 19:08:31.455   450.0           146319.USA     ccos\n",
            "100016  a1dcd83b-a243-414b-9994-50f158544013  2022-12-13 19:08:31.175  5000.0           147593.USA     ccos\n",
            "100026  6f106f23-a963-41d8-863c-70ffe2883f78  2022-12-13 19:08:30.819   150.0           150074.USA     ccos\n",
            "100051  0416d1c0-063e-4db8-97d0-8da6d0cb2e77  2022-12-13 19:08:28.067  7800.0           143381.USA     ccos\n",
            "96459   50dcc182-3c45-418f-a4bb-a36016f98db3  2022-12-13 18:58:36.946   450.0           143099.USA     ccos\n",
            "96458   f175d5c9-1e97-438a-b225-a3763b690341  2022-12-13 18:58:36.884    25.0           150034.USA     ccos\n",
            "96457   a962e139-94f9-4051-9acd-f342ded2a4c9  2022-12-13 18:58:35.401    40.0           144048.USA     ccos\n",
            "96455   6c5dc87c-fdf2-4511-9a02-12fae371b669  2022-12-13 18:58:33.716   380.0           145595.USA     ccos\n",
            "96456   f94894a2-a30d-43cf-b62f-076be8b833a2  2022-12-13 18:58:32.529  3000.0           148194.USA     ccos\n",
            "96452   242973e1-49d3-44c8-9a9b-1e0ee1af2ee0  2022-12-13 18:58:30.354  1400.0           143992.USA     ccos\n",
            "96440   8718a2e2-088c-4bbb-932a-2855fec01a8e  2022-12-13 18:58:29.222    30.0           143739.USA     ccos\n",
            "96441   cc5da7f7-2dfa-4001-8ff7-319ae1d7b503   2022-12-13 18:58:28.93  7500.0           145299.USA     ccos\n",
            "96454   359a1502-04ee-46a6-86cf-fa8cb6bb534a   2022-12-13 18:48:42.25   120.0           143643.USA     ccos\n",
            "96446   43794f43-29ba-47e2-a900-bbd3a5470b14  2022-12-13 18:48:41.538    55.0           147788.USA     ccos\n",
            "96453   8928ae2e-64bc-4604-ae04-6c1350a7ead3  2022-12-13 18:48:41.413   180.0           142181.USA     ccos\n",
            "96447   2c17261a-41e7-453e-bd3c-a694d9c39b96  2022-12-13 18:48:40.347    60.0           145163.USA     ccos\n",
            "96444   7489f08c-3c1a-40a4-afc5-18b89d0e5d9b  2022-12-13 18:48:40.089  3200.0           146319.USA     ccos\n",
            "96451   8e7004db-2a84-4f4e-bb45-4787f015c476  2022-12-13 18:48:39.928   400.0           146325.USA     ccos\n"
          ]
        }
      ]
    },
    {
      "cell_type": "code",
      "source": [
        "b = baTrans.sort_values(by='completed at',ascending = False)\n",
        "b = b[b['state']=='completed']\n",
        "b = b[['btm machine name', 'id', 'amount deposited','completed at']]\n",
        "b = b.rename(columns = {'btm machine name':'machineid'\n",
        "                       ,'id':'idtransaction'\n",
        "                       ,'amount deposited': 'amount'\n",
        "                       ,'completed at':'date'})\n",
        "b = b.assign(platform = 'ba')\n",
        "print(b.dtypes)\n",
        "print(b.head())"
      ],
      "metadata": {
        "colab": {
          "base_uri": "https://localhost:8080/"
        },
        "id": "1YS3pCYUuqQh",
        "outputId": "b84c739a-5138-480b-aff6-f15b1c344efc"
      },
      "execution_count": null,
      "outputs": [
        {
          "output_type": "stream",
          "name": "stdout",
          "text": [
            "machineid         object\n",
            "idtransaction      int64\n",
            "amount           float64\n",
            "date              object\n",
            "platform          object\n",
            "dtype: object\n",
            "             machineid     idtransaction  amount                date platform\n",
            "1016134  coincloud2709  1664580314413241    20.0  2022-9-30 23:48:05       ba\n",
            "1016135  coincloud2709  1664580479958476   180.0  2022-9-30 23:48:05       ba\n",
            "1074777  coincloud3470  1664579963351633    80.0  2022-9-30 23:48:04       ba\n",
            "1015500  coincloud2023  1664579468620085   460.0  2022-9-30 23:30:36       ba\n",
            "1079757  coincloud4231  1664579647262441   510.0  2022-9-30 23:30:36       ba\n"
          ]
        }
      ]
    },
    {
      "cell_type": "code",
      "source": [
        "table = pd.concat([c,b])\n",
        "table = table.assign(yearmonth = pd.to_datetime(table['date']).dt.strftime(\"%Y-%m\"))\n",
        "table['date'] = pd.to_datetime(table['date'])\n",
        "print(table.head())\n",
        "print(table.dtypes)\n",
        "t = table.groupby(['yearmonth'],as_index = False).agg({'amount':sum})\n",
        "t = t[t['yearmonth'].str.startswith('2022')]\n",
        "t['amount'] = t['amount'].astype('long')\n",
        "print(t)"
      ],
      "metadata": {
        "colab": {
          "base_uri": "https://localhost:8080/"
        },
        "id": "mw8O0PEp0FBt",
        "outputId": "302b9c60-8c83-4859-d992-d6dde78fbd97"
      },
      "execution_count": null,
      "outputs": [
        {
          "output_type": "stream",
          "name": "stdout",
          "text": [
            "                               idtransaction                    date  amount   machineid platform yearmonth\n",
            "100050  6065a30b-ef4a-4d28-8b28-f1d42495f7bd 2022-12-13 19:28:42.602   200.0  150034.USA     ccos   2022-12\n",
            "100045  9bb55fa6-b2a8-4702-a01b-a33f0cb6d88f 2022-12-13 19:28:40.743   180.0  145374.USA     ccos   2022-12\n",
            "100047  a10b4fcc-a284-47f7-a2a7-7e7125542c26 2022-12-13 19:28:39.919   600.0  149795.USA     ccos   2022-12\n",
            "100042  6ee0e092-2bde-46ad-96c6-825d0f920c63 2022-12-13 19:28:39.489    80.0  142184.USA     ccos   2022-12\n",
            "100040  bdb99e63-1aa1-4508-b28a-f88e241acb6c 2022-12-13 19:28:37.799   140.0  148687.USA     ccos   2022-12\n",
            "idtransaction            object\n",
            "date             datetime64[ns]\n",
            "amount                  float64\n",
            "machineid                object\n",
            "platform                 object\n",
            "yearmonth                object\n",
            "dtype: object\n",
            "   yearmonth    amount\n",
            "42   2022-01  24431313\n",
            "43   2022-02  23633037\n",
            "44   2022-03  32664776\n",
            "45   2022-04  34423993\n",
            "46   2022-05  36331079\n",
            "47   2022-06  37196601\n",
            "48   2022-07  34221445\n",
            "49   2022-08  35698139\n",
            "50   2022-09  34412708\n",
            "51   2022-10  30485416\n",
            "52   2022-11  26708926\n",
            "53   2022-12   9383814\n"
          ]
        }
      ]
    },
    {
      "cell_type": "code",
      "source": [
        "# Run param table against  transaction table\n",
        "Surety = pd.DataFrame()\n",
        "for i in param.index:\n",
        "  t = pd.DataFrame()\n",
        "  t = table[(table['machineid']==param['machineId'][i])\n",
        "    &(table['date']>param['lastPickup'][i])\n",
        "    &(table['date']<=param['pickupdate'][i])\n",
        "  ]\n",
        "  #t = t.assign(marker=param['machineId'][i]+','+str(param['lastPickup'][i])+','+str(param['pickupdate'][i])+','+'marker'+','+str(len(t)))\n",
        "  Surety = Surety.append(t)\n",
        "\n",
        "print(Surety)"
      ],
      "metadata": {
        "colab": {
          "base_uri": "https://localhost:8080/"
        },
        "id": "RwCjO7936FPo",
        "outputId": "df4a5e94-e1eb-4267-9997-dced1642166f"
      },
      "execution_count": null,
      "outputs": [
        {
          "output_type": "stream",
          "name": "stdout",
          "text": [
            "                               idtransaction                    date  amount      machineid platform yearmonth\n",
            "52644   0e8c2cbc-57cc-4dd9-8253-ddfd8de39662 2022-10-25 15:29:14.874    50.0     143136.USA     ccos   2022-10\n",
            "56195   a18e191b-232e-4416-aa4f-d1373cab03fa 2022-10-22 13:38:39.986   850.0     143136.USA     ccos   2022-10\n",
            "60145   a8423546-e039-462c-972d-2d2693f3b042 2022-10-20 04:58:32.028  1200.0     143136.USA     ccos   2022-10\n",
            "55946   233cea16-d82c-425f-96b4-d50f82743b0c 2022-10-22 21:33:14.876   100.0     143134.USA     ccos   2022-10\n",
            "37472   5ae6bd34-7999-487b-8f51-fd2cbdc256ed 2022-10-22 19:31:09.735    47.0     143134.USA     ccos   2022-10\n",
            "...                                      ...                     ...     ...            ...      ...       ...\n",
            "932939                      1659826560471642 2022-08-06 23:25:06.000   520.0  coincloud3550       ba   2022-08\n",
            "932577                      1659711237561185 2022-08-05 17:01:05.000   200.0  coincloud3550       ba   2022-08\n",
            "919301                      1659393829550960 2022-08-02 15:16:37.000  1000.0  coincloud3550       ba   2022-08\n",
            "889886                      1659394920550696 2022-08-01 23:24:13.000   400.0  coincloud3550       ba   2022-08\n",
            "889833                      1659384447783137 2022-08-01 20:24:38.000    80.0  coincloud4099       ba   2022-08\n",
            "\n",
            "[21473 rows x 6 columns]\n"
          ]
        }
      ]
    },
    {
      "cell_type": "code",
      "source": [
        "summer = Surety.groupby(['yearmonth'],as_index=False).agg({'amount':sum})\n",
        "print(summer)"
      ],
      "metadata": {
        "colab": {
          "base_uri": "https://localhost:8080/"
        },
        "id": "_gpCo0BQBG-L",
        "outputId": "5f7e963e-6930-4caf-fb7c-469c5d75223c"
      },
      "execution_count": null,
      "outputs": [
        {
          "output_type": "stream",
          "name": "stdout",
          "text": [
            "  yearmonth        amount\n",
            "0   2022-08  4.630694e+06\n",
            "1   2022-09  1.403452e+07\n",
            "2   2022-10  1.003194e+07\n"
          ]
        }
      ]
    },
    {
      "cell_type": "markdown",
      "source": [
        "YOu tried using the tableau table\n",
        "you need to try to construct a table on your own of raw BA and CCOS and try it too\n",
        "You also need to try machine numbers too...\n",
        "Remember that the bank deposits probably have more honest machine ids than location ids\n"
      ],
      "metadata": {
        "id": "Dpu-xa_353rt"
      }
    },
    {
      "cell_type": "code",
      "execution_count": null,
      "metadata": {
        "id": "xcFd_XfDcMQV"
      },
      "outputs": [],
      "source": [
        "# CUT AND PRINT\n",
        "#Surety.to_csv('surety deposit transactions.csv')\n",
        "#files.download('surety deposit transactions.csv')"
      ]
    }
  ],
  "metadata": {
    "colab": {
      "provenance": [],
      "include_colab_link": true
    },
    "kernelspec": {
      "display_name": "Python 3",
      "name": "python3"
    },
    "language_info": {
      "name": "python"
    },
    "gpuClass": "standard"
  },
  "nbformat": 4,
  "nbformat_minor": 0
}