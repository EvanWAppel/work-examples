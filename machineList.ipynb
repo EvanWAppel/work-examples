{
  "nbformat": 4,
  "nbformat_minor": 0,
  "metadata": {
    "colab": {
      "name": "machineList.ipynb",
      "provenance": [],
      "collapsed_sections": [],
      "include_colab_link": true
    },
    "kernelspec": {
      "name": "python3",
      "display_name": "Python 3"
    },
    "language_info": {
      "name": "python"
    }
  },
  "cells": [
    {
      "cell_type": "markdown",
      "metadata": {
        "id": "view-in-github",
        "colab_type": "text"
      },
      "source": [
        "<a href=\"https://colab.research.google.com/github/EvanWAppel/work-examples/blob/main/machineList.ipynb\" target=\"_parent\"><img src=\"https://colab.research.google.com/assets/colab-badge.svg\" alt=\"Open In Colab\"/></a>"
      ]
    },
    {
      "cell_type": "code",
      "execution_count": null,
      "metadata": {
        "id": "QiHe--3zeyem",
        "colab": {
          "base_uri": "https://localhost:8080/"
        },
        "outputId": "3b39593a-1fe6-418b-96a0-0d062e3f2fcd"
      },
      "outputs": [
        {
          "output_type": "stream",
          "name": "stdout",
          "text": [
            "Mounted at /gdrive\n"
          ]
        }
      ],
      "source": [
        "# Libraries\n",
        "import os\n",
        "import pandas as pd\n",
        "%load_ext google.colab.data_table\n",
        "from google.colab import data_table\n",
        "import numpy as np\n",
        "from google.colab import files\n",
        "import datetime as datetime\n",
        "import plotly.express as px\n",
        "from google.colab import drive\n",
        "drive.mount('/gdrive')\n",
        "from google.colab import auth\n",
        "auth.authenticate_user()\n",
        "import gspread\n",
        "from google.auth import default \n",
        "creds,_ = default()\n",
        "gc = gspread.authorize(creds)\n",
        "\n",
        "# Configuration\n",
        "pd.set_option('display.max_columns', None)\n",
        "pd.set_option('display.width', 800)\n"
      ]
    },
    {
      "cell_type": "code",
      "source": [
        "#This is for BA\n",
        "worksheet = gc.open('BitAccess').sheet1\n",
        "# get_all_values gives a list of rows.\n",
        "rows = worksheet.get_all_values()\n",
        "# Convert to a DataFrame and render.\n",
        "data = pd.DataFrame.from_records(rows)\n",
        "\n",
        "#this takes a row of dataframe and converts to a list \n",
        "mylist = data.loc[0, :].values.tolist()\n",
        "#This tells the dataframe that the list of headers we're passing it are the headers\n",
        "data.columns = mylist\n",
        "#gets rid of first row\n",
        "data = data.drop(0)\n",
        "\n",
        "#This is for Vision\n",
        "worksheet2 = gc.open('Vision Cashbox Totals').sheet1\n",
        "# get_all_values gives a list of rows.\n",
        "rows2 = worksheet2.get_all_values()\n",
        "# Convert to a DataFrame and render.\n",
        "vision = pd.DataFrame.from_records(rows2)\n",
        "\n",
        "mylist = vision.loc[0, :].values.tolist()\n",
        "vision.columns = mylist\n",
        "vision = vision.drop(0)\n",
        "\n",
        "# Master Install Sheet\n",
        "worksheet3 = gc.open('Master Installs').worksheet('Master Installs')\n",
        "rows3 = worksheet3.get_all_values()\n",
        "installs = pd.DataFrame.from_records(rows3)\n",
        "\n",
        "mylist = installs.loc[0, :].values.tolist()\n",
        "installs.columns = mylist\n",
        "installs = installs.drop(0)\n",
        "\n",
        "# Armored WIP 2021\n",
        "worksheet4 = gc.open('Armored WIP 2021').worksheet('WIP')\n",
        "rows4 = worksheet4.get_all_values()\n",
        "wip = pd.DataFrame.from_records(rows4)\n",
        "\n",
        "mylist = wip.loc[1, :].values.tolist()\n",
        "wip.columns = mylist\n",
        "wip = wip.drop(0)\n",
        "wip = wip.drop(1)\n",
        "\n",
        "\n"
      ],
      "metadata": {
        "id": "ROlyBJXAnlmY"
      },
      "execution_count": null,
      "outputs": []
    },
    {
      "cell_type": "code",
      "source": [
        "# Vision transaction Data\n",
        "# proto-function for retrieving and concatenating all files from a folder in Google Drive\n",
        "# Declare directory to retrieve files from\n",
        "dir = \"/gdrive/MyDrive/Cash_Logistics_Process/Transaction_Data/Vision/\"\n",
        "# Get a list of the files and call it \"entries\"\n",
        "entries = [entry for entry in os.listdir(dir) if os.path.isfile(os.path.join(dir, entry))]\n",
        "# Declare an empty dataframe with a target name to put resulting data\n",
        "visionData = pd.DataFrame()\n",
        "# loop through entries...\n",
        "for entry in entries: \n",
        "  try:\n",
        "    # And if they're CSVs...\n",
        "    if entry.endswith(\".csv\"):\n",
        "      # Put them in the placeholder variable...\n",
        "      placeholder = pd.read_csv(\"/gdrive/MyDrive/Cash_Logistics_Process/Transaction_Data/Vision/\"+entry, parse_dates=True)\n",
        "    else:\n",
        "      # use a slightly different function to put them in the placeholder function...\n",
        "      placeholder = pd.read_xlsx(\"/gdrive/MyDrive/Cash_Logistics_Process/Transaction_Data/Vision/\"+entry, parse_dates=True)\n",
        "      # Then, collect them in your variable\n",
        "    visionData = visionData.append(placeholder)\n",
        "  except:\n",
        "    print(\"FILE \"+entry+\" CANNOT BE READ, PLEASE REPLACE.\")\n",
        "#print(visionData.head())\n",
        "#######################\n",
        "# Order Transaction Data\n",
        "\n",
        "#directory for BA files\n",
        "dirBA = \"/gdrive/MyDrive/Cash_Logistics_Process/Transaction_Data/BA/\"\n",
        "#get a list of the files\n",
        "entriesBA = [entry for entry in os.listdir(dirBA) if os.path.isfile(os.path.join(dirBA,entry))]\n",
        "\n",
        "BAData = pd.DataFrame()\n",
        "#loop through entries\n",
        "for entry in entriesBA:\n",
        "  try:\n",
        "    if entry.endswith(\".csv\"):\n",
        "      placeholder = pd.read_csv(\"/gdrive/MyDrive/Cash_Logistics_Process/Transaction_Data/BA/\"+entry, parse_dates=True)\n",
        "    else:\n",
        "      placeholder = pd.read_xlsx(\"/gdrive/MyDrive/Cash_Logistics_Process/Transaction_Data/BA/\"+entry,parse_dates=True)\n",
        "    BAData = BAData.append(placeholder)\n",
        "  except:\n",
        "     print(\"File\"+entry+\"CANNOT BE READ, PLEASE REPLACE.\") \n",
        "\n",
        "print(BAData.head())\n",
        "#\n"
      ],
      "metadata": {
        "colab": {
          "base_uri": "https://localhost:8080/"
        },
        "id": "DLmtXp9VS1uS",
        "outputId": "fb856d22-7165-4588-ef0d-d045712996af"
      },
      "execution_count": null,
      "outputs": [
        {
          "output_type": "stream",
          "name": "stdout",
          "text": [
            "                 ID Short Code                                       Key       Customer ID BTM Machine Name    Kind      State  Amount Deposited Deposit Currency  Requested Withdrawal Amount  Actual Withdrawal Amount Withdrawal Currency                  Withdrawal Address     Price  Spot Price Margin Percentage                                      Blockchain ID  CloudWallet Network Fee Key Org Key Product KYC Level  KYC Limit Deposit  KYC Limit Withdraw  KYC Limit Txns  Bitaccess Fee  Trade ID  Trade Exchange Name  Trade Type  Trade Status  Trade Price  Trade Amount Out  Trade Amount In  Trade Details Fee  Duration          Created At Reference Order BTM Reference Transaction ID  Mining Fee Location ID Promo Code  Promo Discount Altcoin selected Altcoin address        Completed At  \\\n",
            "0  1647820768388093   QYGDOI34  CCLD4947678934859776BTMB1647820768388093  4947678934859776    coincloud1182  btmbuy  completed              70.0              USD                     0.001438                  0.001438                 BTC  3Aznnq8LpXrRgz3hDhMWWFdBiDYC9GRb5V  48681.98    41290.91             17.9%  8cb2e54636d3ff834e09de8a1ba4224514fa797f50925f...                      NaN    CCLD        BTMB   Level 2             8500.0              8500.0            10.0       0.000017       NaN                  NaN         NaN           NaN          NaN               NaN              NaN                NaN       NaN  2022-3-20 23:59:28             NaN           coincloud1182_6024         NaN      108479        NaN             NaN              NaN             NaN  2022-3-21 00:35:01   \n",
            "1  1647820647404636   Q2YA3GB2  CCLD6428197177524224BTMB1647820647404636  6428197177524224    coincloud4303  btmbuy  completed             200.0              USD                     0.004113                  0.004113                 BTC  3FnSF81EWTHB4gNQPCgMRQw9Tav54XhKtf  48629.85    41246.69             17.9%  1541d41770c6f0ac9120217c8192f6661ac9751ab24e88...                      NaN    CCLD        BTMB   Level 2             8500.0              8500.0            10.0       0.000048       NaN                  NaN         NaN           NaN          NaN               NaN              NaN                NaN       NaN  2022-3-20 23:57:27             NaN           coincloud4303_5176         NaN      124620        NaN             NaN              NaN             NaN  2022-3-21 00:15:11   \n",
            "2  1647820620285199   Q2K2GUQH  CCLD7103422229960527BTMB1647820620285199  7103422229960527    coincloud1088  btmbuy  completed               9.0              USD                     0.000185                  0.000185                 BTC  39ZwhNyMfvFJkqFUt5wYRe1Btcj6VY9GWk  48642.26    41257.22             17.9%  1541d41770c6f0ac9120217c8192f6661ac9751ab24e88...                      NaN    CCLD        BTMB   Level 1             1000.0              1000.0            10.0       0.000002       NaN                  NaN         NaN           NaN          NaN               NaN              NaN                NaN       NaN  2022-3-20 23:57:00             NaN           coincloud1088_6172         NaN      103557        NaN             NaN              NaN             NaN  2022-3-21 00:15:11   \n",
            "3  1647820435593479   QY77PWQQ  CCLD7103422229965758BTMB1647820435593479  7103422229965758    coincloud5838  btmbuy  completed             200.0              USD                     0.004114                  0.004114                 BTC  13BaquoB5ccQzr15HLm85Y4peoJRkkF6nW  48619.31    41237.75             17.9%  1541d41770c6f0ac9120217c8192f6661ac9751ab24e88...                      NaN    CCLD        BTMB   Level 1             1000.0              1000.0            10.0       0.000048       NaN                  NaN         NaN           NaN          NaN               NaN              NaN                NaN       NaN  2022-3-20 23:53:55             NaN           coincloud5838_5404         NaN      125169        NaN             NaN              NaN             NaN  2022-3-21 00:15:09   \n",
            "4  1647820282793794   QRGYP7KH  CCLD7103422189355484BTMB1647820282793794  7103422189355484    coincloud2304  btmbuy  completed             260.0              USD                     0.005340                  0.005340                 BTC  3Lofy2nxEJZwLyoZPYEAsds87gyhSoGAWc  48685.34    41293.76             17.9%  1541d41770c6f0ac9120217c8192f6661ac9751ab24e88...                      NaN    CCLD        BTMB   Level 2             8500.0              8500.0            10.0       0.000063       NaN                  NaN         NaN           NaN          NaN               NaN              NaN                NaN       NaN  2022-3-20 23:51:22             NaN           coincloud2304_5175         NaN      124628        NaN             NaN              NaN             NaN  2022-3-21 00:15:08   \n",
            "\n",
            "            Closed At  \n",
            "0  2022-3-21 00:35:01  \n",
            "1  2022-3-21 00:15:11  \n",
            "2  2022-3-21 00:15:11  \n",
            "3  2022-3-21 00:15:09  \n",
            "4  2022-3-21 00:15:08  \n"
          ]
        }
      ]
    },
    {
      "cell_type": "code",
      "source": [
        "# Clean data\n",
        "# Start with the recylcer in BA\n",
        "# Select information you want\n",
        "machines = data[['Machine','Recycler','Cashbox','Location ID','Status']]\n",
        "# Clean up a column by selecting only digit characters\n",
        "machines['Recycler'] = machines['Recycler'].str.extract('(\\d+)')\n",
        "# ... Dropping nulls ...\n",
        "machines = machines.dropna()\n",
        "# Casting to the a data type\n",
        "machines['Recycler'] = machines['Recycler'].astype('int64')\n",
        "\n",
        "# Clean up the Cashbox Column\n",
        "# Same thing as we just did to the recycler\n",
        "machines['Cashbox'] = machines['Cashbox'].str.extract('(\\d+)')\n",
        "machines = machines.dropna()\n",
        "machines['Cashbox'] = machines['Cashbox'].astype('int64')\n",
        "\n",
        "#Clean up Vision Data\n",
        "# Select relevant data\n",
        "vmachines = vision[['Kiosk ID', 'Cash in Recycler', 'Cash in Cash box', 'Location ID']]\n",
        "# Convert data to appropriate data type.\n",
        "vmachines['Cash in Recycler'] = vmachines['Cash in Recycler'].astype('int64')\n",
        "vmachines['Cash in Cash box'] = vmachines['Cash in Cash box'].astype('int64')\n",
        "\n",
        "# Master Install Sheet\n",
        "inst = installs[['LID','Installed Date', 'Status']]\n",
        "inst = inst.rename(columns={'LID':'Location ID',\n",
        "                            'Status':'Install Status'})\n",
        "inst = inst.groupby(['Location ID','Install Status'],as_index=False).agg({'Installed Date':max})\n",
        "\n",
        "# Armored WIP\n",
        "w = wip[['LID','Loomis','Brinks','Awarded To','Awarded Date','Armored Service']]\n",
        "w = w.rename(columns={'LID':'Location ID'})\n",
        "w = w.groupby(['Location ID','Loomis','Brinks','Awarded To','Armored Service'],as_index=False).agg({'Awarded Date':max})\n",
        "\n",
        "# Vision\n",
        "print(visionData.head())\n",
        "# Select relevant columns\n",
        "v = visionData[['Location Id','Kind','Status','Amount Deposited USD','Cash Timestamp']]\n",
        "# Convert datetime to datetime\n",
        "v['Cash Timestamp'] = pd.to_datetime(v['Cash Timestamp'])\n",
        "v['Cash Timestamp'] = v['Cash Timestamp'].dt.date\n",
        "# Filter columns so it's only completed buys within the past 30 days\n",
        "from datetime import timedelta\n",
        "from datetime import date\n",
        "v = v[(v['Kind']=='BUY')&(v['Status']=='COMPLETE')&(v['Cash Timestamp']>= date.today() - timedelta(days = 1))]\n",
        "\n",
        "# rename columns in preparation of join\n",
        "v = v.rename(columns={'Location Id':'Location ID',\n",
        "                      'Amount Deposited USD': 'revenue'})\n",
        "v = v[['Location ID','revenue']]\n",
        "#BA\n",
        "#print(BAData.head())\n",
        "\n",
        "BA = BAData[['Location ID','Kind','State','Amount Deposited','Created At']]\n",
        "\n",
        "# Convert datetime to datetime - changed object to datetime\n",
        "BA['Created At'] = pd.to_datetime(BA['Created At'])\n",
        "\n",
        "#this is to only get date \n",
        "BA['Created At'] = BA['Created At'].dt.date\n",
        "\n",
        "# Filter columns so it's only completed buys within the past 30 days\n",
        "from datetime import timedelta\n",
        "from datetime import date\n",
        "BA = BA[(BA['Kind']=='btmbuy')&(BA['State']=='completed')&(BA['Created At']>= date.today() - timedelta(days = 30))]\n",
        "\n",
        "BA = BA.groupby('Location ID',as_index=False).agg({'Amount Deposited':sum})\n",
        "BA = BA.rename(columns={'Amount Deposited':'revenue'})\n",
        "BA = BA[['Location ID','revenue']]\n",
        "\n",
        "table = pd.concat([v,BA])\n",
        "\n",
        "table = table.groupby(['Location ID'],as_index=False).agg({'revenue':sum})\n",
        "\n",
        "print(table.head())"
      ],
      "metadata": {
        "id": "9V0LMUGwTa8_",
        "colab": {
          "base_uri": "https://localhost:8080/"
        },
        "outputId": "9454dc3a-a548-4560-817e-60def356941e"
      },
      "execution_count": null,
      "outputs": [
        {
          "output_type": "stream",
          "name": "stderr",
          "text": [
            "/usr/local/lib/python3.7/dist-packages/ipykernel_launcher.py:6: SettingWithCopyWarning: \n",
            "A value is trying to be set on a copy of a slice from a DataFrame.\n",
            "Try using .loc[row_indexer,col_indexer] = value instead\n",
            "\n",
            "See the caveats in the documentation: https://pandas.pydata.org/pandas-docs/stable/user_guide/indexing.html#returning-a-view-versus-a-copy\n",
            "  \n",
            "/usr/local/lib/python3.7/dist-packages/ipykernel_launcher.py:22: SettingWithCopyWarning: \n",
            "A value is trying to be set on a copy of a slice from a DataFrame.\n",
            "Try using .loc[row_indexer,col_indexer] = value instead\n",
            "\n",
            "See the caveats in the documentation: https://pandas.pydata.org/pandas-docs/stable/user_guide/indexing.html#returning-a-view-versus-a-copy\n",
            "/usr/local/lib/python3.7/dist-packages/ipykernel_launcher.py:23: SettingWithCopyWarning: \n",
            "A value is trying to be set on a copy of a slice from a DataFrame.\n",
            "Try using .loc[row_indexer,col_indexer] = value instead\n",
            "\n",
            "See the caveats in the documentation: https://pandas.pydata.org/pandas-docs/stable/user_guide/indexing.html#returning-a-view-versus-a-copy\n"
          ]
        },
        {
          "output_type": "stream",
          "name": "stdout",
          "text": [
            "   Transaction Id  Customer Id   Machine Id  Kind    Status Location Id State  Amount Deposited USD  Actual Amount BTC  Amount Deposited BTC  Requested Amount USD  Actual Amount USD  Amount to be Refunded  Alt Coins Amount Alt Coins Currency  Spot Price  Transaction Price  Alt Coin Spot Price  Alt Coin Transaction Price Promo Code  Margin Percentage                              Wallet Address                                      Blockchain ID  Network Fees  Mining Fees BTC           Cash Timestamp           Sell Timestamp       Complete Timestamp  Gross Revenue  Transaction Gross Profit  Mining Fee USD  Machine Gross Profit  Refund Amount USD  Refund Amount BTC  KYC Tier\n",
            "0  1643727273c1cd  17022393919  Vision03_HQ  SELL  COMPLETE      000000    NV                   NaN                NaN              0.001558                  60.0               60.0                    NaN               NaN                NaN   38644.750       38644.750000                  NaN                         NaN        NaN              0.000          1AAzRbwnvxA28zQ6FQBdWZWA3WeM4n2Szm  000000000000000000041ef525450c495ff23b2bd8c58f...           0.0         0.000000  02/01/2022 14:54:33 UTC  02/01/2022 20:38:06 UTC  02/01/2022 14:54:33 UTC      60.204656                  0.000000             0.0                   NaN                NaN                NaN       2.0\n",
            "1  16437275870ac5  13144023641   145234.USA   BUY  COMPLETE      101472    CA                 100.0           0.002210                   NaN                   NaN                NaN                    NaN               NaN                NaN   38384.830       45255.714570                  NaN                         NaN        NaN              0.179          3ACQ3dHZFvhjJTaMscuCAqZ7kACbhxRuJw  000000000000000000000433a66cce9a10361d977daf3c...           NaN         0.000006  02/01/2022 14:59:47 UTC                      NaN  02/01/2022 15:00:42 UTC     100.000000                 15.182193             NaN             15.182193                NaN                NaN       1.0\n",
            "2  164372803183df  13133198448   145071.USA   BUY  COMPLETE      101551    AZ                  50.0           0.001108                   NaN                   NaN                NaN                    NaN               NaN                NaN   38286.795       45140.131305                  NaN                         NaN        NaN              0.179          34SvhZ1bPJsPKj11gjyyeVYCTZTwhQMkFq  000000000000000000000433a66cce9a10361d977daf3c...           NaN         0.000006  02/01/2022 15:07:11 UTC                      NaN  02/01/2022 15:07:48 UTC      50.000000                  7.591249             NaN              7.591249                NaN                NaN       2.0\n",
            "3  164372909252c1  19093066163   145254.USA  SELL  COMPLETE      101503    CA                   NaN                NaN              0.005525                 200.0              200.0                    NaN               NaN                NaN   38468.060       36198.444460                  NaN                         NaN        NaN              0.059          1Lk4gREzeh8rue7nFTsHX7o8YjiSTHWywg  000000000000000000000433a66cce9a10361d977daf3c...           0.0         0.000000  02/01/2022 15:24:53 UTC  02/01/2022 15:46:50 UTC  02/01/2022 15:24:53 UTC     212.539878                 12.539853             0.0                   NaN                NaN                NaN       1.0\n",
            "4  1643730179c13c  13194701762   148163.USA   BUY  COMPLETE      127278    IA                 400.0           0.008821                   NaN                   NaN                NaN                    NaN               NaN                NaN   38460.650       45345.106350                  NaN                         NaN        NaN              0.179  bc1qy4kl5788js59w3qmhcfx8kpk9n7luu59dkdugr  0000000000000000000448e208d1eb3b3aae50440b57d2...           NaN         0.000007  02/01/2022 15:42:59 UTC                      NaN  02/01/2022 15:44:33 UTC     400.000000                 60.729376             NaN             60.729376                NaN                NaN       3.0\n",
            "  Location ID  revenue\n",
            "0     98930.0    150.0\n",
            "1    101396.0  10170.0\n",
            "2      101399     40.0\n",
            "3    101407.0     80.0\n",
            "4      101409    120.0\n"
          ]
        },
        {
          "output_type": "stream",
          "name": "stderr",
          "text": [
            "/usr/local/lib/python3.7/dist-packages/ipykernel_launcher.py:41: SettingWithCopyWarning: \n",
            "A value is trying to be set on a copy of a slice from a DataFrame.\n",
            "Try using .loc[row_indexer,col_indexer] = value instead\n",
            "\n",
            "See the caveats in the documentation: https://pandas.pydata.org/pandas-docs/stable/user_guide/indexing.html#returning-a-view-versus-a-copy\n",
            "/usr/local/lib/python3.7/dist-packages/ipykernel_launcher.py:42: SettingWithCopyWarning: \n",
            "A value is trying to be set on a copy of a slice from a DataFrame.\n",
            "Try using .loc[row_indexer,col_indexer] = value instead\n",
            "\n",
            "See the caveats in the documentation: https://pandas.pydata.org/pandas-docs/stable/user_guide/indexing.html#returning-a-view-versus-a-copy\n",
            "/usr/local/lib/python3.7/dist-packages/ipykernel_launcher.py:58: SettingWithCopyWarning: \n",
            "A value is trying to be set on a copy of a slice from a DataFrame.\n",
            "Try using .loc[row_indexer,col_indexer] = value instead\n",
            "\n",
            "See the caveats in the documentation: https://pandas.pydata.org/pandas-docs/stable/user_guide/indexing.html#returning-a-view-versus-a-copy\n",
            "/usr/local/lib/python3.7/dist-packages/ipykernel_launcher.py:61: SettingWithCopyWarning: \n",
            "A value is trying to be set on a copy of a slice from a DataFrame.\n",
            "Try using .loc[row_indexer,col_indexer] = value instead\n",
            "\n",
            "See the caveats in the documentation: https://pandas.pydata.org/pandas-docs/stable/user_guide/indexing.html#returning-a-view-versus-a-copy\n"
          ]
        }
      ]
    },
    {
      "cell_type": "code",
      "source": [
        ""
      ],
      "metadata": {
        "colab": {
          "base_uri": "https://localhost:8080/"
        },
        "id": "yvJnb9Ns9exr",
        "outputId": "650ecf8e-24cd-4794-8ea2-3b35d3d7d75f"
      },
      "execution_count": null,
      "outputs": [
        {
          "output_type": "stream",
          "name": "stdout",
          "text": [
            "  Location ID  Amount Deposited\n",
            "0     98930.0             150.0\n",
            "1    101396.0           10170.0\n",
            "2    101407.0              80.0\n",
            "3    101427.0              28.0\n",
            "4    101428.0              20.0\n"
          ]
        },
        {
          "output_type": "stream",
          "name": "stderr",
          "text": [
            "/usr/local/lib/python3.7/dist-packages/ipykernel_launcher.py:7: SettingWithCopyWarning: \n",
            "A value is trying to be set on a copy of a slice from a DataFrame.\n",
            "Try using .loc[row_indexer,col_indexer] = value instead\n",
            "\n",
            "See the caveats in the documentation: https://pandas.pydata.org/pandas-docs/stable/user_guide/indexing.html#returning-a-view-versus-a-copy\n",
            "  import sys\n",
            "/usr/local/lib/python3.7/dist-packages/ipykernel_launcher.py:10: SettingWithCopyWarning: \n",
            "A value is trying to be set on a copy of a slice from a DataFrame.\n",
            "Try using .loc[row_indexer,col_indexer] = value instead\n",
            "\n",
            "See the caveats in the documentation: https://pandas.pydata.org/pandas-docs/stable/user_guide/indexing.html#returning-a-view-versus-a-copy\n",
            "  # Remove the CWD from sys.path while we load stuff.\n"
          ]
        }
      ]
    },
    {
      "cell_type": "code",
      "source": [
        "# Union tables\n",
        "vmachines = vmachines.rename(columns={'Kiosk ID':'Machine','Cash in Recycler':'Recycler', 'Cash in Cash box' : 'Cashbox'})\n",
        "allmachines = pd.concat([machines,vmachines])\n",
        "allmachines = allmachines[allmachines['Status']!='Inactive']\n",
        "allmachines = allmachines[allmachines['Location ID']!='']\n",
        "\n",
        "# Joins\n",
        "\n",
        "\n",
        "allmachines = pd.merge(allmachines,inst,how = 'left',on = 'Location ID')\n",
        "\n",
        "\n",
        "allmachines = pd.merge(allmachines,w,how='left',on = 'Location ID')\n",
        "print(allmachines.head())\n",
        "print(allmachines.info())\n"
      ],
      "metadata": {
        "id": "seMpZAujE3BY",
        "colab": {
          "base_uri": "https://localhost:8080/"
        },
        "outputId": "e080d399-4f24-4097-b8d7-7a215e4a74e1"
      },
      "execution_count": null,
      "outputs": [
        {
          "output_type": "stream",
          "name": "stdout",
          "text": [
            "        Machine  Recycler  Cashbox Location ID   Status Installed Date Install Status  Loomis  Brinks Awarded To Armored Service Awarded Date\n",
            "0   coincloud62         0      142      103695   Online            NaN            NaN     NaN     NaN        NaN             NaN          NaN\n",
            "1   coincloud66      1200      481      104161   Online            NaN            NaN     NaN     NaN        NaN             NaN          NaN\n",
            "2   coincloud90      1000     2740      104221   Online            NaN            NaN     NaN     NaN        NaN             NaN          NaN\n",
            "3  coincloud306         0        0      130607  Offline            NaN            NaN     NaN     NaN        NaN             NaN          NaN\n",
            "4  coincloud320        80        0      101402   Online            NaN            NaN  $30.00  $32.51                                        \n",
            "<class 'pandas.core.frame.DataFrame'>\n",
            "Int64Index: 5717 entries, 0 to 5716\n",
            "Data columns (total 12 columns):\n",
            " #   Column           Non-Null Count  Dtype \n",
            "---  ------           --------------  ----- \n",
            " 0   Machine          5717 non-null   object\n",
            " 1   Recycler         5717 non-null   int64 \n",
            " 2   Cashbox          5717 non-null   int64 \n",
            " 3   Location ID      5717 non-null   object\n",
            " 4   Status           5045 non-null   object\n",
            " 5   Installed Date   1776 non-null   object\n",
            " 6   Install Status   1776 non-null   object\n",
            " 7   Loomis           4319 non-null   object\n",
            " 8   Brinks           4319 non-null   object\n",
            " 9   Awarded To       4319 non-null   object\n",
            " 10  Armored Service  4319 non-null   object\n",
            " 11  Awarded Date     4319 non-null   object\n",
            "dtypes: int64(2), object(10)\n",
            "memory usage: 580.6+ KB\n",
            "None\n"
          ]
        }
      ]
    },
    {
      "cell_type": "markdown",
      "source": [
        "Delivery"
      ],
      "metadata": {
        "id": "1AKzKIibDr51"
      }
    },
    {
      "cell_type": "code",
      "source": [
        "# Save and Print\n",
        "\n",
        "from datetime import date\n",
        "today = date.today()\n",
        "print(today)\n",
        "\n",
        "allmachines.to_csv('/gdrive/MyDrive/Cash_Logistics_Process/Daily Cashbox Report/Daily Reports/allmachines' + str(today) +'.csv') \n",
        "files.download('/gdrive/MyDrive/Cash_Logistics_Process/Daily Cashbox Report/Daily Reports/allmachines' + str(today) +'.csv')\n",
        "\n",
        "# save to the daily reports file with the date appended to the name.\n",
        "\n"
      ],
      "metadata": {
        "id": "qW0my_voTeK1",
        "colab": {
          "base_uri": "https://localhost:8080/",
          "height": 35
        },
        "outputId": "7227686e-d10d-4bbf-b35f-bee2ca601eb2"
      },
      "execution_count": null,
      "outputs": [
        {
          "output_type": "stream",
          "name": "stdout",
          "text": [
            "2022-03-22\n"
          ]
        },
        {
          "output_type": "display_data",
          "data": {
            "text/plain": [
              "<IPython.core.display.Javascript object>"
            ],
            "application/javascript": [
              "\n",
              "    async function download(id, filename, size) {\n",
              "      if (!google.colab.kernel.accessAllowed) {\n",
              "        return;\n",
              "      }\n",
              "      const div = document.createElement('div');\n",
              "      const label = document.createElement('label');\n",
              "      label.textContent = `Downloading \"${filename}\": `;\n",
              "      div.appendChild(label);\n",
              "      const progress = document.createElement('progress');\n",
              "      progress.max = size;\n",
              "      div.appendChild(progress);\n",
              "      document.body.appendChild(div);\n",
              "\n",
              "      const buffers = [];\n",
              "      let downloaded = 0;\n",
              "\n",
              "      const channel = await google.colab.kernel.comms.open(id);\n",
              "      // Send a message to notify the kernel that we're ready.\n",
              "      channel.send({})\n",
              "\n",
              "      for await (const message of channel.messages) {\n",
              "        // Send a message to notify the kernel that we're ready.\n",
              "        channel.send({})\n",
              "        if (message.buffers) {\n",
              "          for (const buffer of message.buffers) {\n",
              "            buffers.push(buffer);\n",
              "            downloaded += buffer.byteLength;\n",
              "            progress.value = downloaded;\n",
              "          }\n",
              "        }\n",
              "      }\n",
              "      const blob = new Blob(buffers, {type: 'application/binary'});\n",
              "      const a = document.createElement('a');\n",
              "      a.href = window.URL.createObjectURL(blob);\n",
              "      a.download = filename;\n",
              "      div.appendChild(a);\n",
              "      a.click();\n",
              "      div.remove();\n",
              "    }\n",
              "  "
            ]
          },
          "metadata": {}
        },
        {
          "output_type": "display_data",
          "data": {
            "text/plain": [
              "<IPython.core.display.Javascript object>"
            ],
            "application/javascript": [
              "download(\"download_620ff9bd-0313-4120-b6d1-767112e22742\", \"allmachines2022-03-22.csv\", 450329)"
            ]
          },
          "metadata": {}
        }
      ]
    }
  ]
}