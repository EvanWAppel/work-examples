{
  "nbformat": 4,
  "nbformat_minor": 0,
  "metadata": {
    "colab": {
      "provenance": [],
      "authorship_tag": "ABX9TyPvAO4VZVJkvYZQKdhksUwe",
      "include_colab_link": true
    },
    "kernelspec": {
      "name": "python3",
      "display_name": "Python 3"
    },
    "language_info": {
      "name": "python"
    }
  },
  "cells": [
    {
      "cell_type": "markdown",
      "metadata": {
        "id": "view-in-github",
        "colab_type": "text"
      },
      "source": [
        "<a href=\"https://colab.research.google.com/github/EvanWAppel/work-examples/blob/main/SuretyLocationTransactionData.ipynb\" target=\"_parent\"><img src=\"https://colab.research.google.com/assets/colab-badge.svg\" alt=\"Open In Colab\"/></a>"
      ]
    },
    {
      "cell_type": "code",
      "execution_count": null,
      "metadata": {
        "colab": {
          "base_uri": "https://localhost:8080/"
        },
        "id": "Ax6ysX6iPD25",
        "outputId": "f6879c84-6802-43dc-ab31-59aa2a1a2ba9"
      },
      "outputs": [
        {
          "output_type": "stream",
          "name": "stdout",
          "text": [
            "Looking in indexes: https://pypi.org/simple, https://us-python.pkg.dev/colab-wheels/public/simple/\n",
            "Collecting redshift_connector\n",
            "  Downloading redshift_connector-2.0.909-py3-none-any.whl (112 kB)\n",
            "\u001b[K     |████████████████████████████████| 112 kB 4.1 MB/s \n",
            "\u001b[?25hCollecting boto3<2.0.0,>=1.9.201\n",
            "  Downloading boto3-1.26.23-py3-none-any.whl (132 kB)\n",
            "\u001b[K     |████████████████████████████████| 132 kB 13.9 MB/s \n",
            "\u001b[?25hRequirement already satisfied: pytz>=2020.1 in /usr/local/lib/python3.7/dist-packages (from redshift_connector) (2022.6)\n",
            "Requirement already satisfied: requests<3.0.0,>=2.23.0 in /usr/local/lib/python3.7/dist-packages (from redshift_connector) (2.23.0)\n",
            "Collecting botocore<2.0.0,>=1.12.201\n",
            "  Downloading botocore-1.29.23-py3-none-any.whl (10.2 MB)\n",
            "\u001b[K     |████████████████████████████████| 10.2 MB 33.7 MB/s \n",
            "\u001b[?25hRequirement already satisfied: setuptools in /usr/local/lib/python3.7/dist-packages (from redshift_connector) (57.4.0)\n",
            "Collecting scramp<1.5.0,>=1.2.0\n",
            "  Downloading scramp-1.4.4-py3-none-any.whl (13 kB)\n",
            "Collecting beautifulsoup4<5.0.0,>=4.7.0\n",
            "  Downloading beautifulsoup4-4.11.1-py3-none-any.whl (128 kB)\n",
            "\u001b[K     |████████████████████████████████| 128 kB 6.2 MB/s \n",
            "\u001b[?25hRequirement already satisfied: packaging in /usr/local/lib/python3.7/dist-packages (from redshift_connector) (21.3)\n",
            "Requirement already satisfied: lxml>=4.6.5 in /usr/local/lib/python3.7/dist-packages (from redshift_connector) (4.9.1)\n",
            "Collecting soupsieve>1.2\n",
            "  Downloading soupsieve-2.3.2.post1-py3-none-any.whl (37 kB)\n",
            "Collecting jmespath<2.0.0,>=0.7.1\n",
            "  Downloading jmespath-1.0.1-py3-none-any.whl (20 kB)\n",
            "Collecting s3transfer<0.7.0,>=0.6.0\n",
            "  Downloading s3transfer-0.6.0-py3-none-any.whl (79 kB)\n",
            "\u001b[K     |████████████████████████████████| 79 kB 3.1 MB/s \n",
            "\u001b[?25hCollecting urllib3<1.27,>=1.25.4\n",
            "  Downloading urllib3-1.26.13-py2.py3-none-any.whl (140 kB)\n",
            "\u001b[K     |████████████████████████████████| 140 kB 42.6 MB/s \n",
            "\u001b[?25hRequirement already satisfied: python-dateutil<3.0.0,>=2.1 in /usr/local/lib/python3.7/dist-packages (from botocore<2.0.0,>=1.12.201->redshift_connector) (2.8.2)\n",
            "Requirement already satisfied: six>=1.5 in /usr/local/lib/python3.7/dist-packages (from python-dateutil<3.0.0,>=2.1->botocore<2.0.0,>=1.12.201->redshift_connector) (1.15.0)\n",
            "Requirement already satisfied: certifi>=2017.4.17 in /usr/local/lib/python3.7/dist-packages (from requests<3.0.0,>=2.23.0->redshift_connector) (2022.9.24)\n",
            "Requirement already satisfied: idna<3,>=2.5 in /usr/local/lib/python3.7/dist-packages (from requests<3.0.0,>=2.23.0->redshift_connector) (2.10)\n",
            "  Downloading urllib3-1.25.11-py2.py3-none-any.whl (127 kB)\n",
            "\u001b[K     |████████████████████████████████| 127 kB 35.0 MB/s \n",
            "\u001b[?25hRequirement already satisfied: chardet<4,>=3.0.2 in /usr/local/lib/python3.7/dist-packages (from requests<3.0.0,>=2.23.0->redshift_connector) (3.0.4)\n",
            "Collecting asn1crypto>=1.5.1\n",
            "  Downloading asn1crypto-1.5.1-py2.py3-none-any.whl (105 kB)\n",
            "\u001b[K     |████████████████████████████████| 105 kB 36.9 MB/s \n",
            "\u001b[?25hRequirement already satisfied: importlib-metadata>=1.0 in /usr/local/lib/python3.7/dist-packages (from scramp<1.5.0,>=1.2.0->redshift_connector) (4.13.0)\n",
            "Requirement already satisfied: zipp>=0.5 in /usr/local/lib/python3.7/dist-packages (from importlib-metadata>=1.0->scramp<1.5.0,>=1.2.0->redshift_connector) (3.10.0)\n",
            "Requirement already satisfied: typing-extensions>=3.6.4 in /usr/local/lib/python3.7/dist-packages (from importlib-metadata>=1.0->scramp<1.5.0,>=1.2.0->redshift_connector) (4.1.1)\n",
            "Requirement already satisfied: pyparsing!=3.0.5,>=2.0.2 in /usr/local/lib/python3.7/dist-packages (from packaging->redshift_connector) (3.0.9)\n",
            "Installing collected packages: urllib3, jmespath, botocore, soupsieve, s3transfer, asn1crypto, scramp, boto3, beautifulsoup4, redshift-connector\n",
            "  Attempting uninstall: urllib3\n",
            "    Found existing installation: urllib3 1.24.3\n",
            "    Uninstalling urllib3-1.24.3:\n",
            "      Successfully uninstalled urllib3-1.24.3\n",
            "  Attempting uninstall: beautifulsoup4\n",
            "    Found existing installation: beautifulsoup4 4.6.3\n",
            "    Uninstalling beautifulsoup4-4.6.3:\n",
            "      Successfully uninstalled beautifulsoup4-4.6.3\n",
            "Successfully installed asn1crypto-1.5.1 beautifulsoup4-4.11.1 boto3-1.26.23 botocore-1.29.23 jmespath-1.0.1 redshift-connector-2.0.909 s3transfer-0.6.0 scramp-1.4.4 soupsieve-2.3.2.post1 urllib3-1.25.11\n"
          ]
        }
      ],
      "source": [
        "import pandas as pd\n",
        "from google.colab import files \n",
        "import plotly.express as px\n",
        "import datetime as datetime\n",
        "import numpy as np\n",
        "pd.set_option('display.max_columns', None)\n",
        "pd.set_option('display.width', 800)\n",
        "!pip install redshift_connector\n",
        "import redshift_connector\n",
        "import getpass"
      ]
    },
    {
      "cell_type": "code",
      "source": [
        "# Credential Assignment\n",
        "un = input(\"enter your username:\")\n",
        "pw = getpass.getpass(\"Enter your password:\")\n",
        "\n",
        "# Connect to the cluster\n",
        "#https://docs.aws.amazon.com/redshift/latest/mgmt/python-connect-examples.html\n",
        "\n",
        "# Tableau Connection\n",
        "conn = redshift_connector.connect(\n",
        "  host='ccos-redshift-cluster-01.clfuihuyk2so.us-east-1.redshift.amazonaws.com',\n",
        "  database='tableau',\n",
        "  user=un,\n",
        "  password=pw,\n",
        "  port=5439\n",
        ")\n",
        "\n",
        "# Create a Cursor object\n",
        "cursor = conn.cursor()\n",
        "\n",
        "# Query a table using the Cursor\n",
        "# Then...\n",
        "# Retrieve the query result set\n",
        "# for every table you want to convert into a dataframe\n",
        "# Put them in different cells so that you don't have to run the whole thing during debugging"
      ],
      "metadata": {
        "colab": {
          "base_uri": "https://localhost:8080/"
        },
        "id": "XgnT015cPEVk",
        "outputId": "bc9f4099-f570-4673-b6af-360cdda2bca5"
      },
      "execution_count": null,
      "outputs": [
        {
          "name": "stdout",
          "output_type": "stream",
          "text": [
            "enter your username:eappel\n",
            "Enter your password:··········\n"
          ]
        }
      ]
    },
    {
      "cell_type": "code",
      "source": [
        "# Credential Assignment\n",
        "un = input(\"enter your username:\")\n",
        "pw = getpass.getpass(\"Enter your password:\")\n",
        "\n",
        "# Connect to the cluster\n",
        "#https://docs.aws.amazon.com/redshift/latest/mgmt/python-connect-examples.html\n",
        "\n",
        "# Tableau Connection\n",
        "conn = redshift_connector.connect(\n",
        "  host='ccos-redshift-cluster-01.clfuihuyk2so.us-east-1.redshift.amazonaws.com',\n",
        "  database='cc_fin_reports',\n",
        "  user=un,\n",
        "  password=pw,\n",
        "  port=5439\n",
        ")\n",
        "\n",
        "# Create a Cursor object\n",
        "cursor = conn.cursor()"
      ],
      "metadata": {
        "colab": {
          "base_uri": "https://localhost:8080/"
        },
        "id": "G4UThpMEJqW2",
        "outputId": "9ca472a6-3743-46ae-cc70-2e8b262e0ba7"
      },
      "execution_count": null,
      "outputs": [
        {
          "name": "stdout",
          "output_type": "stream",
          "text": [
            "enter your username:eappel\n",
            "Enter your password:··········\n"
          ]
        }
      ]
    },
    {
      "cell_type": "code",
      "source": [
        "# CCOS transactions\n",
        "cursor.execute('''select * from \"ccos\".\"public\".\"transactions\"  ''')\n",
        "ccosTrans =  cursor.fetch_dataframe()\n",
        "#print(ccosTrans.head())"
      ],
      "metadata": {
        "id": "c3TYtyzJI3mL"
      },
      "execution_count": null,
      "outputs": []
    },
    {
      "cell_type": "code",
      "source": [
        "# CCOS Customers\n",
        "cursor.execute('''select * from \"ccos\".\"public\".\"clients\" ''')\n",
        "ccosCusts =  cursor.fetch_dataframe()\n",
        "#print(ccosCusts.head())"
      ],
      "metadata": {
        "id": "rBTAch8gI316"
      },
      "execution_count": null,
      "outputs": []
    },
    {
      "cell_type": "code",
      "source": [
        "# CCOS Kiosks\n",
        "cursor.execute('''select * from \"ccos\".\"public\".\"kiosks\" ''')\n",
        "ccosKiosk =  cursor.fetch_dataframe()\n",
        "#print(ccosKiosk.head())"
      ],
      "metadata": {
        "id": "BZ0TtMrXI3-4"
      },
      "execution_count": null,
      "outputs": []
    },
    {
      "cell_type": "code",
      "source": [
        "# BA transactions\n",
        "cursor.execute('''select * from \"ba\".\"public\".\"accountingorders\"  ''')\n",
        "baTrans =  cursor.fetch_dataframe()\n",
        "#print(baTrans.head())"
      ],
      "metadata": {
        "id": "T-8xyE_JI4GJ"
      },
      "execution_count": null,
      "outputs": []
    },
    {
      "cell_type": "code",
      "source": [
        "# BA Customers\n",
        "cursor.execute('''select * from \"ba\".\"public\".\"staging-api-customers\" ''')\n",
        "baCusts =  cursor.fetch_dataframe()\n",
        "#print(baCusts.head())"
      ],
      "metadata": {
        "id": "jCUtBVXYI4OC"
      },
      "execution_count": null,
      "outputs": []
    },
    {
      "cell_type": "code",
      "source": [
        "# Cashbox Data\n",
        "cursor.execute('''select * from \"cc_fin_reports\".\"public\".\"vw_cashbox_pickup_report\" ''')\n",
        "cashbox = cursor.fetch_dataframe()\n",
        "print(cashbox.head())\n",
        "alex = cashbox[cashbox['date']>='2022-09-01']\n",
        "alex = cashbox[['date','cashbox_balance']]\n",
        "alex.to_csv('cashbox pickup amounts.csv')\n",
        "files.download('cashbox pickup amounts.csv')"
      ],
      "metadata": {
        "colab": {
          "base_uri": "https://localhost:8080/",
          "height": 235
        },
        "id": "k7PlQh11-OM0",
        "outputId": "653d7ca7-fb86-455d-948a-2f336d09ea51"
      },
      "execution_count": null,
      "outputs": [
        {
          "output_type": "error",
          "ename": "AttributeError",
          "evalue": "ignored",
          "traceback": [
            "\u001b[0;31m---------------------------------------------------------------------------\u001b[0m",
            "\u001b[0;31mAttributeError\u001b[0m                            Traceback (most recent call last)",
            "\u001b[0;32m<ipython-input-3-b40cd986c5f0>\u001b[0m in \u001b[0;36m<module>\u001b[0;34m\u001b[0m\n\u001b[1;32m      2\u001b[0m \u001b[0mcursor\u001b[0m\u001b[0;34m.\u001b[0m\u001b[0mexecute\u001b[0m\u001b[0;34m(\u001b[0m\u001b[0;34m'''select * from \"cc_fin_reports\".\"public\".\"vw_cashbox_pickup_report\" '''\u001b[0m\u001b[0;34m)\u001b[0m\u001b[0;34m\u001b[0m\u001b[0;34m\u001b[0m\u001b[0m\n\u001b[1;32m      3\u001b[0m \u001b[0mcashbox\u001b[0m \u001b[0;34m=\u001b[0m \u001b[0mcursor\u001b[0m\u001b[0;34m.\u001b[0m\u001b[0mfetch_dataframe\u001b[0m\u001b[0;34m(\u001b[0m\u001b[0;34m)\u001b[0m\u001b[0;34m\u001b[0m\u001b[0;34m\u001b[0m\u001b[0m\n\u001b[0;32m----> 4\u001b[0;31m \u001b[0mprint\u001b[0m\u001b[0;34m(\u001b[0m\u001b[0mcashbox\u001b[0m\u001b[0;34m.\u001b[0m\u001b[0mhead\u001b[0m\u001b[0;34m(\u001b[0m\u001b[0;34m)\u001b[0m\u001b[0;34m)\u001b[0m\u001b[0;34m\u001b[0m\u001b[0;34m\u001b[0m\u001b[0m\n\u001b[0m\u001b[1;32m      5\u001b[0m \u001b[0malex\u001b[0m \u001b[0;34m=\u001b[0m \u001b[0mcashbox\u001b[0m\u001b[0;34m[\u001b[0m\u001b[0mcashbox\u001b[0m\u001b[0;34m[\u001b[0m\u001b[0;34m'date'\u001b[0m\u001b[0;34m]\u001b[0m\u001b[0;34m>=\u001b[0m\u001b[0;34m'2022-09-01'\u001b[0m\u001b[0;34m]\u001b[0m\u001b[0;34m\u001b[0m\u001b[0;34m\u001b[0m\u001b[0m\n\u001b[1;32m      6\u001b[0m \u001b[0malex\u001b[0m \u001b[0;34m=\u001b[0m \u001b[0mcashbox\u001b[0m\u001b[0;34m[\u001b[0m\u001b[0;34m[\u001b[0m\u001b[0;34m'date'\u001b[0m\u001b[0;34m,\u001b[0m\u001b[0;34m'cashbox_balance'\u001b[0m\u001b[0;34m]\u001b[0m\u001b[0;34m]\u001b[0m\u001b[0;34m\u001b[0m\u001b[0;34m\u001b[0m\u001b[0m\n",
            "\u001b[0;31mAttributeError\u001b[0m: 'NoneType' object has no attribute 'head'"
          ]
        }
      ]
    },
    {
      "cell_type": "code",
      "source": [
        "# use LOC to pull information about locations\n",
        "loc = pd.read_csv(\"locationsA.csv\")\n",
        "loc = loc.assign(lid = loc['internalId'])\n",
        "loc['lid'].astype('str')\n",
        "#print(loc.head())\n",
        "# Surety Location Ids according to CCWeb download: locationsA\n",
        "# Use to filter by right join\n",
        "sur = loc[loc['bankName']=='Surety']\n",
        "sids = sur[['internalId']]\n",
        "surs = sids.reset_index(drop=True)\n",
        "surs = surs.rename(columns={'internalId':'lid'})\n",
        "surs['lid'] = surs['lid'].astype('str')\n",
        "#print(surs.head())"
      ],
      "metadata": {
        "colab": {
          "base_uri": "https://localhost:8080/"
        },
        "id": "jRHN6t4l4WL2",
        "outputId": "f3f6ba0f-d1cb-41e3-be14-f6941a238728"
      },
      "execution_count": null,
      "outputs": [
        {
          "output_type": "stream",
          "name": "stderr",
          "text": [
            "/usr/local/lib/python3.7/dist-packages/IPython/core/interactiveshell.py:3326: DtypeWarning: Columns (51,52) have mixed types.Specify dtype option on import or set low_memory=False.\n",
            "  exec(code_obj, self.user_global_ns, self.user_ns)\n"
          ]
        }
      ]
    },
    {
      "cell_type": "code",
      "source": [
        "# CCOS customer data\n",
        "ccos_data = pd.read_csv(\"ccos_cust_data.csv\")\n",
        "print(ccos_data.head())\n",
        "cd = ccos_data[['iduser','ssn']]"
      ],
      "metadata": {
        "colab": {
          "base_uri": "https://localhost:8080/"
        },
        "id": "G6JJrU85x92k",
        "outputId": "742a6e73-558d-4ea5-ddce-82583e1d7e66"
      },
      "execution_count": null,
      "outputs": [
        {
          "output_type": "stream",
          "name": "stdout",
          "text": [
            "   Unnamed: 0                                iduser lastname firstname      cellphone  ssn birthday.date jumiodata.idaddress.formattedaddress\n",
            "0           0  7c9468c8-9c3b-4011-b62a-b0b6cb465c0c      NaN       NaN  14058120092.0  NaN           NaN                                  NaN\n",
            "1           1  0e277165-7d67-4f85-bb37-2e40d1483348      NaN       NaN  17026408417.0  NaN           NaN                                  NaN\n",
            "2           2  77fd2e85-6dde-42d8-9af2-84e5d445c7cd      NaN       NaN  17027431320.0  NaN           NaN                                  NaN\n",
            "3           3  35fa284e-8965-4ad4-9283-37fe73a2ff03      NaN       NaN  16023157681.0  NaN           NaN                                  NaN\n",
            "4           4  415c5276-fb5e-4250-a625-22fafb79ae75      NaN       NaN  17022393919.0  NaN           NaN                                  NaN\n"
          ]
        },
        {
          "output_type": "stream",
          "name": "stderr",
          "text": [
            "/usr/local/lib/python3.7/dist-packages/IPython/core/interactiveshell.py:3326: DtypeWarning: Columns (4,5,6) have mixed types.Specify dtype option on import or set low_memory=False.\n",
            "  exec(code_obj, self.user_global_ns, self.user_ns)\n"
          ]
        }
      ]
    },
    {
      "cell_type": "code",
      "source": [
        "#Assemble BA data\n",
        "baTable = baTrans[['id'\n",
        "                  ,'withdrawal address'\n",
        "                  ,'completed at'\n",
        "                  ,'customer id'\n",
        "                  ,'state'\n",
        "                  ,'kind'\n",
        "                  ,'altcoin selected'\n",
        "                  ,'promo code'\n",
        "                  ,'promo discount'\n",
        "                  ,'location id.string'\n",
        "                  ,'btm machine name'\n",
        "                  ,'blockchain id'\n",
        "                  ,'bitaccess fee'\n",
        "                  ,'margin percentage'\n",
        "                  ,'requested withdrawal amount'\n",
        "                  ,'amount deposited'\n",
        "                  ,'cloudwallet network fee'\n",
        "                  ,'price'\n",
        "                  ,'spot price'\n",
        "                  ,'trade details fee'\n",
        "                  ,'btm reference transaction id']]\n",
        "# clean customer Information\n",
        "#print(baCusts.head())\n",
        "baC = baCusts[['customers_id'\n",
        "              ,'first_name'\n",
        "              ,'last_name'\n",
        "              ,'primary_contact'\n",
        "              ,'city'\n",
        "              ,'ssn'\n",
        "              ,'address1'\n",
        "              ,'address2'\n",
        "              ,'state'\n",
        "              ,'postal_code']]\n",
        "baC = baC.rename(columns={'state':'IDstate'})\n",
        "# Make the customer's identier their full name\n",
        "baC = baC.assign(contactName = baC['first_name'] + ' ' + baC['last_name'])\n",
        "# Concatenate addresses\n",
        "baC = baC.assign(fullAddress = baC['address1']+'\\n'+baC['address2'])\n",
        "# prepare the key for the join\n",
        "baTable = baTable.assign(customer_id = baTable['customer id'])\n",
        "baC = baC.assign(customer_id = baC['customers_id'])\n",
        "# add customer information\n",
        "ba = pd.merge(baTable,baC,how='left',on='customer_id')\n",
        "# put the buy and sell amounts in the same column\n",
        "ba = ba.assign(amt = ba['requested withdrawal amount'].fillna(0) + ba['amount deposited'].fillna(0))\n",
        "#df.assign(age_bracket = np.where(df.age < 25, 'under 25',(np.where(df.age < 35, \"25-34\", \"35+\"))))\n",
        "ba = ba.assign(amt = np.where(ba['kind']=='btmbuy',ba['amount deposited'],(np.where(ba['kind']=='btmsell',ba['requested withdrawal amount'],'error'))))\n",
        "# CCOS doesn't have Bitaccess fees\n",
        "ba = ba.assign(bitAccessFiatFeeDisplay = 'N/A')\n",
        "ba = ba.assign(btcTransferedDisplay = 'Not Found')\n",
        "# Filters\n",
        "ba = ba[ba['state']=='completed']\n",
        "ba = ba[(ba['kind']=='btmbuy')|(ba['kind']=='btmsell')]\n",
        "# Rename data to match the target sheet.\n",
        "ba = ba.rename(columns={ 'id':'_id'\n",
        "                        ,'amt':'amountFiatDisplay'\n",
        "                        ,'btm machine name':'atmName'\n",
        "                        ,'bitaccess fee':'bitAccessFeeDisplay'\n",
        "                        ,'price':'btcPriceDisplay'\n",
        "                        ,'blockchain id':'btcTxIdDisplay'\n",
        "                        ,'contactName':'contactName'\n",
        "                        ,'primary_contact':'contactPhone'\n",
        "                        ,'margin percentage':'rateDisplay'\n",
        "                        ,'spot price':'spotPriceDisplay'\n",
        "                        ,'state':'status'\n",
        "                        ,'completed at':'transactionDate'\n",
        "                        ,'btm reference transaction id':'transactionId'\n",
        "                        ,'kind':'type'\n",
        "                        ,'withdrawal address':'wallet'\n",
        "                        ,'location id.string':'lid'\n",
        "                        ,'city':'city'\n",
        "                        ,'ssn':'ssn'\n",
        "                        ,'fullAddress':'address'\n",
        "                        ,'IDstate':'state'\n",
        "                        ,'postal_code':'zip'})\n",
        "# Sort descending so you see most recent and more relevant things first, duh\n",
        "ba = ba.sort_values(by='transactionDate', ascending=False)\n",
        "# join in raw location data to attach location data\n",
        "l = loc[['atmExternalId','internalId','lid','displayState']]\n",
        "l['lid'] = l['lid'].astype('str')\n",
        "ba = pd.merge(ba,l,on='lid',how='left')\n",
        "ba = ba.rename(columns={'displayState':'atmLocationState'})\n",
        "# Testing\n",
        "#print(ba.dtypes)\n",
        "#print(ba.head())"
      ],
      "metadata": {
        "colab": {
          "base_uri": "https://localhost:8080/"
        },
        "id": "hpL_20TuPYcK",
        "outputId": "747c40da-e056-4e9c-d0e2-d4978c571028"
      },
      "execution_count": null,
      "outputs": [
        {
          "output_type": "stream",
          "name": "stderr",
          "text": [
            "/usr/local/lib/python3.7/dist-packages/ipykernel_launcher.py:81: SettingWithCopyWarning: \n",
            "A value is trying to be set on a copy of a slice from a DataFrame.\n",
            "Try using .loc[row_indexer,col_indexer] = value instead\n",
            "\n",
            "See the caveats in the documentation: https://pandas.pydata.org/pandas-docs/stable/user_guide/indexing.html#returning-a-view-versus-a-copy\n"
          ]
        }
      ]
    },
    {
      "cell_type": "code",
      "source": [
        "# Assemble CCOS data\n",
        "# margin calculation\n",
        "ccosTrans = ccosTrans.assign(margin = \n",
        "            ccosTrans['cryptocurrencyspotprice.double'].fillna(0).astype('float64')*ccosTrans['cryptocurrencyamountdest.decimal'].fillna(0).astype('float64')\n",
        "           -ccosTrans['transactionamount.decimal'].fillna(0).astype('float64')/ccosTrans['transactionamount.decimal'].fillna(0).astype('float64'))\n",
        "# Trim\n",
        "ccosTable = ccosTrans[['idatminit'\n",
        "                     , 'iduser'\n",
        "                     ,'_id'\n",
        "                     ,'transactiontype'\n",
        "                     ,'idtransaction'\n",
        "                     ,'status'\n",
        "                     ,'updateat'\n",
        "                     ,'cellphone'\n",
        "                     ,'destinationaddress'\n",
        "                     ,'cryptocurrencyorigin'\n",
        "                     ,'cryptocurrencyamountorigin.decimal'\n",
        "                     ,'address.state'\n",
        "                     ,'cryptocurrencyspotprice.double'\n",
        "                     ,'margin'\n",
        "                     ,'cryptocurrencyprice.decimal'\n",
        "                     ,'transactionamount.decimal']]\n",
        "\n",
        "# Bring in some customer information\n",
        "ccosC = ccosCusts[['lastname','firstname','iduser']]\n",
        "ccosC = ccosC.assign(contactName = ccosC['firstname'] + ' ' + ccosC['lastname'])\n",
        "ccos = pd.merge(ccosTable,ccosC,how='left', on='iduser')\n",
        "# Bring in the kiosk information\n",
        "ccosK = ccosKiosk[['_id','codeatm','idlocation']]\n",
        "ccosK = ccosK.assign(idatminit = ccosK['_id'])\n",
        "ccos = pd.merge(ccos,ccosK,how='left',on='idatminit')\n",
        "# Columns I haven't found yet\n",
        "ccos = ccos.assign(bitAccessFeeDisplay = 'not found')\n",
        "ccos = ccos.assign(bitAccessFiatFeeDisplay = 'not found')\n",
        "# Rename to match target\n",
        "ccos = ccos.rename(columns={ 'transactionamount.decimal':'amountFiatDisplay'\n",
        "                            ,'address.state':'atmLocationState'\n",
        "                            ,'codeatm':'atmName'\n",
        "                            ,'margin':'rateDisplay'\n",
        "                            ,'cryptocurrencyprice.decimal':'btcPriceDisplay'\n",
        "                            ,'cryptocurrencyamountorigin.decimal':'btcTransferedDisplay'\n",
        "                            ,'destinationaddress':'btcTxIdDisplay'\n",
        "                            ,'contactName':'contactName'\n",
        "                            ,'cellphone':'contactPhone'\n",
        "                            ,'cryptocurrencyspotprice.double':'spotPriceDisplay'\n",
        "                            ,'status':'status'\n",
        "                            ,'updateat':'transactionDate'\n",
        "                            ,'idtransaction':'transactionId'\n",
        "                            ,'transactiontype':'type'\n",
        "                            ,'idlocation':'lid'\n",
        "                            ,'_id_x':'_id'\n",
        "                            ,'cryptocurrencyorigin':'wallet'\n",
        "                            ,'cryptocurrencyamountorigin.decimal':'btcTransferedDisplay'})\n",
        "# Sort values for relevancce\n",
        "ccos = ccos.sort_values(by = 'transactionDate', ascending = False)\n",
        "# Filters\n",
        "ccos = ccos[ccos['status']=='COMPLETE']\n",
        "print(ccos.head())\n"
      ],
      "metadata": {
        "id": "55AQMMT7RLaL",
        "colab": {
          "base_uri": "https://localhost:8080/"
        },
        "outputId": "5241488b-edbc-4bbc-9dd6-c2db7a33ad29"
      },
      "execution_count": null,
      "outputs": [
        {
          "output_type": "stream",
          "name": "stdout",
          "text": [
            "                       idatminit                                iduser                       _id type                         transactionId    status          transactionDate  contactPhone                              btcTxIdDisplay wallet btcTransferedDisplay atmLocationState  spotPriceDisplay  rateDisplay     btcPriceDisplay amountFiatDisplay lastname   firstname      contactName                     _id_y     atmName     lid bitAccessFeeDisplay bitAccessFiatFeeDisplay\n",
            "141024  62a1f141877c010009f9fafd  1614d1f6-43a5-4c2a-8907-0838c9686a43  637e41c1907a380008c88107  BUY  17b30125-9b3a-4644-a9a3-b1d8c77d2b0a  COMPLETE  2022-11-23 16:08:31.244  +14434732105  bc1qq36nezlfh4kf4xwvm0mdy552k0s7s9xx7v7u2u    BTC           0.00780560               MD         16399.795   127.010240  20498.103770515823               160     None        None              NaN  62a1f141877c010009f9fafd  151091.USA  152168           not found               not found\n",
            "141025  63010fbb65f7c10009b8c175  72141476-a062-41b9-b592-a55388ba9e32  637e4201907a380008c88109  BUY  d5efb8d3-6619-47b0-ae0b-13a536225a19  COMPLETE  2022-11-23 16:08:29.534  +17657209148  bc1qxy222gnw0zth26t4ynw7h88pewagj2t4jsn9f2    BTC           0.00682990               IN         16399.795   111.008960  20498.103770515823               140     None     ANDREWS              NaN  63010fbb65f7c10009b8c175  147724.USA  146564           not found               not found\n",
            "141026  6169a7dc81de1a0009b8bee8  d606d163-c3ae-4bb6-a44c-f340893c0793  637e4216907a380008c8810a  BUY  32b5c9d2-e357-434a-a40c-6c037d2db035  COMPLETE  2022-11-23 16:08:28.764  +14847160114          1PZu1WzNzmrXDqsCZnPgExCsYJtw3dY6D8    BTC           0.03658875               AZ         16399.795   599.047999  20498.103770515823               750     None        None              NaN  6169a7dc81de1a0009b8bee8  145594.USA  101452           not found               not found\n",
            "141022  61ba0f1cb47d0600081bd651  025332f0-1708-4213-89ca-8a11975fa1f1  637e40b5a305af000809a32c  BUY  94fd25ca-7c50-485f-92f7-ac36fc20cefd  COMPLETE  2022-11-23 16:08:28.236  +16513990479          1MDFa4Fc9Vu9sxsg2FmD6dpqQCZiFH82UV    BTC           0.00487806               MN         16401.280    79.006428  20499.959872009204               100     SAIN  KAREN LYNN  KAREN LYNN SAIN  61ba0f1cb47d0600081bd651  150684.USA  139563           not found               not found\n",
            "125939  6322500636b80a000d221781  811aaa7e-1be0-4305-a55c-616b8210a7d9  637e4051907a380008c88101  BUY  a7e73cf5-72bc-4d15-9566-4fa8a3a31ac8  COMPLETE   2022-11-23 15:58:39.75  +12108461680          3BFwXzrL4nvfA3VoXDdpUZXfp7D4c8WZBN    BTC           0.01461289               TX         16425.170   239.019202  20529.819983010202               300     None        None              NaN  6322500636b80a000d221781  149661.USA  135830           not found               not found\n"
          ]
        }
      ]
    },
    {
      "cell_type": "code",
      "source": [
        "#UNIONS AND FILTERS\n",
        "# Trim\n",
        "ba = ba[[ '_id',\n",
        "          'amountFiatDisplay',\n",
        "          'atmLocationState',\n",
        "          'atmName',\n",
        "          'bitAccessFeeDisplay',\n",
        "          'btcPriceDisplay',\n",
        "          'btcTxIdDisplay',\n",
        "          'contactName',\n",
        "          'contactPhone',\n",
        "          'rateDisplay',\n",
        "          'spotPriceDisplay',\n",
        "          'status',\n",
        "          'transactionDate',\n",
        "          'transactionId',\n",
        "          'type',\n",
        "          'wallet',\n",
        "          'lid',\n",
        "          'bitAccessFiatFeeDisplay',\n",
        "          'btcTransferedDisplay']]\n",
        "ccos = ccos[[ '_id',\n",
        "              'amountFiatDisplay',\n",
        "              'atmLocationState',\n",
        "              'atmName',\n",
        "              'rateDisplay',\n",
        "              'bitAccessFeeDisplay',\n",
        "              'bitAccessFiatFeeDisplay',\n",
        "              'btcPriceDisplay',\n",
        "              'btcTransferedDisplay',\n",
        "              'btcTxIdDisplay',\n",
        "              'contactName',\n",
        "              'contactPhone',\n",
        "              'spotPriceDisplay',\n",
        "              'status',\n",
        "              'transactionDate',\n",
        "              'transactionId',\n",
        "              'type',\n",
        "              'wallet',\n",
        "              'lid']]\n",
        "# Union it\n",
        "master = pd.concat([ba,ccos])\n",
        "#print(master.head())\n",
        "#print(surs.head())"
      ],
      "metadata": {
        "id": "oIR9kDzY3w2-"
      },
      "execution_count": null,
      "outputs": []
    },
    {
      "cell_type": "code",
      "source": [
        "# filter by right joining the location list from above\n",
        "master = pd.merge(master,surs,how='right',on='lid')\n",
        "\n",
        "master = master[((master['status']=='COMPLETE')|(master['status']=='completed'))]\n",
        "\n",
        "# filter by transactionDate\n",
        "master['transactionDate'] = pd.to_datetime(master['transactionDate'])\n",
        "master = master[master['transactionDate'] >= '2021-08-01']"
      ],
      "metadata": {
        "id": "D5Sl5aY5zKbO"
      },
      "execution_count": null,
      "outputs": []
    },
    {
      "cell_type": "code",
      "source": [
        "twotwo = pd.read_csv('2022.csv')\n",
        "twoone = pd.read_csv('2021.csv')\n",
        "cashbox = pd.concat([twoone,twotwo])\n",
        "cashevents = cashbox[['bankReducer','bagNumbers','amount','bankTransactionIdsReducer','dateOutReducer','internalIdReducer','transportReducer']]\n",
        "cashevents = cashevents[cashevents['bankReducer']!='Surety']\n",
        "bankCount = cashevents.groupby(['bankReducer']).agg({'amount':sum,'bagNumbers':np.size})\n",
        "transportCount = cashevents.groupby(['transportReducer']).agg({'amount':sum,'bagNumbers':np.size})\n",
        "dateSum = cashevents.groupby(['dateOutReducer','transportReducer'],as_index=False).agg({'amount':sum})\n",
        "dateSum = dateSum.assign(yearmonth= pd.to_datetime(dateSum['dateOutReducer']).dt.to_period('M').dt.to_timestamp())\n",
        "dateSum = dateSum[dateSum['yearmonth']>='2022-07-01']\n",
        "dateSum = dateSum.sort_values(by='dateOutReducer')\n",
        "\n",
        "\n",
        "print(cashevents.head())\n",
        "print(bankCount)\n",
        "print(transportCount)\n",
        "print(dateSum.head())\n",
        "fig = px.line(dateSum, x=\"yearmonth\", y=\"amount\", color='transportReducer', title='cash deposits over time')\n",
        "#fig.show()"
      ],
      "metadata": {
        "colab": {
          "base_uri": "https://localhost:8080/"
        },
        "id": "juUu3uZ59-GT",
        "outputId": "227b90de-38af-4fc6-83bc-d0ead7137086"
      },
      "execution_count": null,
      "outputs": [
        {
          "output_type": "stream",
          "name": "stdout",
          "text": [
            "            bankReducer       bagNumbers  amount bankTransactionIdsReducer dateOutReducer  internalIdReducer transportReducer\n",
            "0   The Commercial Bank        212431089   12100        080320211210023416     08/01/2021             101472          Sectran\n",
            "9   The Commercial Bank       GJ60961147   16850        080420211685023545     08/02/2021             116266           Brinks\n",
            "11  The Commercial Bank  RCS131700291228     100          0803202110023370     08/02/2021             108966           Brinks\n",
            "22  The Commercial Bank       DF43140734    9500         08032021950023349     08/02/2021             104406           Loomis\n",
            "27  The Commercial Bank       DF43140778     120          0803202112023350     08/02/2021             104415           Loomis\n",
            "                        amount  bagNumbers\n",
            "bankReducer                               \n",
            "CCHQ                   4283150         627\n",
            "People First Bank      5329297        1352\n",
            "The Commercial Bank  197973287       58263\n",
            "                            amount  bagNumbers\n",
            "transportReducer                              \n",
            "Axiom                      5331696        1341\n",
            "Brinks                   152089906       47110\n",
            "Cashman                   14425832        2056\n",
            "Field Nation                 38361          10\n",
            "Independent Contractors     433070          22\n",
            "Loomis                    25701162        7239\n",
            "NO SERVICE AVAILABLE        887733          51\n",
            "Rochester                  2929002         972\n",
            "Roger Veges                  23853           4\n",
            "Sectran                    3988417         956\n",
            "Terminated-Low Rev          111841          22\n",
            "VTS                         128399          14\n",
            "    dateOutReducer transportReducer  amount  yearmonth\n",
            "751     07/01/2022            Axiom   13009 2022-07-01\n",
            "752     07/01/2022           Brinks  435920 2022-07-01\n",
            "753     07/01/2022          Cashman   29127 2022-07-01\n",
            "754     07/01/2022           Loomis  119124 2022-07-01\n",
            "755     07/02/2022           Brinks   58399 2022-07-01\n"
          ]
        }
      ]
    },
    {
      "cell_type": "code",
      "source": [
        "cash = cashbox[['internalIdReducer','dateOutReducer']]\n",
        "cash = cash.rename(columns={'internalIdReducer':'location_id'\n",
        "                           ,'dateOutReducer':'date'})\n",
        "end = cash[pd.to_datetime(cash['date'])<'2022-11-01']\n",
        "end = end.groupby(['location_id'],as_index=False).agg({'date':np.max})\n",
        "end = end.rename(columns={'date':'pickup_date'})\n",
        "start = cash[pd.to_datetime(cash['date'])<'2022-08-01']\n",
        "start = start.groupby(['location_id'],as_index=False).agg({'date':np.max})\n",
        "start = start.rename(columns={'date':'start'})\n",
        "table = pd.merge(end,start, how='left',on='location_id')\n",
        "table = table.fillna('2021-08-01')\n",
        "table['start'] = pd.to_datetime(table['start']).dt.date\n",
        "table['start'] = pd.to_datetime(table['start'])\n",
        "table['pickup_date'] = pd.to_datetime(table['pickup_date'])\n",
        "table['location_id'] = table['location_id'].astype('str')\n",
        "print(table.describe)\n",
        "print(table.head())"
      ],
      "metadata": {
        "colab": {
          "base_uri": "https://localhost:8080/"
        },
        "id": "ESc5JwXf4Iaa",
        "outputId": "d9fcd5ed-896a-49ca-dd5b-bc3a101ce349"
      },
      "execution_count": null,
      "outputs": [
        {
          "output_type": "stream",
          "name": "stdout",
          "text": [
            "<bound method NDFrame.describe of      location_id pickup_date      start\n",
            "0         101389  2022-09-03 2021-08-01\n",
            "1         101393  2021-12-27 2021-12-27\n",
            "2         101394  2021-12-31 2021-12-31\n",
            "3         101396  2021-12-27 2021-12-27\n",
            "4         101399  2021-11-17 2021-11-17\n",
            "...          ...         ...        ...\n",
            "6093      155810  2022-08-22 2021-08-01\n",
            "6094      155947  2022-10-24 2021-08-01\n",
            "6095      157034  2022-10-26 2021-08-01\n",
            "6096      157211  2022-07-06 2022-07-06\n",
            "6097      158434  2022-08-26 2021-08-01\n",
            "\n",
            "[6098 rows x 3 columns]>\n",
            "  location_id pickup_date      start\n",
            "0      101389  2022-09-03 2021-08-01\n",
            "1      101393  2021-12-27 2021-12-27\n",
            "2      101394  2021-12-31 2021-12-31\n",
            "3      101396  2021-12-27 2021-12-27\n",
            "4      101399  2021-11-17 2021-11-17\n"
          ]
        }
      ]
    },
    {
      "cell_type": "code",
      "source": [
        "\n",
        "collection = pd.DataFrame()\n",
        "\n",
        "for x in table.index:\n",
        "  temp = pd.DataFrame()\n",
        "  temp = master[(master['lid']==table['location_id'][x])&\n",
        "                (master['transactionDate']>=table['start'][x])&\n",
        "                (master['transactionDate']<table['pickup_date'][x])]\n",
        "  temp = temp.assign(pickupDate = table['pickup_date'][x])\n",
        "  collection = collection.append(temp)\n",
        "collection = collection.drop_duplicates()\n",
        "print(collection.head())\n"
      ],
      "metadata": {
        "colab": {
          "base_uri": "https://localhost:8080/"
        },
        "id": "tpPcn5lCA8sC",
        "outputId": "44c115dd-2a66-4c7a-e794-1efc560a097c"
      },
      "execution_count": null,
      "outputs": [
        {
          "output_type": "stream",
          "name": "stdout",
          "text": [
            "                     _id amountFiatDisplay atmLocationState        atmName bitAccessFeeDisplay btcPriceDisplay                                     btcTxIdDisplay     contactName  contactPhone rateDisplay  spotPriceDisplay     status     transactionDate       transactionId    type                                      wallet     lid bitAccessFiatFeeDisplay btcTransferedDisplay pickupDate\n",
            "109330  1659506936498551             350.0               NJ  coincloud2704          0.00015206        27690.59  d4efd747b4d42b3ecfd6c61f15e17ac6c3a768aaa84a8c...   COLEMAN,DAVID  +19086445839       20.3%          23017.95  completed 2022-08-03 06:27:10  coincloud2704_5154  btmbuy  bc1qk2e4qm2rw6ee6e7v0t4asktwsu6dhsx5m3yjhz  101389                     N/A            Not Found 2022-09-03\n",
            "109331  1659506936498551             350.0               NJ  coincloud2704          0.00015206        27690.59  d4efd747b4d42b3ecfd6c61f15e17ac6c3a768aaa84a8c...   COLEMAN,DAVID  +19086445839       20.3%          23017.95  completed 2022-08-03 06:27:10  coincloud2704_5154  btmbuy  bc1qk2e4qm2rw6ee6e7v0t4asktwsu6dhsx5m3yjhz  101389                     N/A            Not Found 2022-09-03\n",
            "109332  1659506936498551             350.0               NJ  coincloud2704          0.00015206        27690.59  d4efd747b4d42b3ecfd6c61f15e17ac6c3a768aaa84a8c...   COLEMAN,DAVID  +19086445839       20.3%          23017.95  completed 2022-08-03 06:27:10  coincloud2704_5154  btmbuy  bc1qk2e4qm2rw6ee6e7v0t4asktwsu6dhsx5m3yjhz  101389                     N/A            Not Found 2022-09-03\n",
            "109333  1659506936498551             350.0               NJ  coincloud2704          0.00015206        27690.59  d4efd747b4d42b3ecfd6c61f15e17ac6c3a768aaa84a8c...   COLEMAN,DAVID  +19086445839       20.3%          23017.95  completed 2022-08-03 06:27:10  coincloud2704_5154  btmbuy  bc1qk2e4qm2rw6ee6e7v0t4asktwsu6dhsx5m3yjhz  101389                     N/A            Not Found 2022-09-03\n",
            "109334  1659506936498551             350.0               NJ  coincloud2704          0.00015206        27690.59  d4efd747b4d42b3ecfd6c61f15e17ac6c3a768aaa84a8c...   COLEMAN,DAVID  +19086445839       20.3%          23017.95  completed 2022-08-03 06:27:10  coincloud2704_5154  btmbuy  bc1qk2e4qm2rw6ee6e7v0t4asktwsu6dhsx5m3yjhz  101389                     N/A            Not Found 2022-09-03\n"
          ]
        }
      ]
    },
    {
      "cell_type": "code",
      "source": [
        "\n",
        "print(collection.head())\n",
        "print(collection.info)"
      ],
      "metadata": {
        "colab": {
          "base_uri": "https://localhost:8080/"
        },
        "id": "tUoWiJgLiq2w",
        "outputId": "7f7d559b-9af2-473e-b1d0-50651ccb8d54"
      },
      "execution_count": null,
      "outputs": [
        {
          "output_type": "stream",
          "name": "stdout",
          "text": [
            "                     _id amountFiatDisplay atmLocationState        atmName     bitAccessFeeDisplay btcPriceDisplay                                     btcTxIdDisplay     contactName  contactPhone rateDisplay  spotPriceDisplay     status     transactionDate       transactionId    type                                      wallet     lid bitAccessFiatFeeDisplay btcTransferedDisplay pickupDate\n",
            "109330  1659506936498551             350.0               NJ  coincloud2704              0.00015206        27690.59  d4efd747b4d42b3ecfd6c61f15e17ac6c3a768aaa84a8c...   COLEMAN,DAVID  +19086445839       20.3%          23017.95  completed 2022-08-03 06:27:10  coincloud2704_5154  btmbuy  bc1qk2e4qm2rw6ee6e7v0t4asktwsu6dhsx5m3yjhz  101389                     N/A            Not Found 2022-09-03\n",
            "109338  1659317693425126             560.0               NJ  coincloud2704              0.00023906        28180.77  75f1d6daebe44f9c35f858533d175c57fd6ec71a6bc82e...   COLEMAN,DAVID  +19086445839       20.3%          23425.41  completed 2022-08-01 01:56:17  coincloud2704_5152  btmbuy  bc1qk2e4qm2rw6ee6e7v0t4asktwsu6dhsx5m3yjhz  101389                     N/A            Not Found 2022-09-03\n",
            "109346  1659184783867685             620.0               NJ  coincloud2704  0.00025607000000000001        29126.99  5c2843697ae7181142c3fe2dae7c2efe790c9e814235f3...                  +12018956817       20.3%          24211.96  completed 2022-07-30 13:13:04  coincloud2704_5148  btmbuy  bc1q45zch6wwk46cl63g0hhcrz3plkve6eldnyaqmn  101389                     N/A            Not Found 2022-09-03\n",
            "109353  1658898011983775             100.0               NJ  coincloud2704  4.7370000000000002e-05        25397.72  3e7327ab66002cb82f186860082eeb5a95c976f7d6afd4...     MARIE DESIR  +19088757829       20.3%          21111.99  completed 2022-07-27 06:08:05  coincloud2704_5147  btmbuy  bc1qnr5dktmyf9qmna3r7qr4fhdzn3ez6gypjdjt62  101389                     N/A            Not Found 2022-09-03\n",
            "109384  1658039071885836             200.0               NJ  coincloud2704  9.3640000000000005e-05        25695.17  81fa8cd88c245d23cd31b2203e13b42dc76a1a391ddb03...                  +15593005239       20.3%          21359.24  completed 2022-07-17 07:03:03  coincloud2704_5138  btmbuy  bc1qgtuwhye2lwg9leu7sjejuna7f0e2f4g0uc2k55  101389                     N/A            Not Found 2022-09-03\n",
            "<bound method DataFrame.info of                              _id amountFiatDisplay atmLocationState        atmName     bitAccessFeeDisplay     btcPriceDisplay                                     btcTxIdDisplay     contactName  contactPhone  rateDisplay  spotPriceDisplay     status         transactionDate                         transactionId    type                                      wallet     lid bitAccessFiatFeeDisplay btcTransferedDisplay pickupDate\n",
            "109330          1659506936498551             350.0               NJ  coincloud2704              0.00015206            27690.59  d4efd747b4d42b3ecfd6c61f15e17ac6c3a768aaa84a8c...   COLEMAN,DAVID  +19086445839        20.3%          23017.95  completed 2022-08-03 06:27:10.000                    coincloud2704_5154  btmbuy  bc1qk2e4qm2rw6ee6e7v0t4asktwsu6dhsx5m3yjhz  101389                     N/A            Not Found 2022-09-03\n",
            "109338          1659317693425126             560.0               NJ  coincloud2704              0.00023906            28180.77  75f1d6daebe44f9c35f858533d175c57fd6ec71a6bc82e...   COLEMAN,DAVID  +19086445839        20.3%          23425.41  completed 2022-08-01 01:56:17.000                    coincloud2704_5152  btmbuy  bc1qk2e4qm2rw6ee6e7v0t4asktwsu6dhsx5m3yjhz  101389                     N/A            Not Found 2022-09-03\n",
            "109346          1659184783867685             620.0               NJ  coincloud2704  0.00025607000000000001            29126.99  5c2843697ae7181142c3fe2dae7c2efe790c9e814235f3...                  +12018956817        20.3%          24211.96  completed 2022-07-30 13:13:04.000                    coincloud2704_5148  btmbuy  bc1q45zch6wwk46cl63g0hhcrz3plkve6eldnyaqmn  101389                     N/A            Not Found 2022-09-03\n",
            "109353          1658898011983775             100.0               NJ  coincloud2704  4.7370000000000002e-05            25397.72  3e7327ab66002cb82f186860082eeb5a95c976f7d6afd4...     MARIE DESIR  +19088757829        20.3%          21111.99  completed 2022-07-27 06:08:05.000                    coincloud2704_5147  btmbuy  bc1qnr5dktmyf9qmna3r7qr4fhdzn3ez6gypjdjt62  101389                     N/A            Not Found 2022-09-03\n",
            "109384          1658039071885836             200.0               NJ  coincloud2704  9.3640000000000005e-05            25695.17  81fa8cd88c245d23cd31b2203e13b42dc76a1a391ddb03...                  +15593005239        20.3%          21359.24  completed 2022-07-17 07:03:03.000                    coincloud2704_5138  btmbuy  bc1qgtuwhye2lwg9leu7sjejuna7f0e2f4g0uc2k55  101389                     N/A            Not Found 2022-09-03\n",
            "...                          ...               ...              ...            ...                     ...                 ...                                                ...             ...           ...          ...               ...        ...                     ...                                   ...     ...                                         ...     ...                     ...                  ...        ...\n",
            "9       6304397dcbce50000908ae53               993               CA     148368.USA               not found   24454.31637000884         bc1q3de80zjj7wucf4aal9gau3h6scvkpfnucy0t5c             NaN  +19169754701     863.2298          21283.13   COMPLETE 2022-08-23 14:38:46.883  f5f13376-7088-490a-af5a-18bf6a122506     BUY                                         BTC  155947               not found           0.04060633 2022-10-24\n",
            "10      63043b9f4216010009fe3efb               100               CA     148368.USA               not found  24549.717839991372         bc1q3de80zjj7wucf4aal9gau3h6scvkpfnucy0t5c             NaN  +19169754701    86.032275          21366.16   COMPLETE 2022-08-23 03:58:37.190  6dc5df02-5627-4fdb-9c44-63fa67af113b     BUY                                         BTC  155947               not found           0.00407337 2022-10-24\n",
            "11      6303ad68b5d5780009b17530               460               CA     148368.USA               not found  24583.647810026123         bc1qcvs976p3eqkjkajs0mueahgmtydvhdxvauu4vq             NaN  +19162719610   399.348235          21395.69   COMPLETE 2022-08-23 03:18:41.177  9f357e70-9ac4-4198-97eb-1d37225ba0e7     BUY                                         BTC  155947               not found           0.01871163 2022-10-24\n",
            "12      62fd15318e4c25000988ad4b              1500               CA     148368.USA               not found  26817.361259996527         bc1qjsucaq75lej70vcqdyjy3xgukws3fd53gzfe4z             NaN  +19162719610  1304.482917          23339.74   COMPLETE 2022-08-17 18:38:39.354  b80a4143-524f-4b75-95ef-db54a2e2124f     BUY                                         BTC  155947               not found           0.05593391 2022-10-24\n",
            "13      62f4691b6a40210009458738              1000               CA     148368.USA               not found  27946.770809993155         bc1q3de80zjj7wucf4aal9gau3h6scvkpfnucy0t5c             NaN  +19169754701   869.322034          24322.69   COMPLETE 2022-08-11 02:48:29.145  b530e15d-3850-4500-b699-c9fc2ee07638     BUY                                         BTC  155947               not found           0.03578231 2022-10-24\n",
            "\n",
            "[2874 rows x 20 columns]>\n"
          ]
        }
      ]
    },
    {
      "cell_type": "code",
      "source": [
        "# CUT AND PRINT\n",
        "master.to_csv('surety location transactions.csv')\n",
        "files.download('surety location transactions.csv')"
      ],
      "metadata": {
        "id": "tCq8tZzmwo2o",
        "colab": {
          "base_uri": "https://localhost:8080/",
          "height": 17
        },
        "outputId": "f45f3749-11d9-4ede-ad2b-51e1caa42e09"
      },
      "execution_count": null,
      "outputs": [
        {
          "output_type": "display_data",
          "data": {
            "text/plain": [
              "<IPython.core.display.Javascript object>"
            ],
            "application/javascript": [
              "\n",
              "    async function download(id, filename, size) {\n",
              "      if (!google.colab.kernel.accessAllowed) {\n",
              "        return;\n",
              "      }\n",
              "      const div = document.createElement('div');\n",
              "      const label = document.createElement('label');\n",
              "      label.textContent = `Downloading \"${filename}\": `;\n",
              "      div.appendChild(label);\n",
              "      const progress = document.createElement('progress');\n",
              "      progress.max = size;\n",
              "      div.appendChild(progress);\n",
              "      document.body.appendChild(div);\n",
              "\n",
              "      const buffers = [];\n",
              "      let downloaded = 0;\n",
              "\n",
              "      const channel = await google.colab.kernel.comms.open(id);\n",
              "      // Send a message to notify the kernel that we're ready.\n",
              "      channel.send({})\n",
              "\n",
              "      for await (const message of channel.messages) {\n",
              "        // Send a message to notify the kernel that we're ready.\n",
              "        channel.send({})\n",
              "        if (message.buffers) {\n",
              "          for (const buffer of message.buffers) {\n",
              "            buffers.push(buffer);\n",
              "            downloaded += buffer.byteLength;\n",
              "            progress.value = downloaded;\n",
              "          }\n",
              "        }\n",
              "      }\n",
              "      const blob = new Blob(buffers, {type: 'application/binary'});\n",
              "      const a = document.createElement('a');\n",
              "      a.href = window.URL.createObjectURL(blob);\n",
              "      a.download = filename;\n",
              "      div.appendChild(a);\n",
              "      a.click();\n",
              "      div.remove();\n",
              "    }\n",
              "  "
            ]
          },
          "metadata": {}
        },
        {
          "output_type": "display_data",
          "data": {
            "text/plain": [
              "<IPython.core.display.Javascript object>"
            ],
            "application/javascript": [
              "download(\"download_05955dcf-377c-4d08-8980-8187cd79c759\", \"surety location transactions.csv\", 19194945)"
            ]
          },
          "metadata": {}
        }
      ]
    }
  ]
}