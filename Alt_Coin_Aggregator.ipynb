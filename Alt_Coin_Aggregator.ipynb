{
  "nbformat": 4,
  "nbformat_minor": 0,
  "metadata": {
    "colab": {
      "name": "Alt Coin Aggregator.ipynb",
      "provenance": [],
      "authorship_tag": "ABX9TyNox8ZeP8jrJPqEdvzJkLUp",
      "include_colab_link": true
    },
    "kernelspec": {
      "name": "python3",
      "display_name": "Python 3"
    },
    "language_info": {
      "name": "python"
    }
  },
  "cells": [
    {
      "cell_type": "markdown",
      "metadata": {
        "id": "view-in-github",
        "colab_type": "text"
      },
      "source": [
        "<a href=\"https://colab.research.google.com/github/EvanWAppel/work-examples/blob/main/Alt_Coin_Aggregator.ipynb\" target=\"_parent\"><img src=\"https://colab.research.google.com/assets/colab-badge.svg\" alt=\"Open In Colab\"/></a>"
      ]
    },
    {
      "cell_type": "code",
      "execution_count": null,
      "metadata": {
        "id": "4BCjkqFgw3uT"
      },
      "outputs": [],
      "source": [
        "# Import Dependencies\n",
        "import os\n",
        "import pandas as pd\n",
        "%load_ext google.colab.data_table\n",
        "from google.colab import data_table\n",
        "import numpy as np\n",
        "from google.colab import files\n",
        "import datetime as datetime\n",
        "import plotly.express as px\n",
        "# For dealing with big tables\n",
        "pd.set_option('display.max_columns', None)\n",
        "pd.set_option('display.width', 800)"
      ]
    },
    {
      "cell_type": "code",
      "source": [
        "# Import Base Data Frames\n",
        "data = pd.read_csv(\"trimmed_orders.csv\", parse_dates=True)\n",
        "vis = pd.read_csv(\"visionData (11).csv\", parse_dates=True)\n",
        "print(vis.head())"
      ],
      "metadata": {
        "id": "0ZrqRf8XxALD",
        "colab": {
          "base_uri": "https://localhost:8080/"
        },
        "outputId": "c3b68720-40c2-48fb-a09a-7d57738e25bc"
      },
      "execution_count": null,
      "outputs": [
        {
          "output_type": "stream",
          "name": "stderr",
          "text": [
            "/usr/local/lib/python3.7/dist-packages/IPython/core/interactiveshell.py:2882: DtypeWarning: Columns (25,28,38,39,41,42,44) have mixed types.Specify dtype option on import or set low_memory=False.\n",
            "  exec(code_obj, self.user_global_ns, self.user_ns)\n"
          ]
        },
        {
          "output_type": "stream",
          "name": "stdout",
          "text": [
            "   Transaction Id  Customer Id   Machine Id Kind        Status Location Id State  Amount Deposited USD  Actual Amount BTC  Amount Deposited BTC  Requested Amount USD  Actual Amount USD  Amount to be Refunded  Alt Coins Amount Alt Coins Currency  Spot Price  Transaction Price Promo Code  Margin Percentage                              Wallet Address                                      Blockchain ID  Network Fees  Mining Fees BTC           Cash Timestamp Sell Timestamp       Complete Timestamp  Gross Revenue  Transaction Gross Profit  Mining Fee USD  Machine Gross Profit  Refund Amount USD  Refund Amount BTC  KYC Tier\n",
            "0  161072909163bc  17024459814  Vision01_HQ  BUY      COMPLETE       00000    NV                 100.0           0.002788                   NaN                   NaN                NaN                    NaN               NaN                NaN         NaN          35873.320        NaN                NaN          1646yseYmhkzVGxCEHhPoP3yFNXSjagvNr  00000000000000000003e4850e23793b5541ef8b19bdf4...           NaN          29448.0  01/15/2021 16:44:51 UTC            NaN  01/15/2021 16:58:28 UTC          100.0                       NaN             NaN                   NaN                NaN                NaN       NaN\n",
            "1  16110187037231  17022393919  Vision01_HQ  BUY      COMPLETE       00000    NV                  20.0           0.000544                   NaN                   NaN                NaN                    NaN               NaN                NaN         NaN          36791.575        NaN                NaN          1NttHWQKkHzjCUQrCp4uDi5Szsf4ueRbZ2  00000000000000000002f73400444edd477b7f0fac657e...           NaN          18876.0  01/19/2021 01:11:43 UTC            NaN  01/19/2021 01:38:28 UTC           20.0                       NaN             NaN                   NaN                NaN                NaN       NaN\n",
            "2  16110842886034  19726532859  Vision01_HQ  BUY  NEEDS_REFUND       00000    NV                  10.0           0.000272                   NaN                   NaN                NaN                   10.0               NaN                NaN         NaN          36731.985        NaN                NaN  tb1qrzp87n0ygywz27flpv6pw0jr6hdsuxqlph7665                                                NaN           NaN              NaN  01/19/2021 19:24:48 UTC            NaN  01/19/2021 19:25:09 UTC           10.0                       NaN             NaN                   NaN                NaN                NaN       NaN\n",
            "3  16111676799d03  17024459814  Vision01_HQ  BUY      COMPLETE       00000    NV                 150.0           0.004282                   NaN                   NaN                NaN                    NaN               NaN                NaN         NaN          35028.065        NaN                NaN          1FcLrSyor8B4S9VgTENxxxm91iC8c32K1e  0000000000000000000755fceb6639dc61772b2e820641...           NaN          19825.0  01/20/2021 18:34:39 UTC            NaN  01/20/2021 18:48:29 UTC          150.0                       NaN             NaN                   NaN                NaN                NaN       NaN\n",
            "4  1611362233d1b6  17023361694   141998.USA  BUY      COMPLETE      101418    UT                 160.0           0.004911                   NaN                   NaN                NaN                    NaN               NaN                NaN         NaN          32580.405        NaN                NaN  bc1q283psu7ec09cyj6vag8tnltmjunlveapheg73c  00000000000000000004ef97321bbeaecb52d101cf1fc7...           NaN          22737.0  01/23/2021 00:37:13 UTC            NaN  01/23/2021 01:38:29 UTC          160.0                       NaN             NaN                   NaN                NaN                NaN       NaN\n"
          ]
        }
      ]
    },
    {
      "cell_type": "code",
      "source": [
        "data = data[[\"ID\",\"Short.Code\",\"Key\",\"Customer.ID\",\"BTM.Machine.Name\",\"Kind\",\"State\",\"Amount.Deposited\",\"Deposit.Currency\",\"Requested.Withdrawal.Amount\",\"Actual.Withdrawal.Amount\",\"Withdrawal.Currency\",\"Withdrawal.Address\",\"Price\",\"Spot.Price\",\"Margin.Percentage\",\"Blockchain.ID\",\"CloudWallet.Network.Fee\",\"Key.Org\",\"Key.Product\",\"KYC.Level\",\"KYC.Limit.Deposit\",\"KYC.Limit.Withdraw\",\"KYC.Limit.Txns\",\"Bitaccess.Fee\",\"Trade.ID\",\"Trade.Exchange.Name\",\"Trade.Type\",\"Trade.Status\",\"Trade.Price\",\"Trade.Amount.Out\",\"Trade.Amount.In\",\"Trade.Details.Fee\",\"Duration\",\"Created.At\",\"Reference.Order\",\"BTM.Reference.Transaction.ID\",\"Mining.Fee\",\"Location.ID\",\"Promo.Code\",\"Promo.Discount\",\"Altcoin.selected\",\"Altcoin.address\",\"Completed.At\",\"Closed.At\"]]\n",
        "data2 = data[['ID','Customer.ID','BTM.Machine.Name','Kind','State','Amount.Deposited','Deposit.Currency','Actual.Withdrawal.Amount','Withdrawal.Currency','Margin.Percentage','KYC.Level','Created.At','Location.ID','Promo.Code']]\n",
        "data2 = data2[(data2['Created.At']>='2017')&(data2['Created.At']<'2021')]\n",
        "data3 = data[(data['Completed.At']>='2021')&(data['Completed.At']<'2022')]\n",
        "data3 = data3[data3['Altcoin.selected'].notnull()]\n",
        "data3 = data3[(data3['State']=='completed')]\n",
        "data3 = data3[['Kind','Amount.Deposited','Deposit.Currency','Actual.Withdrawal.Amount','Withdrawal.Currency','Altcoin.selected','Created.At']]\n",
        "basell = data3[data3['Kind']=='btmsell']\n",
        "basell = basell.groupby(['Altcoin.selected','Created.At'],as_index=False).agg({'Actual.Withdrawal.Amount':sum, 'Withdrawal.Currency':np.size})\n",
        "basell = basell.rename(columns={'Altcoin.selected':'currency','Actual.Withdrawal.Amount':'dollars','Withdrawal.Currency':'count','Created.At':'date'})\n",
        "basell = basell.assign(type='sell')\n",
        "basell = basell.assign(os='ba')\n",
        "babuy = data3[data3['Kind']=='btmbuy']\n",
        "babuy = babuy.groupby(['Altcoin.selected','Created.At'],as_index=False).agg({'Amount.Deposited':sum,'Deposit.Currency':np.size})\n",
        "babuy = babuy.rename(columns={'Altcoin.selected':'currency','Amount.Deposited':'dollars','Deposit.Currency':'count','Created.At':'date'})\n",
        "babuy = babuy.assign(type='buy')\n",
        "babuy = babuy.assign(os='ba')\n",
        "print(basell.head())"
      ],
      "metadata": {
        "colab": {
          "base_uri": "https://localhost:8080/"
        },
        "id": "_KujQRZhoFV7",
        "outputId": "9d1f760a-e2b2-44c7-c804-bc4d344dd9d6"
      },
      "execution_count": null,
      "outputs": [
        {
          "output_type": "stream",
          "name": "stdout",
          "text": [
            "  currency                 date  dollars  count  type  os\n",
            "0      ADA  2021-08-09 19:19:48    900.0      1  sell  ba\n",
            "1      ADA  2021-08-14 17:40:37    600.0      1  sell  ba\n",
            "2      ADA  2021-08-28 15:48:39    180.0      1  sell  ba\n",
            "3      ADA  2021-09-08 17:04:07    180.0      1  sell  ba\n",
            "4      ADA  2021-09-09 02:27:23    200.0      1  sell  ba\n"
          ]
        }
      ]
    },
    {
      "cell_type": "code",
      "source": [
        "visdata = vis[(vis['Status']=='COMPLETE')&(vis['Alt Coins Currency'].notnull())]\n",
        "visdata = visdata[['Kind','Amount Deposited USD','Actual Amount USD','Alt Coins Amount','Alt Coins Currency','Complete Timestamp']]\n",
        "visbuy = visdata[visdata['Kind']=='BUY']\n",
        "visbuy = visbuy.groupby(['Alt Coins Currency','Complete Timestamp'],as_index=False).agg({'Amount Deposited USD':sum,'Kind':np.size})\n",
        "visbuy = visbuy.rename(columns={'Alt Coins Currency': 'currency','Amount Deposited USD': 'dollars','Kind':'count','Complete Timestamp':'date'})\n",
        "visbuy = visbuy.assign(type='buy')\n",
        "visbuy = visbuy.assign(os='vis')\n",
        "vissell = visdata[visdata['Kind']=='SELL']\n",
        "vissell = vissell.groupby(['Alt Coins Currency','Complete Timestamp'],as_index=False).agg({'Actual Amount USD':sum,'Kind':np.size})\n",
        "vissell = vissell.rename(columns={'Alt Coins Currency': 'currency','Actual Amount USD': 'dollars','Kind':'count','Complete Timestamp':'date'})\n",
        "vissell = vissell.assign(type='buy')\n",
        "vissell = vissell.assign(os='vis')\n",
        "print(vissell.head())"
      ],
      "metadata": {
        "colab": {
          "base_uri": "https://localhost:8080/"
        },
        "id": "ylzvQw7E-wme",
        "outputId": "0906f9d0-dd4b-43a8-e379-afec534546be"
      },
      "execution_count": null,
      "outputs": [
        {
          "output_type": "stream",
          "name": "stdout",
          "text": [
            "  currency                     date  dollars  count type   os\n",
            "0      BCH  04/01/2021 20:06:37 UTC    150.0      1  buy  vis\n",
            "1      BCH  12/22/2021 11:30:11 UTC     80.0      1  buy  vis\n",
            "2      BCH  12/22/2021 11:39:51 UTC    100.0      1  buy  vis\n",
            "3      BCH  12/22/2021 20:37:29 UTC    220.0      1  buy  vis\n",
            "4     DOGE  12/01/2021 17:34:29 UTC   1000.0      1  buy  vis\n"
          ]
        }
      ]
    },
    {
      "cell_type": "code",
      "source": [
        "vissell['date'] = pd.to_datetime(vissell['date']).dt.date\n",
        "visbuy['date'] = pd.to_datetime(visbuy['date']).dt.date\n",
        "basell['date'] = pd.to_datetime(basell['date']).dt.date\n",
        "babuy['date'] = pd.to_datetime(babuy['date']).dt.date\n",
        "\n",
        "table = pd.concat([babuy,basell,visbuy,vissell])\n",
        "table = table.groupby(['currency','os','type','date'],as_index=False).agg({'dollars':sum,'count':sum})\n",
        "\n"
      ],
      "metadata": {
        "id": "iXON3gyMC1HK"
      },
      "execution_count": null,
      "outputs": []
    },
    {
      "cell_type": "code",
      "source": [
        "table.to_csv('Yan Request.csv',index=False)\n",
        "files.download('Yan Request.csv')"
      ],
      "metadata": {
        "colab": {
          "base_uri": "https://localhost:8080/",
          "height": 17
        },
        "id": "qVQfm8pQIpw3",
        "outputId": "4ede9665-c27c-4298-d4ef-3613751142ed"
      },
      "execution_count": null,
      "outputs": [
        {
          "output_type": "display_data",
          "data": {
            "text/plain": [
              "<IPython.core.display.Javascript object>"
            ],
            "application/javascript": [
              "\n",
              "    async function download(id, filename, size) {\n",
              "      if (!google.colab.kernel.accessAllowed) {\n",
              "        return;\n",
              "      }\n",
              "      const div = document.createElement('div');\n",
              "      const label = document.createElement('label');\n",
              "      label.textContent = `Downloading \"${filename}\": `;\n",
              "      div.appendChild(label);\n",
              "      const progress = document.createElement('progress');\n",
              "      progress.max = size;\n",
              "      div.appendChild(progress);\n",
              "      document.body.appendChild(div);\n",
              "\n",
              "      const buffers = [];\n",
              "      let downloaded = 0;\n",
              "\n",
              "      const channel = await google.colab.kernel.comms.open(id);\n",
              "      // Send a message to notify the kernel that we're ready.\n",
              "      channel.send({})\n",
              "\n",
              "      for await (const message of channel.messages) {\n",
              "        // Send a message to notify the kernel that we're ready.\n",
              "        channel.send({})\n",
              "        if (message.buffers) {\n",
              "          for (const buffer of message.buffers) {\n",
              "            buffers.push(buffer);\n",
              "            downloaded += buffer.byteLength;\n",
              "            progress.value = downloaded;\n",
              "          }\n",
              "        }\n",
              "      }\n",
              "      const blob = new Blob(buffers, {type: 'application/binary'});\n",
              "      const a = document.createElement('a');\n",
              "      a.href = window.URL.createObjectURL(blob);\n",
              "      a.download = filename;\n",
              "      div.appendChild(a);\n",
              "      a.click();\n",
              "      div.remove();\n",
              "    }\n",
              "  "
            ]
          },
          "metadata": {}
        },
        {
          "output_type": "display_data",
          "data": {
            "text/plain": [
              "<IPython.core.display.Javascript object>"
            ],
            "application/javascript": [
              "download(\"download_ca8c5cbb-1797-4862-9522-6caa8ce1b1c1\", \"Yan Request.csv\", 98298)"
            ]
          },
          "metadata": {}
        }
      ]
    }
  ]
}