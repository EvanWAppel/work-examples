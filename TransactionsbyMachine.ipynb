{
  "nbformat": 4,
  "nbformat_minor": 0,
  "metadata": {
    "colab": {
      "name": "TransactionsbyMachine.ipynb",
      "provenance": [],
      "authorship_tag": "ABX9TyPX9uHRD5O6N4Jr/RFewPxK",
      "include_colab_link": true
    },
    "kernelspec": {
      "name": "python3",
      "display_name": "Python 3"
    },
    "language_info": {
      "name": "python"
    }
  },
  "cells": [
    {
      "cell_type": "markdown",
      "metadata": {
        "id": "view-in-github",
        "colab_type": "text"
      },
      "source": [
        "<a href=\"https://colab.research.google.com/github/EvanWAppel/work-examples/blob/main/TransactionsbyMachine.ipynb\" target=\"_parent\"><img src=\"https://colab.research.google.com/assets/colab-badge.svg\" alt=\"Open In Colab\"/></a>"
      ]
    },
    {
      "cell_type": "code",
      "execution_count": null,
      "metadata": {
        "id": "w0_qwxhL26Nr"
      },
      "outputs": [],
      "source": [
        "import pandas as pd\n",
        "from google.colab import files \n",
        "import plotly.express as px\n",
        "import datetime as datetime\n",
        "import numpy as np\n",
        "pd.set_option('display.max_columns', None)\n",
        "pd.set_option('display.width', 800)"
      ]
    },
    {
      "cell_type": "code",
      "source": [
        "machineList = pd.read_csv(\"machineList.csv\")\n",
        "transSums = pd.read_csv(\"transSums.csv\")\n",
        "transSums['yearmonth'] = pd.to_datetime(transSums['completion_datetime']).dt.strftime(\"%Y-%m\")\n",
        "print(machineList.count())"
      ],
      "metadata": {
        "colab": {
          "base_uri": "https://localhost:8080/"
        },
        "id": "NEh4CgYI27AK",
        "outputId": "30fbbf96-8be4-491f-adc4-6e7d44d8232a"
      },
      "execution_count": null,
      "outputs": [
        {
          "output_type": "stream",
          "name": "stdout",
          "text": [
            "CC#    2925\n",
            "dtype: int64\n"
          ]
        }
      ]
    },
    {
      "cell_type": "code",
      "source": [
        "machineList = machineList.rename(columns={'CC#':'machine_id'})\n",
        "transSum = transSums.groupby(['machine_id','yearmonth'],as_index=False).agg({'total':sum})\n",
        "table = pd.merge(machineList,transSum,how='left',on='machine_id')\n",
        "include = ['2022-04','2022-05','2022-06']\n",
        "table = table[table['yearmonth'].isin(include)]\n",
        "table = table.groupby(['machine_id'],as_index = False).agg({'total':np.mean})\n",
        "table['total'] = table['total'].round(2)\n",
        "table = table[table['total']>=5000]\n",
        "print(table)"
      ],
      "metadata": {
        "colab": {
          "base_uri": "https://localhost:8080/"
        },
        "id": "7BDiwoHW-EKC",
        "outputId": "61831e52-b399-4b4d-b200-7bd1e3812c88"
      },
      "execution_count": null,
      "outputs": [
        {
          "output_type": "stream",
          "name": "stdout",
          "text": [
            "        machine_id     total\n",
            "1       141998.USA  22676.67\n",
            "3       142108.USA  10001.67\n",
            "4       142160.USA  61099.00\n",
            "5       142161.USA  30598.67\n",
            "6       142192.USA  26604.00\n",
            "...            ...       ...\n",
            "2570  coincloud973  18274.67\n",
            "2571  coincloud975  16160.00\n",
            "2573  coincloud981  23244.33\n",
            "2576  coincloud988  14649.00\n",
            "2578  coincloud990   9055.67\n",
            "\n",
            "[1069 rows x 2 columns]\n"
          ]
        }
      ]
    },
    {
      "cell_type": "code",
      "source": [
        "table.to_csv('machine list.csv')\n",
        "files.download('machine list.csv')"
      ],
      "metadata": {
        "colab": {
          "base_uri": "https://localhost:8080/",
          "height": 17
        },
        "id": "txTITKMpBBuh",
        "outputId": "eb247c74-5c21-4c22-f0bf-9c8434485ebc"
      },
      "execution_count": null,
      "outputs": [
        {
          "output_type": "display_data",
          "data": {
            "text/plain": [
              "<IPython.core.display.Javascript object>"
            ],
            "application/javascript": [
              "\n",
              "    async function download(id, filename, size) {\n",
              "      if (!google.colab.kernel.accessAllowed) {\n",
              "        return;\n",
              "      }\n",
              "      const div = document.createElement('div');\n",
              "      const label = document.createElement('label');\n",
              "      label.textContent = `Downloading \"${filename}\": `;\n",
              "      div.appendChild(label);\n",
              "      const progress = document.createElement('progress');\n",
              "      progress.max = size;\n",
              "      div.appendChild(progress);\n",
              "      document.body.appendChild(div);\n",
              "\n",
              "      const buffers = [];\n",
              "      let downloaded = 0;\n",
              "\n",
              "      const channel = await google.colab.kernel.comms.open(id);\n",
              "      // Send a message to notify the kernel that we're ready.\n",
              "      channel.send({})\n",
              "\n",
              "      for await (const message of channel.messages) {\n",
              "        // Send a message to notify the kernel that we're ready.\n",
              "        channel.send({})\n",
              "        if (message.buffers) {\n",
              "          for (const buffer of message.buffers) {\n",
              "            buffers.push(buffer);\n",
              "            downloaded += buffer.byteLength;\n",
              "            progress.value = downloaded;\n",
              "          }\n",
              "        }\n",
              "      }\n",
              "      const blob = new Blob(buffers, {type: 'application/binary'});\n",
              "      const a = document.createElement('a');\n",
              "      a.href = window.URL.createObjectURL(blob);\n",
              "      a.download = filename;\n",
              "      div.appendChild(a);\n",
              "      a.click();\n",
              "      div.remove();\n",
              "    }\n",
              "  "
            ]
          },
          "metadata": {}
        },
        {
          "output_type": "display_data",
          "data": {
            "text/plain": [
              "<IPython.core.display.Javascript object>"
            ],
            "application/javascript": [
              "download(\"download_af646345-b08b-4550-9edb-4a397b785b46\", \"machine list.csv\", 28137)"
            ]
          },
          "metadata": {}
        }
      ]
    }
  ]
}