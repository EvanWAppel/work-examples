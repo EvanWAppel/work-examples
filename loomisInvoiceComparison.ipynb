{
  "nbformat": 4,
  "nbformat_minor": 0,
  "metadata": {
    "colab": {
      "name": "loomisInvoiceComparison.ipynb",
      "provenance": [],
      "collapsed_sections": [],
      "authorship_tag": "ABX9TyPrdaTYzrwbwdgEfD6WmbjV",
      "include_colab_link": true
    },
    "kernelspec": {
      "name": "python3",
      "display_name": "Python 3"
    },
    "language_info": {
      "name": "python"
    }
  },
  "cells": [
    {
      "cell_type": "markdown",
      "metadata": {
        "id": "view-in-github",
        "colab_type": "text"
      },
      "source": [
        "<a href=\"https://colab.research.google.com/github/EvanWAppel/work-examples/blob/main/loomisInvoiceComparison.ipynb\" target=\"_parent\"><img src=\"https://colab.research.google.com/assets/colab-badge.svg\" alt=\"Open In Colab\"/></a>"
      ]
    },
    {
      "cell_type": "code",
      "execution_count": null,
      "metadata": {
        "id": "r3w8MXD3OikI"
      },
      "outputs": [],
      "source": [
        "import pandas as pd\n",
        "from google.colab import files \n",
        "import plotly.express as px\n",
        "import datetime as datetime\n",
        "import numpy as np\n",
        "pd.set_option('display.max_columns', None)\n",
        "pd.set_option('display.width', 800)"
      ]
    },
    {
      "cell_type": "code",
      "source": [
        "loomis = pd.read_csv(\"loomis.csv\", encoding = 'unicode_escape')\n",
        "decreased = pd.read_csv(\"decreased.csv\")\n",
        "paused = pd.read_csv(\"paused.csv\")"
      ],
      "metadata": {
        "id": "9XGRtp-jOmh1"
      },
      "execution_count": null,
      "outputs": []
    },
    {
      "cell_type": "code",
      "source": [
        "# LIDs and totals\n",
        "\n",
        "loom = loomis[['DESC_CODE','AMT','TAX','FURTHER_DESC1','FURTHER_DESC2']]\n",
        "loom = loom.assign(total = loom['AMT'] + loom['TAX'])\n",
        "loom = loom.rename(columns={'DESC_CODE':'description',\n",
        "                                'FURTHER_DESC1':'date',\n",
        "                                'FURTHER_DESC2':'lid'})\n",
        "\n",
        "print(loom.head())\n",
        "loo = loom.groupby(['lid'],as_index=False).agg({'total':sum,'date':np.size})\n",
        "loo = loo.assign(visits=loo['date']/3)\n",
        "loo = loo[['lid','total','visits']]\n",
        "print(loo.head())"
      ],
      "metadata": {
        "colab": {
          "base_uri": "https://localhost:8080/"
        },
        "id": "dz3cFytHUbAn",
        "outputId": "40019019-6208-4d00-c5da-076fac363b79"
      },
      "execution_count": null,
      "outputs": [
        {
          "output_type": "stream",
          "name": "stdout",
          "text": [
            "        description   AMT  TAX       date         lid  total\n",
            "0  ATM DEPOSIT PULL  30.0  0.0  5/20/2022      101629   30.0\n",
            "1          FUEL FEE   6.3  0.0  5/20/2022      101629    6.3\n",
            "2     INSURANCE FEE   2.1  0.0  5/20/2022      101629    2.1\n",
            "3  ATM DEPOSIT PULL  30.0  0.0   5/4/2022      101631   30.0\n",
            "4          FUEL FEE   6.3  0.0   5/4/2022      101631    6.3\n",
            "          lid   total  visits\n",
            "0      101415  179.20     4.0\n",
            "1      101416  115.20     3.0\n",
            "2      101428   41.56     1.0\n",
            "3      101436  307.20     8.0\n",
            "4      101444  331.88     4.0\n"
          ]
        }
      ]
    },
    {
      "cell_type": "code",
      "source": [
        "\n",
        "# Paused list\n",
        "paus = paused[['Date Sent','LID']]\n",
        "paus = paus.rename(columns={'Date Sent':'date paused', 'LID':'lid'})\n",
        "paus = paus.sort_values(by=['date paused'])\n",
        "paus = paus.drop_duplicates(keep='last')\n",
        "paus['lid'] = paus['lid'].astype(str)\n",
        "print(paus.head())\n",
        "print(paus.dtypes)"
      ],
      "metadata": {
        "colab": {
          "base_uri": "https://localhost:8080/"
        },
        "id": "eyV8F8QJXSXP",
        "outputId": "9f6b26a4-eb7f-44ee-d8d5-1358de1a3967"
      },
      "execution_count": null,
      "outputs": [
        {
          "output_type": "stream",
          "name": "stdout",
          "text": [
            "     date paused     lid\n",
            "1373   2/15/2022  118013\n",
            "67     2/15/2022  136305\n",
            "66     2/15/2022  136223\n",
            "65     2/15/2022  135122\n",
            "64     2/15/2022  130635\n",
            "date paused    object\n",
            "lid            object\n",
            "dtype: object\n"
          ]
        }
      ]
    },
    {
      "cell_type": "code",
      "source": [
        "# Decreased list\n",
        "decr = decreased[['Date Requested','LID','Current Days','New Days']]\n",
        "decr['LID'] = decr['LID'].astype(str)\n",
        "decr['LID'] = decr['LID'].str.replace('\\.0','')\n",
        "decr = decr.rename(columns={'LID':'lid'})\n",
        "decr = decr.assign(newcount=decr['New Days'].str.count(',') + 1)\n",
        "\n",
        "print(decr.head())\n",
        "print(decr.dtypes)\n"
      ],
      "metadata": {
        "colab": {
          "base_uri": "https://localhost:8080/"
        },
        "id": "cpVoXEY5eY_1",
        "outputId": "5b2eb3d6-fdd0-497e-f63b-861401adb8e0"
      },
      "execution_count": null,
      "outputs": [
        {
          "output_type": "stream",
          "name": "stdout",
          "text": [
            "  Date Requested     lid Current Days New Days  newcount\n",
            "0       2/2/2022  130479          T,F        T       1.0\n",
            "1       2/2/2022  134821          T,F        T       1.0\n",
            "2       2/2/2022  126248          T,F        T       1.0\n",
            "3       2/2/2022  101429          T,F        T       1.0\n",
            "4       2/2/2022  101430        M,W,F      M,F       2.0\n",
            "Date Requested     object\n",
            "lid                object\n",
            "Current Days       object\n",
            "New Days           object\n",
            "newcount          float64\n",
            "dtype: object\n"
          ]
        },
        {
          "output_type": "stream",
          "name": "stderr",
          "text": [
            "/usr/local/lib/python3.7/dist-packages/ipykernel_launcher.py:3: SettingWithCopyWarning: \n",
            "A value is trying to be set on a copy of a slice from a DataFrame.\n",
            "Try using .loc[row_indexer,col_indexer] = value instead\n",
            "\n",
            "See the caveats in the documentation: https://pandas.pydata.org/pandas-docs/stable/user_guide/indexing.html#returning-a-view-versus-a-copy\n",
            "  This is separate from the ipykernel package so we can avoid doing imports until\n",
            "/usr/local/lib/python3.7/dist-packages/ipykernel_launcher.py:4: FutureWarning: The default value of regex will change from True to False in a future version.\n",
            "  after removing the cwd from sys.path.\n",
            "/usr/local/lib/python3.7/dist-packages/ipykernel_launcher.py:4: SettingWithCopyWarning: \n",
            "A value is trying to be set on a copy of a slice from a DataFrame.\n",
            "Try using .loc[row_indexer,col_indexer] = value instead\n",
            "\n",
            "See the caveats in the documentation: https://pandas.pydata.org/pandas-docs/stable/user_guide/indexing.html#returning-a-view-versus-a-copy\n",
            "  after removing the cwd from sys.path.\n"
          ]
        }
      ]
    },
    {
      "cell_type": "code",
      "source": [
        "loo['lid'] = loo['lid'].str.extract('(\\d+)')\n",
        "paus['lid'] = paus['lid'].str.extract('(\\d+)')\n",
        "decr['lid'] = decr['lid'].str.extract('(\\d+)')\n",
        "table = pd.merge(loo,paus,on='lid',how='left')\n",
        "table = pd.merge(table,decr,on='lid',how='left')\n",
        "table = table.sort_values(by=['Date Requested'])\n",
        "table = table.drop_duplicates(subset=['lid'],keep='last')\n",
        "print(table.head())"
      ],
      "metadata": {
        "colab": {
          "base_uri": "https://localhost:8080/"
        },
        "id": "n7Q-7gu0mAMQ",
        "outputId": "f5f03b51-0036-496e-addf-b387da17dc26"
      },
      "execution_count": null,
      "outputs": [
        {
          "output_type": "stream",
          "name": "stdout",
          "text": [
            "         lid   total  visits date paused Date Requested Current Days New Days  newcount\n",
            "834   118016  153.60     4.0    3/7/2022       2/2/2022          T,F        T       1.0\n",
            "1228  122704  335.10     5.0         NaN       2/8/2022          T,F        T       1.0\n",
            "1488  124710  179.20     4.0   2/24/2022       2/8/2022          M,W        M       1.0\n",
            "1458  124550  614.40     4.0   2/24/2022       2/8/2022         M,SA        M       1.0\n",
            "1441  124428  110.84     1.0    3/7/2022       2/8/2022         M,SA        M       1.0\n"
          ]
        }
      ]
    },
    {
      "cell_type": "code",
      "source": [
        "table.to_csv('loomis_reconciliation.csv')\n",
        "files.download('loomis_reconciliation.csv')"
      ],
      "metadata": {
        "id": "HBVmc-3Umz3t",
        "colab": {
          "base_uri": "https://localhost:8080/",
          "height": 17
        },
        "outputId": "343314a5-5d47-4163-bbfb-2f8596930e75"
      },
      "execution_count": null,
      "outputs": [
        {
          "output_type": "display_data",
          "data": {
            "text/plain": [
              "<IPython.core.display.Javascript object>"
            ],
            "application/javascript": [
              "\n",
              "    async function download(id, filename, size) {\n",
              "      if (!google.colab.kernel.accessAllowed) {\n",
              "        return;\n",
              "      }\n",
              "      const div = document.createElement('div');\n",
              "      const label = document.createElement('label');\n",
              "      label.textContent = `Downloading \"${filename}\": `;\n",
              "      div.appendChild(label);\n",
              "      const progress = document.createElement('progress');\n",
              "      progress.max = size;\n",
              "      div.appendChild(progress);\n",
              "      document.body.appendChild(div);\n",
              "\n",
              "      const buffers = [];\n",
              "      let downloaded = 0;\n",
              "\n",
              "      const channel = await google.colab.kernel.comms.open(id);\n",
              "      // Send a message to notify the kernel that we're ready.\n",
              "      channel.send({})\n",
              "\n",
              "      for await (const message of channel.messages) {\n",
              "        // Send a message to notify the kernel that we're ready.\n",
              "        channel.send({})\n",
              "        if (message.buffers) {\n",
              "          for (const buffer of message.buffers) {\n",
              "            buffers.push(buffer);\n",
              "            downloaded += buffer.byteLength;\n",
              "            progress.value = downloaded;\n",
              "          }\n",
              "        }\n",
              "      }\n",
              "      const blob = new Blob(buffers, {type: 'application/binary'});\n",
              "      const a = document.createElement('a');\n",
              "      a.href = window.URL.createObjectURL(blob);\n",
              "      a.download = filename;\n",
              "      div.appendChild(a);\n",
              "      a.click();\n",
              "      div.remove();\n",
              "    }\n",
              "  "
            ]
          },
          "metadata": {}
        },
        {
          "output_type": "display_data",
          "data": {
            "text/plain": [
              "<IPython.core.display.Javascript object>"
            ],
            "application/javascript": [
              "download(\"download_2e18f08d-3b45-4a1c-86b5-cbaf741b7698\", \"loomis_reconciliation.csv\", 65383)"
            ]
          },
          "metadata": {}
        }
      ]
    }
  ]
}