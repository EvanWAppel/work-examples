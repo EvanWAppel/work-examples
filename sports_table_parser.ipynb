{
 "cells": [
  {
   "attachments": {},
   "cell_type": "markdown",
   "metadata": {},
   "source": [
    "# Convert an HTML table into a pandas dataframe\n",
    "reference: https://stackoverflow.com/questions/56967976/convert-html-table-to-pandas-data-frame-in-python"
   ]
  },
  {
   "cell_type": "code",
   "execution_count": 6,
   "metadata": {},
   "outputs": [],
   "source": [
    "import requests\n",
    "import urllib\n",
    "from bs4 import BeautifulSoup\n",
    "import pandas as pd\n",
    "import html5lib"
   ]
  },
  {
   "cell_type": "code",
   "execution_count": 27,
   "metadata": {},
   "outputs": [],
   "source": [
    "years = ['2018', '2019', '2020', '2021', '2022']\n",
    "full_table = pd.DataFrame()\n",
    "for i in years:\n",
    "    url = \"https://www.pro-football-reference.com/years/{0}/games.htm\".format(i)\n",
    "    page = requests.get(url)\n",
    "    content = page.content\n",
    "    soup = BeautifulSoup(page.content, \"html.parser\")\n",
    "    tbl = soup.find(\"table\")\n",
    "    datastuff = pd.read_html(str(tbl))[0]\n",
    "    full_table = pd.concat([full_table,datastuff])\n",
    "full_table = full_table[(full_table['Week']!='Week')]\n",
    "full_table = full_table[(full_table['Date']!='Playoffs')]"
   ]
  }
 ],
 "metadata": {
  "kernelspec": {
   "display_name": "Python 3",
   "language": "python",
   "name": "python3"
  },
  "language_info": {
   "codemirror_mode": {
    "name": "ipython",
    "version": 3
   },
   "file_extension": ".py",
   "mimetype": "text/x-python",
   "name": "python",
   "nbconvert_exporter": "python",
   "pygments_lexer": "ipython3",
   "version": "3.10.5"
  },
  "orig_nbformat": 4
 },
 "nbformat": 4,
 "nbformat_minor": 2
}
