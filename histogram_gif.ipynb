# Creates an animated gif of a series of histograms
import matplotlib.pyplot as plt
import numpy as np
import imageio
import os
path = r"U:\General Python\gifs\hist_test\images"
data1 = np.random.normal(0, 1, 1000)
data2 = np.random.normal(2, 1, 1000)
data3 = np.random.normal(-5, 1, 1000)
data4 = np.random.normal(6, 1, 1000)
data5 = np.random.normal(-10, 1, 1000)
datas = [data1,data2,data3,data4,data5]
colors = ['red','blue','orange','green','purple']
x=0
for i,ii in zip(datas,colors):
    
    fig, ax = plt.subplots()
    num_bins = 20
    ax.hist(i, bins=num_bins, alpha=0.5, label='Data 1', color=ii)
    #print(str(i))
    plt.savefig(path+'\\'+str(fig)+str(x)+'.jpg')
    x+=1
file_list = os.listdir(path)
file_list = sorted(file_list)
images = []
for file_name in file_list:
    if file_name.endswith(".jpg"):
        file_path = os.path.join(path, file_name)
        images.append(imageio.imread(file_path))
imageio.mimsave(r"U:\General Python\gifs\hist_test\animation.gif", images, duration=0.5)
